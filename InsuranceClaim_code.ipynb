{
  "nbformat": 4,
  "nbformat_minor": 0,
  "metadata": {
    "colab": {
      "provenance": [],
      "gpuType": "T4"
    },
    "kernelspec": {
      "name": "python3",
      "display_name": "Python 3"
    },
    "language_info": {
      "name": "python"
    },
    "widgets": {
      "application/vnd.jupyter.widget-state+json": {
        "2dbf6f8298ac40bf99ee4b2409b6e7db": {
          "model_module": "catboost-widget",
          "model_name": "CatboostWidgetModel",
          "model_module_version": "^1.0.0",
          "state": {
            "_dom_classes": [],
            "_model_module": "catboost-widget",
            "_model_module_version": "^1.0.0",
            "_model_name": "CatboostWidgetModel",
            "_view_count": null,
            "_view_module": "catboost-widget",
            "_view_module_version": "^1.0.0",
            "_view_name": "CatboostWidgetView",
            "data": {
              "catboost_info": {
                "path": "catboost_info",
                "name": "catboost_info",
                "content": {
                  "passed_iterations": 999,
                  "total_iterations": 1000,
                  "data": {
                    "iterations": [
                      {
                        "learn": [
                          0.9812913224
                        ],
                        "iteration": 0,
                        "passed_time": 0.3389254255,
                        "remaining_time": 338.5865,
                        "test": [
                          0.9813637238
                        ]
                      },
                      {
                        "learn": [
                          0.96294841
                        ],
                        "iteration": 1,
                        "passed_time": 0.9059885558,
                        "remaining_time": 452.0882894,
                        "test": [
                          0.9631820204
                        ]
                      },
                      {
                        "learn": [
                          0.9450019539
                        ],
                        "iteration": 2,
                        "passed_time": 1.54203057,
                        "remaining_time": 512.4681594,
                        "test": [
                          0.9452708055
                        ]
                      },
                      {
                        "learn": [
                          0.9273825712
                        ],
                        "iteration": 3,
                        "passed_time": 2.296842573,
                        "remaining_time": 571.9138007,
                        "test": [
                          0.9278316129
                        ]
                      },
                      {
                        "learn": [
                          0.9109024733
                        ],
                        "iteration": 4,
                        "passed_time": 2.952164198,
                        "remaining_time": 587.4806753,
                        "test": [
                          0.9114699766
                        ]
                      },
                      {
                        "learn": [
                          0.8947604749
                        ],
                        "iteration": 5,
                        "passed_time": 3.704296074,
                        "remaining_time": 613.678383,
                        "test": [
                          0.8953835513
                        ]
                      },
                      {
                        "learn": [
                          0.8791365231
                        ],
                        "iteration": 6,
                        "passed_time": 4.5027103,
                        "remaining_time": 638.7416183,
                        "test": [
                          0.8799579954
                        ]
                      },
                      {
                        "learn": [
                          0.8636628811
                        ],
                        "iteration": 7,
                        "passed_time": 5.213754626,
                        "remaining_time": 646.5055736,
                        "test": [
                          0.8646716874
                        ]
                      },
                      {
                        "learn": [
                          0.8489191685
                        ],
                        "iteration": 8,
                        "passed_time": 6.210565938,
                        "remaining_time": 683.8523161,
                        "test": [
                          0.8500231766
                        ]
                      },
                      {
                        "learn": [
                          0.8346605493
                        ],
                        "iteration": 9,
                        "passed_time": 7.067585621,
                        "remaining_time": 699.6909765,
                        "test": [
                          0.8358452759
                        ]
                      },
                      {
                        "learn": [
                          0.8211058116
                        ],
                        "iteration": 10,
                        "passed_time": 8.337056831,
                        "remaining_time": 749.5772005,
                        "test": [
                          0.8223450943
                        ]
                      },
                      {
                        "learn": [
                          0.8079638506
                        ],
                        "iteration": 11,
                        "passed_time": 9.680417991,
                        "remaining_time": 797.0210813,
                        "test": [
                          0.809352994
                        ]
                      },
                      {
                        "learn": [
                          0.7953371082
                        ],
                        "iteration": 12,
                        "passed_time": 10.52579522,
                        "remaining_time": 799.1507604,
                        "test": [
                          0.7968172166
                        ]
                      },
                      {
                        "learn": [
                          0.7832434063
                        ],
                        "iteration": 13,
                        "passed_time": 10.87824803,
                        "remaining_time": 766.1394682,
                        "test": [
                          0.7848298303
                        ]
                      },
                      {
                        "learn": [
                          0.7713693356
                        ],
                        "iteration": 14,
                        "passed_time": 11.80344357,
                        "remaining_time": 775.0927946,
                        "test": [
                          0.7730592106
                        ]
                      },
                      {
                        "learn": [
                          0.7598472527
                        ],
                        "iteration": 15,
                        "passed_time": 12.50262264,
                        "remaining_time": 768.9112923,
                        "test": [
                          0.7616315745
                        ]
                      },
                      {
                        "learn": [
                          0.7483276273
                        ],
                        "iteration": 16,
                        "passed_time": 13.15076949,
                        "remaining_time": 760.4239062,
                        "test": [
                          0.7503377153
                        ]
                      },
                      {
                        "learn": [
                          0.7373781868
                        ],
                        "iteration": 17,
                        "passed_time": 13.71410825,
                        "remaining_time": 748.1807948,
                        "test": [
                          0.7394382883
                        ]
                      },
                      {
                        "learn": [
                          0.7271392721
                        ],
                        "iteration": 18,
                        "passed_time": 14.46572552,
                        "remaining_time": 746.8882491,
                        "test": [
                          0.7292595056
                        ]
                      },
                      {
                        "learn": [
                          0.7171048649
                        ],
                        "iteration": 19,
                        "passed_time": 15.00050917,
                        "remaining_time": 735.0249492,
                        "test": [
                          0.7192375391
                        ]
                      },
                      {
                        "learn": [
                          0.707184171
                        ],
                        "iteration": 20,
                        "passed_time": 15.63886394,
                        "remaining_time": 729.0689428,
                        "test": [
                          0.7094017056
                        ]
                      },
                      {
                        "learn": [
                          0.697307525
                        ],
                        "iteration": 21,
                        "passed_time": 16.37366627,
                        "remaining_time": 727.8838916,
                        "test": [
                          0.6997642205
                        ]
                      },
                      {
                        "learn": [
                          0.6878123993
                        ],
                        "iteration": 22,
                        "passed_time": 17.13668794,
                        "remaining_time": 727.9367009,
                        "test": [
                          0.6904632937
                        ]
                      },
                      {
                        "learn": [
                          0.6788605894
                        ],
                        "iteration": 23,
                        "passed_time": 17.5933436,
                        "remaining_time": 715.4626397,
                        "test": [
                          0.6816442141
                        ]
                      },
                      {
                        "learn": [
                          0.66979565
                        ],
                        "iteration": 24,
                        "passed_time": 18.0374577,
                        "remaining_time": 703.4608503,
                        "test": [
                          0.6727479464
                        ]
                      },
                      {
                        "learn": [
                          0.6614329474
                        ],
                        "iteration": 25,
                        "passed_time": 18.61527421,
                        "remaining_time": 697.3568107,
                        "test": [
                          0.6644838019
                        ]
                      },
                      {
                        "learn": [
                          0.652984191
                        ],
                        "iteration": 26,
                        "passed_time": 19.17244234,
                        "remaining_time": 690.9180146,
                        "test": [
                          0.6562160144
                        ]
                      },
                      {
                        "learn": [
                          0.6450317096
                        ],
                        "iteration": 27,
                        "passed_time": 19.70185732,
                        "remaining_time": 683.935904,
                        "test": [
                          0.6483547035
                        ]
                      },
                      {
                        "learn": [
                          0.637184564
                        ],
                        "iteration": 28,
                        "passed_time": 20.46449206,
                        "remaining_time": 685.2076478,
                        "test": [
                          0.6406839754
                        ]
                      },
                      {
                        "learn": [
                          0.6297244841
                        ],
                        "iteration": 29,
                        "passed_time": 21.25098882,
                        "remaining_time": 687.1153052,
                        "test": [
                          0.6333278131
                        ]
                      },
                      {
                        "learn": [
                          0.6224470813
                        ],
                        "iteration": 30,
                        "passed_time": 21.93004411,
                        "remaining_time": 685.4907335,
                        "test": [
                          0.6261706262
                        ]
                      },
                      {
                        "learn": [
                          0.6152479947
                        ],
                        "iteration": 31,
                        "passed_time": 22.89419683,
                        "remaining_time": 692.549454,
                        "test": [
                          0.6190919055
                        ]
                      },
                      {
                        "learn": [
                          0.6084035677
                        ],
                        "iteration": 32,
                        "passed_time": 23.42198868,
                        "remaining_time": 686.335244,
                        "test": [
                          0.612368195
                        ]
                      },
                      {
                        "learn": [
                          0.6016993343
                        ],
                        "iteration": 33,
                        "passed_time": 24.05659529,
                        "remaining_time": 683.490325,
                        "test": [
                          0.6058101119
                        ]
                      },
                      {
                        "learn": [
                          0.5954145415
                        ],
                        "iteration": 34,
                        "passed_time": 24.56753111,
                        "remaining_time": 677.3619292,
                        "test": [
                          0.5996128335
                        ]
                      },
                      {
                        "learn": [
                          0.5891688977
                        ],
                        "iteration": 35,
                        "passed_time": 25.06279575,
                        "remaining_time": 671.1259752,
                        "test": [
                          0.59346343
                        ]
                      },
                      {
                        "learn": [
                          0.583051896
                        ],
                        "iteration": 36,
                        "passed_time": 25.30162689,
                        "remaining_time": 658.5261269,
                        "test": [
                          0.5874440529
                        ]
                      },
                      {
                        "learn": [
                          0.5768284095
                        ],
                        "iteration": 37,
                        "passed_time": 25.56166655,
                        "remaining_time": 647.1137689,
                        "test": [
                          0.5813950906
                        ]
                      },
                      {
                        "learn": [
                          0.5712518882
                        ],
                        "iteration": 38,
                        "passed_time": 25.8588843,
                        "remaining_time": 637.1894312,
                        "test": [
                          0.5758881247
                        ]
                      },
                      {
                        "learn": [
                          0.5654718968
                        ],
                        "iteration": 39,
                        "passed_time": 26.12060907,
                        "remaining_time": 626.8946177,
                        "test": [
                          0.5702817863
                        ]
                      },
                      {
                        "learn": [
                          0.5601335456
                        ],
                        "iteration": 40,
                        "passed_time": 26.40677616,
                        "remaining_time": 617.6609351,
                        "test": [
                          0.5650194672
                        ]
                      },
                      {
                        "learn": [
                          0.5547299244
                        ],
                        "iteration": 41,
                        "passed_time": 26.68668893,
                        "remaining_time": 608.7106666,
                        "test": [
                          0.5597875239
                        ]
                      },
                      {
                        "learn": [
                          0.5495974808
                        ],
                        "iteration": 42,
                        "passed_time": 26.97438551,
                        "remaining_time": 600.3369055,
                        "test": [
                          0.5547702987
                        ]
                      },
                      {
                        "learn": [
                          0.5447701474
                        ],
                        "iteration": 43,
                        "passed_time": 27.22956609,
                        "remaining_time": 591.6242088,
                        "test": [
                          0.5500271776
                        ]
                      },
                      {
                        "learn": [
                          0.5399470536
                        ],
                        "iteration": 44,
                        "passed_time": 27.51562182,
                        "remaining_time": 583.9426408,
                        "test": [
                          0.5452404343
                        ]
                      },
                      {
                        "learn": [
                          0.5353673561
                        ],
                        "iteration": 45,
                        "passed_time": 27.81352219,
                        "remaining_time": 576.8282645,
                        "test": [
                          0.5407633522
                        ]
                      },
                      {
                        "learn": [
                          0.5309775204
                        ],
                        "iteration": 46,
                        "passed_time": 28.0002282,
                        "remaining_time": 567.7493079,
                        "test": [
                          0.5364407962
                        ]
                      },
                      {
                        "learn": [
                          0.5264676376
                        ],
                        "iteration": 47,
                        "passed_time": 28.26655598,
                        "remaining_time": 560.620027,
                        "test": [
                          0.5320021729
                        ]
                      },
                      {
                        "learn": [
                          0.5222531196
                        ],
                        "iteration": 48,
                        "passed_time": 28.52389628,
                        "remaining_time": 553.5964359,
                        "test": [
                          0.527833908
                        ]
                      },
                      {
                        "learn": [
                          0.5178171493
                        ],
                        "iteration": 49,
                        "passed_time": 28.7727606,
                        "remaining_time": 546.6824513,
                        "test": [
                          0.5236535652
                        ]
                      },
                      {
                        "learn": [
                          0.5136381165
                        ],
                        "iteration": 50,
                        "passed_time": 29.02028047,
                        "remaining_time": 540.0048268,
                        "test": [
                          0.5195627552
                        ]
                      },
                      {
                        "learn": [
                          0.5095050048
                        ],
                        "iteration": 51,
                        "passed_time": 29.29218417,
                        "remaining_time": 534.0190499,
                        "test": [
                          0.5155750259
                        ]
                      },
                      {
                        "learn": [
                          0.5056490056
                        ],
                        "iteration": 52,
                        "passed_time": 29.57444261,
                        "remaining_time": 528.4339086,
                        "test": [
                          0.5117973997
                        ]
                      },
                      {
                        "learn": [
                          0.5018520588
                        ],
                        "iteration": 53,
                        "passed_time": 29.85574347,
                        "remaining_time": 523.0283948,
                        "test": [
                          0.5081214694
                        ]
                      },
                      {
                        "learn": [
                          0.4980640426
                        ],
                        "iteration": 54,
                        "passed_time": 30.13476825,
                        "remaining_time": 517.770109,
                        "test": [
                          0.5044849066
                        ]
                      },
                      {
                        "learn": [
                          0.4944062554
                        ],
                        "iteration": 55,
                        "passed_time": 30.39402039,
                        "remaining_time": 512.3563437,
                        "test": [
                          0.5010216106
                        ]
                      },
                      {
                        "learn": [
                          0.4911105823
                        ],
                        "iteration": 56,
                        "passed_time": 30.5303531,
                        "remaining_time": 505.0898768,
                        "test": [
                          0.4977876984
                        ]
                      },
                      {
                        "learn": [
                          0.4877452706
                        ],
                        "iteration": 57,
                        "passed_time": 30.77001057,
                        "remaining_time": 499.747413,
                        "test": [
                          0.494595419
                        ]
                      },
                      {
                        "learn": [
                          0.4844870169
                        ],
                        "iteration": 58,
                        "passed_time": 31.03400446,
                        "remaining_time": 494.9660711,
                        "test": [
                          0.4914483218
                        ]
                      },
                      {
                        "learn": [
                          0.4814910399
                        ],
                        "iteration": 59,
                        "passed_time": 31.12882369,
                        "remaining_time": 487.6849045,
                        "test": [
                          0.488491657
                        ]
                      },
                      {
                        "learn": [
                          0.4782675554
                        ],
                        "iteration": 60,
                        "passed_time": 31.36876529,
                        "remaining_time": 482.8732886,
                        "test": [
                          0.4854666993
                        ]
                      },
                      {
                        "learn": [
                          0.4754306139
                        ],
                        "iteration": 61,
                        "passed_time": 31.47684753,
                        "remaining_time": 476.2142417,
                        "test": [
                          0.4826675056
                        ]
                      },
                      {
                        "learn": [
                          0.4724366962
                        ],
                        "iteration": 62,
                        "passed_time": 31.70315765,
                        "remaining_time": 471.5215669,
                        "test": [
                          0.4797687909
                        ]
                      },
                      {
                        "learn": [
                          0.469478583
                        ],
                        "iteration": 63,
                        "passed_time": 31.98087843,
                        "remaining_time": 467.720347,
                        "test": [
                          0.4769374196
                        ]
                      },
                      {
                        "learn": [
                          0.4666659101
                        ],
                        "iteration": 64,
                        "passed_time": 32.26753538,
                        "remaining_time": 464.1560859,
                        "test": [
                          0.4742354264
                        ]
                      },
                      {
                        "learn": [
                          0.4641019471
                        ],
                        "iteration": 65,
                        "passed_time": 32.43041589,
                        "remaining_time": 458.9395218,
                        "test": [
                          0.4717286712
                        ]
                      },
                      {
                        "learn": [
                          0.4616228547
                        ],
                        "iteration": 66,
                        "passed_time": 32.54797168,
                        "remaining_time": 453.2426504,
                        "test": [
                          0.469284726
                        ]
                      },
                      {
                        "learn": [
                          0.4591262811
                        ],
                        "iteration": 67,
                        "passed_time": 32.71264956,
                        "remaining_time": 448.3557263,
                        "test": [
                          0.4668294496
                        ]
                      },
                      {
                        "learn": [
                          0.4567538905
                        ],
                        "iteration": 68,
                        "passed_time": 32.90506415,
                        "remaining_time": 443.9799235,
                        "test": [
                          0.4644920766
                        ]
                      },
                      {
                        "learn": [
                          0.4543590379
                        ],
                        "iteration": 69,
                        "passed_time": 33.35482203,
                        "remaining_time": 443.1426355,
                        "test": [
                          0.4622163832
                        ]
                      },
                      {
                        "learn": [
                          0.4519918056
                        ],
                        "iteration": 70,
                        "passed_time": 33.73102311,
                        "remaining_time": 441.3538094,
                        "test": [
                          0.45996311
                        ]
                      },
                      {
                        "learn": [
                          0.4497988935
                        ],
                        "iteration": 71,
                        "passed_time": 34.0331688,
                        "remaining_time": 438.6497311,
                        "test": [
                          0.4578072384
                        ]
                      },
                      {
                        "learn": [
                          0.4474773949
                        ],
                        "iteration": 72,
                        "passed_time": 34.54622464,
                        "remaining_time": 438.6897293,
                        "test": [
                          0.4555616272
                        ]
                      },
                      {
                        "learn": [
                          0.4451846815
                        ],
                        "iteration": 73,
                        "passed_time": 34.98968126,
                        "remaining_time": 437.8438493,
                        "test": [
                          0.4534034184
                        ]
                      },
                      {
                        "learn": [
                          0.4429641912
                        ],
                        "iteration": 74,
                        "passed_time": 35.29222972,
                        "remaining_time": 435.2708332,
                        "test": [
                          0.4513299235
                        ]
                      },
                      {
                        "learn": [
                          0.4408538675
                        ],
                        "iteration": 75,
                        "passed_time": 35.54495207,
                        "remaining_time": 432.1517857,
                        "test": [
                          0.4492581055
                        ]
                      },
                      {
                        "learn": [
                          0.4389352491
                        ],
                        "iteration": 76,
                        "passed_time": 35.6984289,
                        "remaining_time": 427.9175309,
                        "test": [
                          0.4473762882
                        ]
                      },
                      {
                        "learn": [
                          0.4370179558
                        ],
                        "iteration": 77,
                        "passed_time": 35.91659235,
                        "remaining_time": 424.5525404,
                        "test": [
                          0.4455054695
                        ]
                      },
                      {
                        "learn": [
                          0.434947584
                        ],
                        "iteration": 78,
                        "passed_time": 36.16091589,
                        "remaining_time": 421.5721966,
                        "test": [
                          0.4435865121
                        ]
                      },
                      {
                        "learn": [
                          0.4330542488
                        ],
                        "iteration": 79,
                        "passed_time": 36.42522425,
                        "remaining_time": 418.8900789,
                        "test": [
                          0.4417806838
                        ]
                      },
                      {
                        "learn": [
                          0.4313500533
                        ],
                        "iteration": 80,
                        "passed_time": 36.52459888,
                        "remaining_time": 414.396375,
                        "test": [
                          0.4401083586
                        ]
                      },
                      {
                        "learn": [
                          0.4296887442
                        ],
                        "iteration": 81,
                        "passed_time": 36.65816319,
                        "remaining_time": 410.3926074,
                        "test": [
                          0.4384786092
                        ]
                      },
                      {
                        "learn": [
                          0.4280327534
                        ],
                        "iteration": 82,
                        "passed_time": 36.85126196,
                        "remaining_time": 407.139846,
                        "test": [
                          0.4368858068
                        ]
                      },
                      {
                        "learn": [
                          0.4263013436
                        ],
                        "iteration": 83,
                        "passed_time": 37.11611049,
                        "remaining_time": 404.7423478,
                        "test": [
                          0.4352305204
                        ]
                      },
                      {
                        "learn": [
                          0.424674632
                        ],
                        "iteration": 84,
                        "passed_time": 37.34211783,
                        "remaining_time": 401.9769155,
                        "test": [
                          0.4336718825
                        ]
                      },
                      {
                        "learn": [
                          0.4231681702
                        ],
                        "iteration": 85,
                        "passed_time": 37.49281301,
                        "remaining_time": 398.470129,
                        "test": [
                          0.432197567
                        ]
                      },
                      {
                        "learn": [
                          0.4214904933
                        ],
                        "iteration": 86,
                        "passed_time": 37.73856204,
                        "remaining_time": 396.0380131,
                        "test": [
                          0.4306380737
                        ]
                      },
                      {
                        "learn": [
                          0.4197498905
                        ],
                        "iteration": 87,
                        "passed_time": 37.98891784,
                        "remaining_time": 393.7033304,
                        "test": [
                          0.4290690206
                        ]
                      },
                      {
                        "learn": [
                          0.4182018597
                        ],
                        "iteration": 88,
                        "passed_time": 38.26525536,
                        "remaining_time": 391.681434,
                        "test": [
                          0.4276409267
                        ]
                      },
                      {
                        "learn": [
                          0.4168414388
                        ],
                        "iteration": 89,
                        "passed_time": 38.44473175,
                        "remaining_time": 388.7189543,
                        "test": [
                          0.4263166449
                        ]
                      },
                      {
                        "learn": [
                          0.4155251061
                        ],
                        "iteration": 90,
                        "passed_time": 38.54361623,
                        "remaining_time": 385.0126061,
                        "test": [
                          0.4250290284
                        ]
                      },
                      {
                        "learn": [
                          0.4141518264
                        ],
                        "iteration": 91,
                        "passed_time": 38.76359022,
                        "remaining_time": 382.5797817,
                        "test": [
                          0.4237328751
                        ]
                      },
                      {
                        "learn": [
                          0.4125554949
                        ],
                        "iteration": 92,
                        "passed_time": 39.01079527,
                        "remaining_time": 380.4601216,
                        "test": [
                          0.4223687057
                        ]
                      },
                      {
                        "learn": [
                          0.4112452243
                        ],
                        "iteration": 93,
                        "passed_time": 39.14672329,
                        "remaining_time": 377.3077798,
                        "test": [
                          0.4210747812
                        ]
                      },
                      {
                        "learn": [
                          0.4098775701
                        ],
                        "iteration": 94,
                        "passed_time": 39.34991379,
                        "remaining_time": 374.8597051,
                        "test": [
                          0.4198371683
                        ]
                      },
                      {
                        "learn": [
                          0.4084185045
                        ],
                        "iteration": 95,
                        "passed_time": 39.627036,
                        "remaining_time": 373.154589,
                        "test": [
                          0.4185734042
                        ]
                      },
                      {
                        "learn": [
                          0.4071475992
                        ],
                        "iteration": 96,
                        "passed_time": 39.88817415,
                        "remaining_time": 371.330116,
                        "test": [
                          0.4173568273
                        ]
                      },
                      {
                        "learn": [
                          0.4058502194
                        ],
                        "iteration": 97,
                        "passed_time": 40.11753855,
                        "remaining_time": 369.2450998,
                        "test": [
                          0.4161914347
                        ]
                      },
                      {
                        "learn": [
                          0.4047785544
                        ],
                        "iteration": 98,
                        "passed_time": 40.23463958,
                        "remaining_time": 366.1758612,
                        "test": [
                          0.4151462656
                        ]
                      },
                      {
                        "learn": [
                          0.4035091585
                        ],
                        "iteration": 99,
                        "passed_time": 40.46153165,
                        "remaining_time": 364.1537849,
                        "test": [
                          0.414027488
                        ]
                      },
                      {
                        "learn": [
                          0.4024839616
                        ],
                        "iteration": 100,
                        "passed_time": 40.58797618,
                        "remaining_time": 361.2731741,
                        "test": [
                          0.4130366443
                        ]
                      },
                      {
                        "learn": [
                          0.4013041272
                        ],
                        "iteration": 101,
                        "passed_time": 40.85330136,
                        "remaining_time": 359.669261,
                        "test": [
                          0.4119626305
                        ]
                      },
                      {
                        "learn": [
                          0.4003247102
                        ],
                        "iteration": 102,
                        "passed_time": 41.00199702,
                        "remaining_time": 357.0756439,
                        "test": [
                          0.4110054043
                        ]
                      },
                      {
                        "learn": [
                          0.3991619376
                        ],
                        "iteration": 103,
                        "passed_time": 41.27540377,
                        "remaining_time": 355.6034786,
                        "test": [
                          0.4099597089
                        ]
                      },
                      {
                        "learn": [
                          0.3981218398
                        ],
                        "iteration": 104,
                        "passed_time": 41.474054,
                        "remaining_time": 353.5169365,
                        "test": [
                          0.4090483701
                        ]
                      },
                      {
                        "learn": [
                          0.396992417
                        ],
                        "iteration": 105,
                        "passed_time": 41.71985947,
                        "remaining_time": 351.8637205,
                        "test": [
                          0.40804977
                        ]
                      },
                      {
                        "learn": [
                          0.395956528
                        ],
                        "iteration": 106,
                        "passed_time": 41.97221089,
                        "remaining_time": 350.2914423,
                        "test": [
                          0.4071014623
                        ]
                      },
                      {
                        "learn": [
                          0.3949251921
                        ],
                        "iteration": 107,
                        "passed_time": 42.23443054,
                        "remaining_time": 348.8251115,
                        "test": [
                          0.4061711911
                        ]
                      },
                      {
                        "learn": [
                          0.3938384478
                        ],
                        "iteration": 108,
                        "passed_time": 42.4475993,
                        "remaining_time": 346.9799172,
                        "test": [
                          0.4052004364
                        ]
                      },
                      {
                        "learn": [
                          0.3928678276
                        ],
                        "iteration": 109,
                        "passed_time": 42.67284136,
                        "remaining_time": 345.2620801,
                        "test": [
                          0.4043571265
                        ]
                      },
                      {
                        "learn": [
                          0.3920490365
                        ],
                        "iteration": 110,
                        "passed_time": 42.82203781,
                        "remaining_time": 342.9620866,
                        "test": [
                          0.4035847882
                        ]
                      },
                      {
                        "learn": [
                          0.3911251821
                        ],
                        "iteration": 111,
                        "passed_time": 43.07335422,
                        "remaining_time": 341.5101656,
                        "test": [
                          0.4027528313
                        ]
                      },
                      {
                        "learn": [
                          0.3903377813
                        ],
                        "iteration": 112,
                        "passed_time": 43.26246325,
                        "remaining_time": 339.5911938,
                        "test": [
                          0.4020028013
                        ]
                      },
                      {
                        "learn": [
                          0.3893618854
                        ],
                        "iteration": 113,
                        "passed_time": 43.47933762,
                        "remaining_time": 337.9183608,
                        "test": [
                          0.4012120672
                        ]
                      },
                      {
                        "learn": [
                          0.388475761
                        ],
                        "iteration": 114,
                        "passed_time": 43.71568241,
                        "remaining_time": 336.4206864,
                        "test": [
                          0.4004502939
                        ]
                      },
                      {
                        "learn": [
                          0.3876818069
                        ],
                        "iteration": 115,
                        "passed_time": 43.9736176,
                        "remaining_time": 335.1092928,
                        "test": [
                          0.3997099021
                        ]
                      },
                      {
                        "learn": [
                          0.3870004938
                        ],
                        "iteration": 116,
                        "passed_time": 44.06487688,
                        "remaining_time": 332.5580025,
                        "test": [
                          0.3990503725
                        ]
                      },
                      {
                        "learn": [
                          0.3863031594
                        ],
                        "iteration": 117,
                        "passed_time": 44.19749444,
                        "remaining_time": 330.3575432,
                        "test": [
                          0.3983424038
                        ]
                      },
                      {
                        "learn": [
                          0.3856534938
                        ],
                        "iteration": 118,
                        "passed_time": 44.30181972,
                        "remaining_time": 327.9823796,
                        "test": [
                          0.397714099
                        ]
                      },
                      {
                        "learn": [
                          0.3850169314
                        ],
                        "iteration": 119,
                        "passed_time": 44.43088171,
                        "remaining_time": 325.8264659,
                        "test": [
                          0.3971009653
                        ]
                      },
                      {
                        "learn": [
                          0.3843971534
                        ],
                        "iteration": 120,
                        "passed_time": 44.55859906,
                        "remaining_time": 323.6942857,
                        "test": [
                          0.3965021739
                        ]
                      },
                      {
                        "learn": [
                          0.3837839454
                        ],
                        "iteration": 121,
                        "passed_time": 44.7183593,
                        "remaining_time": 321.8255694,
                        "test": [
                          0.3959316648
                        ]
                      },
                      {
                        "learn": [
                          0.3830430942
                        ],
                        "iteration": 122,
                        "passed_time": 44.95091458,
                        "remaining_time": 320.5036755,
                        "test": [
                          0.3952542312
                        ]
                      },
                      {
                        "learn": [
                          0.3822962958
                        ],
                        "iteration": 123,
                        "passed_time": 45.23367669,
                        "remaining_time": 319.5540385,
                        "test": [
                          0.3946140808
                        ]
                      },
                      {
                        "learn": [
                          0.3816064287
                        ],
                        "iteration": 124,
                        "passed_time": 45.64094459,
                        "remaining_time": 319.4866121,
                        "test": [
                          0.3939626545
                        ]
                      },
                      {
                        "learn": [
                          0.3809207047
                        ],
                        "iteration": 125,
                        "passed_time": 46.06809396,
                        "remaining_time": 319.5516994,
                        "test": [
                          0.3933390829
                        ]
                      },
                      {
                        "learn": [
                          0.3803190461
                        ],
                        "iteration": 126,
                        "passed_time": 46.29708404,
                        "remaining_time": 318.2468848,
                        "test": [
                          0.3927312969
                        ]
                      },
                      {
                        "learn": [
                          0.3797089791
                        ],
                        "iteration": 127,
                        "passed_time": 46.69125834,
                        "remaining_time": 318.0841975,
                        "test": [
                          0.3921462647
                        ]
                      },
                      {
                        "learn": [
                          0.3790391534
                        ],
                        "iteration": 128,
                        "passed_time": 47.06907956,
                        "remaining_time": 317.8075062,
                        "test": [
                          0.3915597117
                        ]
                      },
                      {
                        "learn": [
                          0.3784423079
                        ],
                        "iteration": 129,
                        "passed_time": 47.51089628,
                        "remaining_time": 317.9575366,
                        "test": [
                          0.3910634668
                        ]
                      },
                      {
                        "learn": [
                          0.3779319175
                        ],
                        "iteration": 130,
                        "passed_time": 47.77724066,
                        "remaining_time": 316.9345201,
                        "test": [
                          0.3906043121
                        ]
                      },
                      {
                        "learn": [
                          0.3774110254
                        ],
                        "iteration": 131,
                        "passed_time": 48.04800091,
                        "remaining_time": 315.952006,
                        "test": [
                          0.3901365905
                        ]
                      },
                      {
                        "learn": [
                          0.3768733453
                        ],
                        "iteration": 132,
                        "passed_time": 48.27606079,
                        "remaining_time": 314.7018399,
                        "test": [
                          0.3896632953
                        ]
                      },
                      {
                        "learn": [
                          0.3762902399
                        ],
                        "iteration": 133,
                        "passed_time": 48.50528807,
                        "remaining_time": 313.4744736,
                        "test": [
                          0.3891594642
                        ]
                      },
                      {
                        "learn": [
                          0.3757067633
                        ],
                        "iteration": 134,
                        "passed_time": 48.72390382,
                        "remaining_time": 312.1939022,
                        "test": [
                          0.3887072229
                        ]
                      },
                      {
                        "learn": [
                          0.3752495821
                        ],
                        "iteration": 135,
                        "passed_time": 48.92005506,
                        "remaining_time": 310.7862322,
                        "test": [
                          0.3882952237
                        ]
                      },
                      {
                        "learn": [
                          0.3748213817
                        ],
                        "iteration": 136,
                        "passed_time": 49.03926802,
                        "remaining_time": 308.9115934,
                        "test": [
                          0.3878942696
                        ]
                      },
                      {
                        "learn": [
                          0.3742655863
                        ],
                        "iteration": 137,
                        "passed_time": 49.25896776,
                        "remaining_time": 307.690074,
                        "test": [
                          0.3874248513
                        ]
                      },
                      {
                        "learn": [
                          0.3738632145
                        ],
                        "iteration": 138,
                        "passed_time": 49.37399157,
                        "remaining_time": 305.8345809,
                        "test": [
                          0.3870417514
                        ]
                      },
                      {
                        "learn": [
                          0.3733415395
                        ],
                        "iteration": 139,
                        "passed_time": 49.61620601,
                        "remaining_time": 304.7852655,
                        "test": [
                          0.3865936735
                        ]
                      },
                      {
                        "learn": [
                          0.3729534544
                        ],
                        "iteration": 140,
                        "passed_time": 49.75630724,
                        "remaining_time": 303.1253044,
                        "test": [
                          0.3862229779
                        ]
                      },
                      {
                        "learn": [
                          0.3725726849
                        ],
                        "iteration": 141,
                        "passed_time": 49.86423691,
                        "remaining_time": 301.2923611,
                        "test": [
                          0.3858622681
                        ]
                      },
                      {
                        "learn": [
                          0.3720608763
                        ],
                        "iteration": 142,
                        "passed_time": 50.13897463,
                        "remaining_time": 300.4832256,
                        "test": [
                          0.3854194145
                        ]
                      },
                      {
                        "learn": [
                          0.3715851826
                        ],
                        "iteration": 143,
                        "passed_time": 50.41214497,
                        "remaining_time": 299.6721951,
                        "test": [
                          0.3850110402
                        ]
                      },
                      {
                        "learn": [
                          0.3711362209
                        ],
                        "iteration": 144,
                        "passed_time": 50.69049248,
                        "remaining_time": 298.8991108,
                        "test": [
                          0.3846218396
                        ]
                      },
                      {
                        "learn": [
                          0.3707956826
                        ],
                        "iteration": 145,
                        "passed_time": 50.80448837,
                        "remaining_time": 297.1714594,
                        "test": [
                          0.3842975255
                        ]
                      },
                      {
                        "learn": [
                          0.3703334685
                        ],
                        "iteration": 146,
                        "passed_time": 51.08763593,
                        "remaining_time": 296.4473023,
                        "test": [
                          0.3839605695
                        ]
                      },
                      {
                        "learn": [
                          0.3700085752
                        ],
                        "iteration": 147,
                        "passed_time": 51.17763818,
                        "remaining_time": 294.6172144,
                        "test": [
                          0.3836515461
                        ]
                      },
                      {
                        "learn": [
                          0.3696877312
                        ],
                        "iteration": 148,
                        "passed_time": 51.3158219,
                        "remaining_time": 293.0856673,
                        "test": [
                          0.3833520383
                        ]
                      },
                      {
                        "learn": [
                          0.3691918105
                        ],
                        "iteration": 149,
                        "passed_time": 51.55476221,
                        "remaining_time": 292.1436525,
                        "test": [
                          0.3830415567
                        ]
                      },
                      {
                        "learn": [
                          0.3688787158
                        ],
                        "iteration": 150,
                        "passed_time": 51.71353928,
                        "remaining_time": 290.7602308,
                        "test": [
                          0.3827687043
                        ]
                      },
                      {
                        "learn": [
                          0.3684031016
                        ],
                        "iteration": 151,
                        "passed_time": 51.94836896,
                        "remaining_time": 289.8172163,
                        "test": [
                          0.3823943521
                        ]
                      },
                      {
                        "learn": [
                          0.3679888073
                        ],
                        "iteration": 152,
                        "passed_time": 52.20359161,
                        "remaining_time": 288.9963535,
                        "test": [
                          0.3820922079
                        ]
                      },
                      {
                        "learn": [
                          0.3676226423
                        ],
                        "iteration": 153,
                        "passed_time": 52.42396746,
                        "remaining_time": 287.9914057,
                        "test": [
                          0.3818229717
                        ]
                      },
                      {
                        "learn": [
                          0.3671833592
                        ],
                        "iteration": 154,
                        "passed_time": 52.62059981,
                        "remaining_time": 286.8671409,
                        "test": [
                          0.3815066427
                        ]
                      },
                      {
                        "learn": [
                          0.36681918
                        ],
                        "iteration": 155,
                        "passed_time": 52.85676387,
                        "remaining_time": 285.9686455,
                        "test": [
                          0.3811577313
                        ]
                      },
                      {
                        "learn": [
                          0.3663652116
                        ],
                        "iteration": 156,
                        "passed_time": 53.10197261,
                        "remaining_time": 285.1271523,
                        "test": [
                          0.3808925715
                        ]
                      },
                      {
                        "learn": [
                          0.3659732419
                        ],
                        "iteration": 157,
                        "passed_time": 53.38012604,
                        "remaining_time": 284.4687729,
                        "test": [
                          0.3806180367
                        ]
                      },
                      {
                        "learn": [
                          0.3656192038
                        ],
                        "iteration": 158,
                        "passed_time": 53.6324154,
                        "remaining_time": 283.6783733,
                        "test": [
                          0.3803299393
                        ]
                      },
                      {
                        "learn": [
                          0.3652815474
                        ],
                        "iteration": 159,
                        "passed_time": 53.85435252,
                        "remaining_time": 282.7353507,
                        "test": [
                          0.3800277905
                        ]
                      },
                      {
                        "learn": [
                          0.3649378441
                        ],
                        "iteration": 160,
                        "passed_time": 54.13147794,
                        "remaining_time": 282.0888819,
                        "test": [
                          0.3797527008
                        ]
                      },
                      {
                        "learn": [
                          0.3646860707
                        ],
                        "iteration": 161,
                        "passed_time": 54.24911652,
                        "remaining_time": 280.6219731,
                        "test": [
                          0.3795314292
                        ]
                      },
                      {
                        "learn": [
                          0.3643271376
                        ],
                        "iteration": 162,
                        "passed_time": 54.50603948,
                        "remaining_time": 279.8868408,
                        "test": [
                          0.379259611
                        ]
                      },
                      {
                        "learn": [
                          0.3640127479
                        ],
                        "iteration": 163,
                        "passed_time": 54.7836473,
                        "remaining_time": 279.2629826,
                        "test": [
                          0.3789986096
                        ]
                      },
                      {
                        "learn": [
                          0.3637956943
                        ],
                        "iteration": 164,
                        "passed_time": 54.87820905,
                        "remaining_time": 277.7169973,
                        "test": [
                          0.3787948527
                        ]
                      },
                      {
                        "learn": [
                          0.363576679
                        ],
                        "iteration": 165,
                        "passed_time": 55.0073447,
                        "remaining_time": 276.3622017,
                        "test": [
                          0.3785955825
                        ]
                      },
                      {
                        "learn": [
                          0.3633677573
                        ],
                        "iteration": 166,
                        "passed_time": 55.1374982,
                        "remaining_time": 275.0271617,
                        "test": [
                          0.3783978117
                        ]
                      },
                      {
                        "learn": [
                          0.363066951
                        ],
                        "iteration": 167,
                        "passed_time": 55.39488829,
                        "remaining_time": 274.3365896,
                        "test": [
                          0.3781710182
                        ]
                      },
                      {
                        "learn": [
                          0.3627774029
                        ],
                        "iteration": 168,
                        "passed_time": 55.61708067,
                        "remaining_time": 273.4780712,
                        "test": [
                          0.3779183701
                        ]
                      },
                      {
                        "learn": [
                          0.3624825345
                        ],
                        "iteration": 169,
                        "passed_time": 55.85931919,
                        "remaining_time": 272.7249114,
                        "test": [
                          0.3776679953
                        ]
                      },
                      {
                        "learn": [
                          0.3622014359
                        ],
                        "iteration": 170,
                        "passed_time": 56.0717184,
                        "remaining_time": 271.8330676,
                        "test": [
                          0.3774247724
                        ]
                      },
                      {
                        "learn": [
                          0.3619275497
                        ],
                        "iteration": 171,
                        "passed_time": 56.30649444,
                        "remaining_time": 271.0568453,
                        "test": [
                          0.3771919981
                        ]
                      },
                      {
                        "learn": [
                          0.3616754966
                        ],
                        "iteration": 172,
                        "passed_time": 56.57228242,
                        "remaining_time": 270.4351304,
                        "test": [
                          0.3769857104
                        ]
                      },
                      {
                        "learn": [
                          0.3614566988
                        ],
                        "iteration": 173,
                        "passed_time": 56.69208624,
                        "remaining_time": 269.1245014,
                        "test": [
                          0.3767577806
                        ]
                      },
                      {
                        "learn": [
                          0.3611718138
                        ],
                        "iteration": 174,
                        "passed_time": 56.95479629,
                        "remaining_time": 268.5011825,
                        "test": [
                          0.3765343008
                        ]
                      },
                      {
                        "learn": [
                          0.3609331703
                        ],
                        "iteration": 175,
                        "passed_time": 57.21874384,
                        "remaining_time": 267.8877553,
                        "test": [
                          0.3763232249
                        ]
                      },
                      {
                        "learn": [
                          0.3605631186
                        ],
                        "iteration": 176,
                        "passed_time": 57.43971997,
                        "remaining_time": 267.0784719,
                        "test": [
                          0.3761293949
                        ]
                      },
                      {
                        "learn": [
                          0.3604025962
                        ],
                        "iteration": 177,
                        "passed_time": 57.53811427,
                        "remaining_time": 265.7097187,
                        "test": [
                          0.3759805024
                        ]
                      },
                      {
                        "learn": [
                          0.3602445785
                        ],
                        "iteration": 178,
                        "passed_time": 57.65264995,
                        "remaining_time": 264.4291934,
                        "test": [
                          0.3758329715
                        ]
                      },
                      {
                        "learn": [
                          0.3600096093
                        ],
                        "iteration": 179,
                        "passed_time": 58.02970538,
                        "remaining_time": 264.3575467,
                        "test": [
                          0.3756273965
                        ]
                      },
                      {
                        "learn": [
                          0.3598417305
                        ],
                        "iteration": 180,
                        "passed_time": 58.29631947,
                        "remaining_time": 263.7827936,
                        "test": [
                          0.3755004575
                        ]
                      },
                      {
                        "learn": [
                          0.359577886
                        ],
                        "iteration": 181,
                        "passed_time": 58.7621547,
                        "remaining_time": 264.1068272,
                        "test": [
                          0.3752921639
                        ]
                      },
                      {
                        "learn": [
                          0.3594327577
                        ],
                        "iteration": 182,
                        "passed_time": 58.98023871,
                        "remaining_time": 263.3161477,
                        "test": [
                          0.3751569479
                        ]
                      },
                      {
                        "learn": [
                          0.3592076731
                        ],
                        "iteration": 183,
                        "passed_time": 59.40516161,
                        "remaining_time": 263.4489776,
                        "test": [
                          0.3750085
                        ]
                      },
                      {
                        "learn": [
                          0.359070735
                        ],
                        "iteration": 184,
                        "passed_time": 59.55415109,
                        "remaining_time": 262.3601791,
                        "test": [
                          0.3748823908
                        ]
                      },
                      {
                        "learn": [
                          0.3589367343
                        ],
                        "iteration": 185,
                        "passed_time": 59.75054107,
                        "remaining_time": 261.488927,
                        "test": [
                          0.374759128
                        ]
                      },
                      {
                        "learn": [
                          0.3588056241
                        ],
                        "iteration": 186,
                        "passed_time": 59.91423346,
                        "remaining_time": 260.4827369,
                        "test": [
                          0.3746386321
                        ]
                      },
                      {
                        "learn": [
                          0.358617447
                        ],
                        "iteration": 187,
                        "passed_time": 60.28183711,
                        "remaining_time": 260.3662326,
                        "test": [
                          0.3745170464
                        ]
                      },
                      {
                        "learn": [
                          0.358410303
                        ],
                        "iteration": 188,
                        "passed_time": 60.46983367,
                        "remaining_time": 259.4763762,
                        "test": [
                          0.3743496201
                        ]
                      },
                      {
                        "learn": [
                          0.358221352
                        ],
                        "iteration": 189,
                        "passed_time": 60.6450394,
                        "remaining_time": 258.5393785,
                        "test": [
                          0.3741873067
                        ]
                      },
                      {
                        "learn": [
                          0.3580086046
                        ],
                        "iteration": 190,
                        "passed_time": 60.8603713,
                        "remaining_time": 257.7803161,
                        "test": [
                          0.3740247248
                        ]
                      },
                      {
                        "learn": [
                          0.3577923222
                        ],
                        "iteration": 191,
                        "passed_time": 61.13199807,
                        "remaining_time": 257.2638252,
                        "test": [
                          0.3738432456
                        ]
                      },
                      {
                        "learn": [
                          0.3576781528
                        ],
                        "iteration": 192,
                        "passed_time": 61.22526629,
                        "remaining_time": 256.0040927,
                        "test": [
                          0.3737390343
                        ]
                      },
                      {
                        "learn": [
                          0.3574219742
                        ],
                        "iteration": 193,
                        "passed_time": 61.43366784,
                        "remaining_time": 255.2347231,
                        "test": [
                          0.3736044059
                        ]
                      },
                      {
                        "learn": [
                          0.3572495445
                        ],
                        "iteration": 194,
                        "passed_time": 61.60864187,
                        "remaining_time": 254.3331113,
                        "test": [
                          0.3734651683
                        ]
                      },
                      {
                        "learn": [
                          0.3570630048
                        ],
                        "iteration": 195,
                        "passed_time": 61.87463086,
                        "remaining_time": 253.8122613,
                        "test": [
                          0.373328489
                        ]
                      },
                      {
                        "learn": [
                          0.3568672718
                        ],
                        "iteration": 196,
                        "passed_time": 62.14225614,
                        "remaining_time": 253.3006684,
                        "test": [
                          0.3731887321
                        ]
                      },
                      {
                        "learn": [
                          0.3567060761
                        ],
                        "iteration": 197,
                        "passed_time": 62.35255491,
                        "remaining_time": 252.5593386,
                        "test": [
                          0.3730680282
                        ]
                      },
                      {
                        "learn": [
                          0.3565325135
                        ],
                        "iteration": 198,
                        "passed_time": 62.55786086,
                        "remaining_time": 251.803249,
                        "test": [
                          0.3729418675
                        ]
                      },
                      {
                        "learn": [
                          0.3563706722
                        ],
                        "iteration": 199,
                        "passed_time": 62.74539736,
                        "remaining_time": 250.9815895,
                        "test": [
                          0.3728291361
                        ]
                      },
                      {
                        "learn": [
                          0.3562293821
                        ],
                        "iteration": 200,
                        "passed_time": 62.94314087,
                        "remaining_time": 250.2068137,
                        "test": [
                          0.3726906412
                        ]
                      },
                      {
                        "learn": [
                          0.3560802013
                        ],
                        "iteration": 201,
                        "passed_time": 63.14884627,
                        "remaining_time": 249.4692046,
                        "test": [
                          0.3725753912
                        ]
                      },
                      {
                        "learn": [
                          0.3559056153
                        ],
                        "iteration": 202,
                        "passed_time": 63.38682237,
                        "remaining_time": 248.8635341,
                        "test": [
                          0.3724571702
                        ]
                      },
                      {
                        "learn": [
                          0.3557458751
                        ],
                        "iteration": 203,
                        "passed_time": 63.63619473,
                        "remaining_time": 248.3059363,
                        "test": [
                          0.3723513801
                        ]
                      },
                      {
                        "learn": [
                          0.3555879898
                        ],
                        "iteration": 204,
                        "passed_time": 63.85022142,
                        "remaining_time": 247.6142733,
                        "test": [
                          0.3722360081
                        ]
                      },
                      {
                        "learn": [
                          0.3555034038
                        ],
                        "iteration": 205,
                        "passed_time": 63.95563501,
                        "remaining_time": 246.5086126,
                        "test": [
                          0.3721600923
                        ]
                      },
                      {
                        "learn": [
                          0.3553561819
                        ],
                        "iteration": 206,
                        "passed_time": 64.18627922,
                        "remaining_time": 245.8923644,
                        "test": [
                          0.3720632222
                        ]
                      },
                      {
                        "learn": [
                          0.3552154512
                        ],
                        "iteration": 207,
                        "passed_time": 64.42033225,
                        "remaining_time": 245.2928036,
                        "test": [
                          0.3719468233
                        ]
                      },
                      {
                        "learn": [
                          0.3551352851
                        ],
                        "iteration": 208,
                        "passed_time": 64.55051408,
                        "remaining_time": 244.3036203,
                        "test": [
                          0.371876353
                        ]
                      },
                      {
                        "learn": [
                          0.355052473
                        ],
                        "iteration": 209,
                        "passed_time": 64.73760658,
                        "remaining_time": 243.5367105,
                        "test": [
                          0.3718212434
                        ]
                      },
                      {
                        "learn": [
                          0.354902362
                        ],
                        "iteration": 210,
                        "passed_time": 65.03643128,
                        "remaining_time": 243.1931009,
                        "test": [
                          0.3717513984
                        ]
                      },
                      {
                        "learn": [
                          0.3547733716
                        ],
                        "iteration": 211,
                        "passed_time": 65.25473933,
                        "remaining_time": 242.5506349,
                        "test": [
                          0.3716736179
                        ]
                      },
                      {
                        "learn": [
                          0.3546130049
                        ],
                        "iteration": 212,
                        "passed_time": 65.44214152,
                        "remaining_time": 241.7979595,
                        "test": [
                          0.3715747085
                        ]
                      },
                      {
                        "learn": [
                          0.3544726108
                        ],
                        "iteration": 213,
                        "passed_time": 65.65795932,
                        "remaining_time": 241.1549347,
                        "test": [
                          0.3714887992
                        ]
                      },
                      {
                        "learn": [
                          0.3543292123
                        ],
                        "iteration": 214,
                        "passed_time": 65.91918387,
                        "remaining_time": 240.6816713,
                        "test": [
                          0.3713751153
                        ]
                      },
                      {
                        "learn": [
                          0.3542033905
                        ],
                        "iteration": 215,
                        "passed_time": 66.17651338,
                        "remaining_time": 240.1962337,
                        "test": [
                          0.3713133733
                        ]
                      },
                      {
                        "learn": [
                          0.3541374685
                        ],
                        "iteration": 216,
                        "passed_time": 66.28246537,
                        "remaining_time": 239.1666838,
                        "test": [
                          0.371255179
                        ]
                      },
                      {
                        "learn": [
                          0.3539965573
                        ],
                        "iteration": 217,
                        "passed_time": 66.55199883,
                        "remaining_time": 238.7323995,
                        "test": [
                          0.3711742973
                        ]
                      },
                      {
                        "learn": [
                          0.3538642925
                        ],
                        "iteration": 218,
                        "passed_time": 66.81373045,
                        "remaining_time": 238.2717967,
                        "test": [
                          0.3711130971
                        ]
                      },
                      {
                        "learn": [
                          0.3537418539
                        ],
                        "iteration": 219,
                        "passed_time": 67.01381808,
                        "remaining_time": 237.5944459,
                        "test": [
                          0.3710330165
                        ]
                      },
                      {
                        "learn": [
                          0.3535894872
                        ],
                        "iteration": 220,
                        "passed_time": 67.28805826,
                        "remaining_time": 237.1827936,
                        "test": [
                          0.3709426602
                        ]
                      },
                      {
                        "learn": [
                          0.3535307383
                        ],
                        "iteration": 221,
                        "passed_time": 67.39518862,
                        "remaining_time": 236.1867421,
                        "test": [
                          0.3708912481
                        ]
                      },
                      {
                        "learn": [
                          0.3533523814
                        ],
                        "iteration": 222,
                        "passed_time": 67.60446854,
                        "remaining_time": 235.5545832,
                        "test": [
                          0.3708161336
                        ]
                      },
                      {
                        "learn": [
                          0.3531138238
                        ],
                        "iteration": 223,
                        "passed_time": 67.84385109,
                        "remaining_time": 235.0304841,
                        "test": [
                          0.370723246
                        ]
                      },
                      {
                        "learn": [
                          0.3529988264
                        ],
                        "iteration": 224,
                        "passed_time": 68.10497684,
                        "remaining_time": 234.5838091,
                        "test": [
                          0.3706539492
                        ]
                      },
                      {
                        "learn": [
                          0.3528646254
                        ],
                        "iteration": 225,
                        "passed_time": 68.35600917,
                        "remaining_time": 234.1042084,
                        "test": [
                          0.3705962663
                        ]
                      },
                      {
                        "learn": [
                          0.3527964444
                        ],
                        "iteration": 226,
                        "passed_time": 68.46419434,
                        "remaining_time": 233.140186,
                        "test": [
                          0.3705435393
                        ]
                      },
                      {
                        "learn": [
                          0.3526911648
                        ],
                        "iteration": 227,
                        "passed_time": 68.69208117,
                        "remaining_time": 232.5889766,
                        "test": [
                          0.3704644922
                        ]
                      },
                      {
                        "learn": [
                          0.3526411921
                        ],
                        "iteration": 228,
                        "passed_time": 68.7852584,
                        "remaining_time": 231.587049,
                        "test": [
                          0.3704213221
                        ]
                      },
                      {
                        "learn": [
                          0.3525311988
                        ],
                        "iteration": 229,
                        "passed_time": 69.04595444,
                        "remaining_time": 231.1538475,
                        "test": [
                          0.3703491115
                        ]
                      },
                      {
                        "learn": [
                          0.3524050043
                        ],
                        "iteration": 230,
                        "passed_time": 69.29694555,
                        "remaining_time": 230.6898317,
                        "test": [
                          0.370314066
                        ]
                      },
                      {
                        "learn": [
                          0.3523076499
                        ],
                        "iteration": 231,
                        "passed_time": 69.49330812,
                        "remaining_time": 230.0468131,
                        "test": [
                          0.3702534015
                        ]
                      },
                      {
                        "learn": [
                          0.352171762
                        ],
                        "iteration": 232,
                        "passed_time": 69.77558676,
                        "remaining_time": 229.6904508,
                        "test": [
                          0.3702320545
                        ]
                      },
                      {
                        "learn": [
                          0.3519683733
                        ],
                        "iteration": 233,
                        "passed_time": 70.02448649,
                        "remaining_time": 229.2254558,
                        "test": [
                          0.370181828
                        ]
                      },
                      {
                        "learn": [
                          0.3518728742
                        ],
                        "iteration": 234,
                        "passed_time": 70.35575553,
                        "remaining_time": 229.0304382,
                        "test": [
                          0.3701303714
                        ]
                      },
                      {
                        "learn": [
                          0.3517622613
                        ],
                        "iteration": 235,
                        "passed_time": 70.78961516,
                        "remaining_time": 229.1663813,
                        "test": [
                          0.3700811368
                        ]
                      },
                      {
                        "learn": [
                          0.3516791813
                        ],
                        "iteration": 236,
                        "passed_time": 71.19413239,
                        "remaining_time": 229.2030507,
                        "test": [
                          0.3700195929
                        ]
                      },
                      {
                        "learn": [
                          0.351591041
                        ],
                        "iteration": 237,
                        "passed_time": 71.6941461,
                        "remaining_time": 229.5417619,
                        "test": [
                          0.3699759466
                        ]
                      },
                      {
                        "learn": [
                          0.3514996536
                        ],
                        "iteration": 238,
                        "passed_time": 72.15080864,
                        "remaining_time": 229.73542,
                        "test": [
                          0.369916545
                        ]
                      },
                      {
                        "learn": [
                          0.3514101063
                        ],
                        "iteration": 239,
                        "passed_time": 72.54787765,
                        "remaining_time": 229.7349459,
                        "test": [
                          0.3698605119
                        ]
                      },
                      {
                        "learn": [
                          0.3513229325
                        ],
                        "iteration": 240,
                        "passed_time": 72.77695501,
                        "remaining_time": 229.2021114,
                        "test": [
                          0.3698268291
                        ]
                      },
                      {
                        "learn": [
                          0.3512820782
                        ],
                        "iteration": 241,
                        "passed_time": 72.89319339,
                        "remaining_time": 228.3183495,
                        "test": [
                          0.3697803091
                        ]
                      },
                      {
                        "learn": [
                          0.3512458765
                        ],
                        "iteration": 242,
                        "passed_time": 72.98201272,
                        "remaining_time": 227.3554882,
                        "test": [
                          0.3697499588
                        ]
                      },
                      {
                        "learn": [
                          0.3509612349
                        ],
                        "iteration": 243,
                        "passed_time": 73.24007486,
                        "remaining_time": 226.9241664,
                        "test": [
                          0.3696351761
                        ]
                      },
                      {
                        "learn": [
                          0.3508487316
                        ],
                        "iteration": 244,
                        "passed_time": 73.47932479,
                        "remaining_time": 226.4362866,
                        "test": [
                          0.369588283
                        ]
                      },
                      {
                        "learn": [
                          0.3507754515
                        ],
                        "iteration": 245,
                        "passed_time": 73.67026947,
                        "remaining_time": 225.8023707,
                        "test": [
                          0.3695318483
                        ]
                      },
                      {
                        "learn": [
                          0.3507380242
                        ],
                        "iteration": 246,
                        "passed_time": 73.79669175,
                        "remaining_time": 224.9753396,
                        "test": [
                          0.3695058052
                        ]
                      },
                      {
                        "learn": [
                          0.3506299458
                        ],
                        "iteration": 247,
                        "passed_time": 74.05747465,
                        "remaining_time": 224.5613747,
                        "test": [
                          0.3694698103
                        ]
                      },
                      {
                        "learn": [
                          0.3505471076
                        ],
                        "iteration": 248,
                        "passed_time": 74.32250687,
                        "remaining_time": 224.1614565,
                        "test": [
                          0.3694365466
                        ]
                      },
                      {
                        "learn": [
                          0.3504569182
                        ],
                        "iteration": 249,
                        "passed_time": 74.59024533,
                        "remaining_time": 223.770736,
                        "test": [
                          0.3693875114
                        ]
                      },
                      {
                        "learn": [
                          0.350362223
                        ],
                        "iteration": 250,
                        "passed_time": 74.83019274,
                        "remaining_time": 223.2980652,
                        "test": [
                          0.3692861497
                        ]
                      },
                      {
                        "learn": [
                          0.3503029826
                        ],
                        "iteration": 251,
                        "passed_time": 75.02832788,
                        "remaining_time": 222.703132,
                        "test": [
                          0.3692510356
                        ]
                      },
                      {
                        "learn": [
                          0.3500980197
                        ],
                        "iteration": 252,
                        "passed_time": 75.27957905,
                        "remaining_time": 222.2681642,
                        "test": [
                          0.3691981374
                        ]
                      },
                      {
                        "learn": [
                          0.3500251712
                        ],
                        "iteration": 253,
                        "passed_time": 75.52128931,
                        "remaining_time": 221.8066214,
                        "test": [
                          0.369148266
                        ]
                      },
                      {
                        "learn": [
                          0.3499462586
                        ],
                        "iteration": 254,
                        "passed_time": 75.73211849,
                        "remaining_time": 221.2565815,
                        "test": [
                          0.3691120352
                        ]
                      },
                      {
                        "learn": [
                          0.3498694393
                        ],
                        "iteration": 255,
                        "passed_time": 75.95960812,
                        "remaining_time": 220.7576111,
                        "test": [
                          0.3690577939
                        ]
                      },
                      {
                        "learn": [
                          0.3497486151
                        ],
                        "iteration": 256,
                        "passed_time": 76.20414303,
                        "remaining_time": 220.3100322,
                        "test": [
                          0.369023745
                        ]
                      },
                      {
                        "learn": [
                          0.3496827901
                        ],
                        "iteration": 257,
                        "passed_time": 76.43775564,
                        "remaining_time": 219.8326151,
                        "test": [
                          0.368990465
                        ]
                      },
                      {
                        "learn": [
                          0.3496340342
                        ],
                        "iteration": 258,
                        "passed_time": 76.62675565,
                        "remaining_time": 219.2294438,
                        "test": [
                          0.368960552
                        ]
                      },
                      {
                        "learn": [
                          0.3496096895
                        ],
                        "iteration": 259,
                        "passed_time": 76.71445449,
                        "remaining_time": 218.3411397,
                        "test": [
                          0.3689410618
                        ]
                      },
                      {
                        "learn": [
                          0.3495472531
                        ],
                        "iteration": 260,
                        "passed_time": 76.95368939,
                        "remaining_time": 217.8880324,
                        "test": [
                          0.3688923856
                        ]
                      },
                      {
                        "learn": [
                          0.3494517486
                        ],
                        "iteration": 261,
                        "passed_time": 77.20936652,
                        "remaining_time": 217.4828721,
                        "test": [
                          0.3688393802
                        ]
                      },
                      {
                        "learn": [
                          0.3494141844
                        ],
                        "iteration": 262,
                        "passed_time": 77.35784824,
                        "remaining_time": 216.7784568,
                        "test": [
                          0.3688078983
                        ]
                      },
                      {
                        "learn": [
                          0.3493903761
                        ],
                        "iteration": 263,
                        "passed_time": 77.52504428,
                        "remaining_time": 216.1304265,
                        "test": [
                          0.3687903866
                        ]
                      },
                      {
                        "learn": [
                          0.3492900175
                        ],
                        "iteration": 264,
                        "passed_time": 77.84377122,
                        "remaining_time": 215.9063088,
                        "test": [
                          0.3687435788
                        ]
                      },
                      {
                        "learn": [
                          0.3492242668
                        ],
                        "iteration": 265,
                        "passed_time": 78.1320654,
                        "remaining_time": 215.5975038,
                        "test": [
                          0.3687090461
                        ]
                      },
                      {
                        "learn": [
                          0.3491421612
                        ],
                        "iteration": 266,
                        "passed_time": 78.41047305,
                        "remaining_time": 215.2617107,
                        "test": [
                          0.3686870972
                        ]
                      },
                      {
                        "learn": [
                          0.3491218907
                        ],
                        "iteration": 267,
                        "passed_time": 78.50634612,
                        "remaining_time": 214.4277812,
                        "test": [
                          0.3686712768
                        ]
                      },
                      {
                        "learn": [
                          0.3490714294
                        ],
                        "iteration": 268,
                        "passed_time": 78.71323389,
                        "remaining_time": 213.9010185,
                        "test": [
                          0.3686342348
                        ]
                      },
                      {
                        "learn": [
                          0.3489272702
                        ],
                        "iteration": 269,
                        "passed_time": 78.96429077,
                        "remaining_time": 213.4960454,
                        "test": [
                          0.368612316
                        ]
                      },
                      {
                        "learn": [
                          0.3489083775
                        ],
                        "iteration": 270,
                        "passed_time": 79.05810849,
                        "remaining_time": 212.6692291,
                        "test": [
                          0.3685977322
                        ]
                      },
                      {
                        "learn": [
                          0.3488898764
                        ],
                        "iteration": 271,
                        "passed_time": 79.16433607,
                        "remaining_time": 211.8810171,
                        "test": [
                          0.3685834959
                        ]
                      },
                      {
                        "learn": [
                          0.3488091987
                        ],
                        "iteration": 272,
                        "passed_time": 79.43067533,
                        "remaining_time": 211.5241794,
                        "test": [
                          0.368570252
                        ]
                      },
                      {
                        "learn": [
                          0.3487651308
                        ],
                        "iteration": 273,
                        "passed_time": 79.66017405,
                        "remaining_time": 211.0703882,
                        "test": [
                          0.368548254
                        ]
                      },
                      {
                        "learn": [
                          0.348713333
                        ],
                        "iteration": 274,
                        "passed_time": 79.87943821,
                        "remaining_time": 210.5912462,
                        "test": [
                          0.3685308536
                        ]
                      },
                      {
                        "learn": [
                          0.3486256197
                        ],
                        "iteration": 275,
                        "passed_time": 80.10390097,
                        "remaining_time": 210.1276243,
                        "test": [
                          0.3684757599
                        ]
                      },
                      {
                        "learn": [
                          0.3485656564
                        ],
                        "iteration": 276,
                        "passed_time": 80.37984194,
                        "remaining_time": 209.8000929,
                        "test": [
                          0.3684378195
                        ]
                      },
                      {
                        "learn": [
                          0.3484546266
                        ],
                        "iteration": 277,
                        "passed_time": 80.62051265,
                        "remaining_time": 209.3813314,
                        "test": [
                          0.3684295881
                        ]
                      },
                      {
                        "learn": [
                          0.3483986088
                        ],
                        "iteration": 278,
                        "passed_time": 80.90053252,
                        "remaining_time": 209.0655339,
                        "test": [
                          0.368412416
                        ]
                      },
                      {
                        "learn": [
                          0.3483665858
                        ],
                        "iteration": 279,
                        "passed_time": 81.1058896,
                        "remaining_time": 208.5580018,
                        "test": [
                          0.36841062
                        ]
                      },
                      {
                        "learn": [
                          0.3481478041
                        ],
                        "iteration": 280,
                        "passed_time": 81.37451979,
                        "remaining_time": 208.2145186,
                        "test": [
                          0.3683767722
                        ]
                      },
                      {
                        "learn": [
                          0.3480725166
                        ],
                        "iteration": 281,
                        "passed_time": 81.61862965,
                        "remaining_time": 207.8091351,
                        "test": [
                          0.3683597913
                        ]
                      },
                      {
                        "learn": [
                          0.3479838219
                        ],
                        "iteration": 282,
                        "passed_time": 81.83088229,
                        "remaining_time": 207.3241788,
                        "test": [
                          0.3683400642
                        ]
                      },
                      {
                        "learn": [
                          0.3479561807
                        ],
                        "iteration": 283,
                        "passed_time": 82.08299893,
                        "remaining_time": 206.9416452,
                        "test": [
                          0.3683368604
                        ]
                      },
                      {
                        "learn": [
                          0.3479032654
                        ],
                        "iteration": 284,
                        "passed_time": 82.29921007,
                        "remaining_time": 206.4699481,
                        "test": [
                          0.3683064896
                        ]
                      },
                      {
                        "learn": [
                          0.3478393069
                        ],
                        "iteration": 285,
                        "passed_time": 82.60772614,
                        "remaining_time": 206.2304771,
                        "test": [
                          0.3682756484
                        ]
                      },
                      {
                        "learn": [
                          0.3478217267
                        ],
                        "iteration": 286,
                        "passed_time": 82.84201641,
                        "remaining_time": 205.8061244,
                        "test": [
                          0.3682636011
                        ]
                      },
                      {
                        "learn": [
                          0.3477816114
                        ],
                        "iteration": 287,
                        "passed_time": 83.15488892,
                        "remaining_time": 205.5773643,
                        "test": [
                          0.3682353911
                        ]
                      },
                      {
                        "learn": [
                          0.3477563647
                        ],
                        "iteration": 288,
                        "passed_time": 83.39832082,
                        "remaining_time": 205.1771837,
                        "test": [
                          0.3682073429
                        ]
                      },
                      {
                        "learn": [
                          0.3477306507
                        ],
                        "iteration": 289,
                        "passed_time": 83.64801111,
                        "remaining_time": 204.7934065,
                        "test": [
                          0.368215833
                        ]
                      },
                      {
                        "learn": [
                          0.3476606742
                        ],
                        "iteration": 290,
                        "passed_time": 84.08852813,
                        "remaining_time": 204.8754861,
                        "test": [
                          0.3681834679
                        ]
                      },
                      {
                        "learn": [
                          0.3476162683
                        ],
                        "iteration": 291,
                        "passed_time": 84.54196751,
                        "remaining_time": 204.9853185,
                        "test": [
                          0.3681573521
                        ]
                      },
                      {
                        "learn": [
                          0.3475551185
                        ],
                        "iteration": 292,
                        "passed_time": 85.04795006,
                        "remaining_time": 205.2180911,
                        "test": [
                          0.3681460598
                        ]
                      },
                      {
                        "learn": [
                          0.3474854269
                        ],
                        "iteration": 293,
                        "passed_time": 85.33435265,
                        "remaining_time": 204.9185475,
                        "test": [
                          0.3681454426
                        ]
                      },
                      {
                        "learn": [
                          0.3473066636
                        ],
                        "iteration": 294,
                        "passed_time": 85.60354575,
                        "remaining_time": 204.5779653,
                        "test": [
                          0.3681320486
                        ]
                      },
                      {
                        "learn": [
                          0.3472025236
                        ],
                        "iteration": 295,
                        "passed_time": 85.87185843,
                        "remaining_time": 204.2357714,
                        "test": [
                          0.3681105302
                        ]
                      },
                      {
                        "learn": [
                          0.3471742188
                        ],
                        "iteration": 296,
                        "passed_time": 86.08741581,
                        "remaining_time": 203.7692031,
                        "test": [
                          0.3680826494
                        ]
                      },
                      {
                        "learn": [
                          0.3471198942
                        ],
                        "iteration": 297,
                        "passed_time": 86.32428351,
                        "remaining_time": 203.3545202,
                        "test": [
                          0.3680734263
                        ]
                      },
                      {
                        "learn": [
                          0.3470650505
                        ],
                        "iteration": 298,
                        "passed_time": 86.52621095,
                        "remaining_time": 202.85911,
                        "test": [
                          0.3680487736
                        ]
                      },
                      {
                        "learn": [
                          0.3469454753
                        ],
                        "iteration": 299,
                        "passed_time": 86.77222846,
                        "remaining_time": 202.4685331,
                        "test": [
                          0.3680379175
                        ]
                      },
                      {
                        "learn": [
                          0.3469362196
                        ],
                        "iteration": 300,
                        "passed_time": 86.86079121,
                        "remaining_time": 201.713266,
                        "test": [
                          0.3680317237
                        ]
                      },
                      {
                        "learn": [
                          0.3468873769
                        ],
                        "iteration": 301,
                        "passed_time": 87.11133684,
                        "remaining_time": 201.3367984,
                        "test": [
                          0.3680153255
                        ]
                      },
                      {
                        "learn": [
                          0.3468497955
                        ],
                        "iteration": 302,
                        "passed_time": 87.37055922,
                        "remaining_time": 200.9811214,
                        "test": [
                          0.3680022279
                        ]
                      },
                      {
                        "learn": [
                          0.346803439
                        ],
                        "iteration": 303,
                        "passed_time": 87.59307864,
                        "remaining_time": 200.5420485,
                        "test": [
                          0.3680297466
                        ]
                      },
                      {
                        "learn": [
                          0.346756323
                        ],
                        "iteration": 304,
                        "passed_time": 87.87399344,
                        "remaining_time": 200.2374605,
                        "test": [
                          0.3679877779
                        ]
                      },
                      {
                        "learn": [
                          0.3467234166
                        ],
                        "iteration": 305,
                        "passed_time": 88.13908831,
                        "remaining_time": 199.897148,
                        "test": [
                          0.3679456743
                        ]
                      },
                      {
                        "learn": [
                          0.3466873948
                        ],
                        "iteration": 306,
                        "passed_time": 88.43071132,
                        "remaining_time": 199.6172083,
                        "test": [
                          0.3679407522
                        ]
                      },
                      {
                        "learn": [
                          0.3466347398
                        ],
                        "iteration": 307,
                        "passed_time": 88.66379811,
                        "remaining_time": 199.2056763,
                        "test": [
                          0.367922302
                        ]
                      },
                      {
                        "learn": [
                          0.3464437157
                        ],
                        "iteration": 308,
                        "passed_time": 88.94160002,
                        "remaining_time": 198.8952932,
                        "test": [
                          0.3678890254
                        ]
                      },
                      {
                        "learn": [
                          0.3462703307
                        ],
                        "iteration": 309,
                        "passed_time": 89.17174149,
                        "remaining_time": 198.4790375,
                        "test": [
                          0.3678931018
                        ]
                      },
                      {
                        "learn": [
                          0.3462630946
                        ],
                        "iteration": 310,
                        "passed_time": 89.26334499,
                        "remaining_time": 197.7570569,
                        "test": [
                          0.3678885896
                        ]
                      },
                      {
                        "learn": [
                          0.3461678464
                        ],
                        "iteration": 311,
                        "passed_time": 89.51369733,
                        "remaining_time": 197.3891787,
                        "test": [
                          0.3678592245
                        ]
                      },
                      {
                        "learn": [
                          0.3461270309
                        ],
                        "iteration": 312,
                        "passed_time": 89.76302886,
                        "remaining_time": 197.0198109,
                        "test": [
                          0.3678375446
                        ]
                      },
                      {
                        "learn": [
                          0.3459892316
                        ],
                        "iteration": 313,
                        "passed_time": 90.06002566,
                        "remaining_time": 196.7553427,
                        "test": [
                          0.3678411096
                        ]
                      },
                      {
                        "learn": [
                          0.345805896
                        ],
                        "iteration": 314,
                        "passed_time": 90.3341258,
                        "remaining_time": 196.4408767,
                        "test": [
                          0.3677993117
                        ]
                      },
                      {
                        "learn": [
                          0.3457818617
                        ],
                        "iteration": 315,
                        "passed_time": 90.5197244,
                        "remaining_time": 195.9350996,
                        "test": [
                          0.3678151502
                        ]
                      },
                      {
                        "learn": [
                          0.3457756662
                        ],
                        "iteration": 316,
                        "passed_time": 90.60804013,
                        "remaining_time": 195.2217395,
                        "test": [
                          0.3678114831
                        ]
                      },
                      {
                        "learn": [
                          0.3457515424
                        ],
                        "iteration": 317,
                        "passed_time": 90.86215688,
                        "remaining_time": 194.8678962,
                        "test": [
                          0.3678329412
                        ]
                      },
                      {
                        "learn": [
                          0.3457090014
                        ],
                        "iteration": 318,
                        "passed_time": 91.07507884,
                        "remaining_time": 194.4267357,
                        "test": [
                          0.3678154437
                        ]
                      },
                      {
                        "learn": [
                          0.3456805308
                        ],
                        "iteration": 319,
                        "passed_time": 91.35604306,
                        "remaining_time": 194.1315915,
                        "test": [
                          0.3678107059
                        ]
                      },
                      {
                        "learn": [
                          0.3456536558
                        ],
                        "iteration": 320,
                        "passed_time": 91.51315671,
                        "remaining_time": 193.5745589,
                        "test": [
                          0.3678164167
                        ]
                      },
                      {
                        "learn": [
                          0.3456175787
                        ],
                        "iteration": 321,
                        "passed_time": 91.73356301,
                        "remaining_time": 193.1532786,
                        "test": [
                          0.3678050652
                        ]
                      },
                      {
                        "learn": [
                          0.3455702943
                        ],
                        "iteration": 322,
                        "passed_time": 91.97333267,
                        "remaining_time": 192.7738273,
                        "test": [
                          0.3678117328
                        ]
                      },
                      {
                        "learn": [
                          0.3455182752
                        ],
                        "iteration": 323,
                        "passed_time": 92.16148453,
                        "remaining_time": 192.2875418,
                        "test": [
                          0.3677878265
                        ]
                      },
                      {
                        "learn": [
                          0.345471268
                        ],
                        "iteration": 324,
                        "passed_time": 92.36855309,
                        "remaining_time": 191.8423795,
                        "test": [
                          0.3677992249
                        ]
                      },
                      {
                        "learn": [
                          0.3454270048
                        ],
                        "iteration": 325,
                        "passed_time": 92.57201514,
                        "remaining_time": 191.3912215,
                        "test": [
                          0.3677846946
                        ]
                      },
                      {
                        "learn": [
                          0.345368478
                        ],
                        "iteration": 326,
                        "passed_time": 92.82123152,
                        "remaining_time": 191.0357456,
                        "test": [
                          0.3677810578
                        ]
                      },
                      {
                        "learn": [
                          0.3453108257
                        ],
                        "iteration": 327,
                        "passed_time": 93.05987579,
                        "remaining_time": 190.6592577,
                        "test": [
                          0.3677735683
                        ]
                      },
                      {
                        "learn": [
                          0.3452748928
                        ],
                        "iteration": 328,
                        "passed_time": 93.26929136,
                        "remaining_time": 190.2239955,
                        "test": [
                          0.3677695795
                        ]
                      },
                      {
                        "learn": [
                          0.3452642282
                        ],
                        "iteration": 329,
                        "passed_time": 93.38877236,
                        "remaining_time": 189.6075075,
                        "test": [
                          0.3677479685
                        ]
                      },
                      {
                        "learn": [
                          0.3451843315
                        ],
                        "iteration": 330,
                        "passed_time": 93.61446552,
                        "remaining_time": 189.2086932,
                        "test": [
                          0.3677494576
                        ]
                      },
                      {
                        "learn": [
                          0.3451542302
                        ],
                        "iteration": 331,
                        "passed_time": 93.8624937,
                        "remaining_time": 188.8558608,
                        "test": [
                          0.3677395744
                        ]
                      },
                      {
                        "learn": [
                          0.3451131224
                        ],
                        "iteration": 332,
                        "passed_time": 94.14618884,
                        "remaining_time": 188.575099,
                        "test": [
                          0.3677407194
                        ]
                      },
                      {
                        "learn": [
                          0.3450405675
                        ],
                        "iteration": 333,
                        "passed_time": 94.35925914,
                        "remaining_time": 188.1534928,
                        "test": [
                          0.3677361397
                        ]
                      },
                      {
                        "learn": [
                          0.3449952616
                        ],
                        "iteration": 334,
                        "passed_time": 94.62588125,
                        "remaining_time": 187.8394359,
                        "test": [
                          0.3677280267
                        ]
                      },
                      {
                        "learn": [
                          0.3449434509
                        ],
                        "iteration": 335,
                        "passed_time": 94.83838588,
                        "remaining_time": 187.4187149,
                        "test": [
                          0.3676981677
                        ]
                      },
                      {
                        "learn": [
                          0.3447818262
                        ],
                        "iteration": 336,
                        "passed_time": 95.16289729,
                        "remaining_time": 187.2195872,
                        "test": [
                          0.3676883391
                        ]
                      },
                      {
                        "learn": [
                          0.3447650846
                        ],
                        "iteration": 337,
                        "passed_time": 95.50338004,
                        "remaining_time": 187.0509988,
                        "test": [
                          0.3676897969
                        ]
                      },
                      {
                        "learn": [
                          0.3446889626
                        ],
                        "iteration": 338,
                        "passed_time": 95.9569604,
                        "remaining_time": 187.1019198,
                        "test": [
                          0.3676636963
                        ]
                      },
                      {
                        "learn": [
                          0.3446576198
                        ],
                        "iteration": 339,
                        "passed_time": 96.51188689,
                        "remaining_time": 187.346604,
                        "test": [
                          0.3676593429
                        ]
                      },
                      {
                        "learn": [
                          0.3446386083
                        ],
                        "iteration": 340,
                        "passed_time": 96.93225549,
                        "remaining_time": 187.3265583,
                        "test": [
                          0.3676577457
                        ]
                      },
                      {
                        "learn": [
                          0.3446352793
                        ],
                        "iteration": 341,
                        "passed_time": 97.10585258,
                        "remaining_time": 186.8293889,
                        "test": [
                          0.3676562976
                        ]
                      },
                      {
                        "learn": [
                          0.3445922006
                        ],
                        "iteration": 342,
                        "passed_time": 97.48602235,
                        "remaining_time": 186.7297862,
                        "test": [
                          0.3676608538
                        ]
                      },
                      {
                        "learn": [
                          0.3445761377
                        ],
                        "iteration": 343,
                        "passed_time": 97.68299285,
                        "remaining_time": 186.2791957,
                        "test": [
                          0.3676766147
                        ]
                      },
                      {
                        "learn": [
                          0.3445231639
                        ],
                        "iteration": 344,
                        "passed_time": 97.95835459,
                        "remaining_time": 185.9789051,
                        "test": [
                          0.3676609409
                        ]
                      },
                      {
                        "learn": [
                          0.3444963661
                        ],
                        "iteration": 345,
                        "passed_time": 98.14364523,
                        "remaining_time": 185.5085086,
                        "test": [
                          0.3676423647
                        ]
                      },
                      {
                        "learn": [
                          0.3444567168
                        ],
                        "iteration": 346,
                        "passed_time": 98.38021374,
                        "remaining_time": 185.1362524,
                        "test": [
                          0.3676267378
                        ]
                      },
                      {
                        "learn": [
                          0.3444048057
                        ],
                        "iteration": 347,
                        "passed_time": 98.63054974,
                        "remaining_time": 184.7905702,
                        "test": [
                          0.3676008963
                        ]
                      },
                      {
                        "learn": [
                          0.3443433177
                        ],
                        "iteration": 348,
                        "passed_time": 98.88458609,
                        "remaining_time": 184.4523368,
                        "test": [
                          0.3675916721
                        ]
                      },
                      {
                        "learn": [
                          0.3442576251
                        ],
                        "iteration": 349,
                        "passed_time": 99.17741727,
                        "remaining_time": 184.1866321,
                        "test": [
                          0.3675453332
                        ]
                      },
                      {
                        "learn": [
                          0.3441342772
                        ],
                        "iteration": 350,
                        "passed_time": 99.40544742,
                        "remaining_time": 183.8009555,
                        "test": [
                          0.3675357399
                        ]
                      },
                      {
                        "learn": [
                          0.3440733673
                        ],
                        "iteration": 351,
                        "passed_time": 99.78445274,
                        "remaining_time": 183.6941062,
                        "test": [
                          0.3675378714
                        ]
                      },
                      {
                        "learn": [
                          0.344045416
                        ],
                        "iteration": 352,
                        "passed_time": 100.0331633,
                        "remaining_time": 183.3469027,
                        "test": [
                          0.3675385078
                        ]
                      },
                      {
                        "learn": [
                          0.343972089
                        ],
                        "iteration": 353,
                        "passed_time": 100.3185995,
                        "remaining_time": 183.0672748,
                        "test": [
                          0.3675523289
                        ]
                      },
                      {
                        "learn": [
                          0.3439292293
                        ],
                        "iteration": 354,
                        "passed_time": 100.5504698,
                        "remaining_time": 182.6902902,
                        "test": [
                          0.3675500882
                        ]
                      },
                      {
                        "learn": [
                          0.3438977647
                        ],
                        "iteration": 355,
                        "passed_time": 100.7841286,
                        "remaining_time": 182.3173563,
                        "test": [
                          0.3675436182
                        ]
                      },
                      {
                        "learn": [
                          0.3438810927
                        ],
                        "iteration": 356,
                        "passed_time": 100.9813147,
                        "remaining_time": 181.8795108,
                        "test": [
                          0.367532696
                        ]
                      },
                      {
                        "learn": [
                          0.3437739305
                        ],
                        "iteration": 357,
                        "passed_time": 101.2258973,
                        "remaining_time": 181.5280057,
                        "test": [
                          0.3675420352
                        ]
                      },
                      {
                        "learn": [
                          0.3436283912
                        ],
                        "iteration": 358,
                        "passed_time": 101.4759079,
                        "remaining_time": 181.1867883,
                        "test": [
                          0.3675083484
                        ]
                      },
                      {
                        "learn": [
                          0.3435692485
                        ],
                        "iteration": 359,
                        "passed_time": 101.7290792,
                        "remaining_time": 180.8516964,
                        "test": [
                          0.3675028091
                        ]
                      },
                      {
                        "learn": [
                          0.3435469574
                        ],
                        "iteration": 360,
                        "passed_time": 101.9504152,
                        "remaining_time": 180.4607072,
                        "test": [
                          0.3674772431
                        ]
                      },
                      {
                        "learn": [
                          0.3435231805
                        ],
                        "iteration": 361,
                        "passed_time": 102.2041385,
                        "remaining_time": 180.1277358,
                        "test": [
                          0.3674715103
                        ]
                      },
                      {
                        "learn": [
                          0.3434896359
                        ],
                        "iteration": 362,
                        "passed_time": 102.4414325,
                        "remaining_time": 179.7663705,
                        "test": [
                          0.3674801895
                        ]
                      },
                      {
                        "learn": [
                          0.3434591131
                        ],
                        "iteration": 363,
                        "passed_time": 102.6259822,
                        "remaining_time": 179.3135293,
                        "test": [
                          0.3674856822
                        ]
                      },
                      {
                        "learn": [
                          0.3434444816
                        ],
                        "iteration": 364,
                        "passed_time": 102.8348707,
                        "remaining_time": 178.9045011,
                        "test": [
                          0.367480015
                        ]
                      },
                      {
                        "learn": [
                          0.3433660927
                        ],
                        "iteration": 365,
                        "passed_time": 103.0749909,
                        "remaining_time": 178.5506673,
                        "test": [
                          0.3674775788
                        ]
                      },
                      {
                        "learn": [
                          0.3432952373
                        ],
                        "iteration": 366,
                        "passed_time": 103.34088,
                        "remaining_time": 178.2418992,
                        "test": [
                          0.3675137102
                        ]
                      },
                      {
                        "learn": [
                          0.3431497206
                        ],
                        "iteration": 367,
                        "passed_time": 103.591639,
                        "remaining_time": 177.9073801,
                        "test": [
                          0.3675363752
                        ]
                      },
                      {
                        "learn": [
                          0.3431076294
                        ],
                        "iteration": 368,
                        "passed_time": 103.7965597,
                        "remaining_time": 177.49493,
                        "test": [
                          0.3675140794
                        ]
                      },
                      {
                        "learn": [
                          0.3429844246
                        ],
                        "iteration": 369,
                        "passed_time": 104.0237057,
                        "remaining_time": 177.1214449,
                        "test": [
                          0.3675033458
                        ]
                      },
                      {
                        "learn": [
                          0.342951264
                        ],
                        "iteration": 370,
                        "passed_time": 104.3021653,
                        "remaining_time": 176.8357465,
                        "test": [
                          0.3675193213
                        ]
                      },
                      {
                        "learn": [
                          0.3429374776
                        ],
                        "iteration": 371,
                        "passed_time": 104.5050877,
                        "remaining_time": 176.4225674,
                        "test": [
                          0.3675095036
                        ]
                      },
                      {
                        "learn": [
                          0.3428558543
                        ],
                        "iteration": 372,
                        "passed_time": 104.7649708,
                        "remaining_time": 176.1062645,
                        "test": [
                          0.3675266333
                        ]
                      },
                      {
                        "learn": [
                          0.3428109041
                        ],
                        "iteration": 373,
                        "passed_time": 105.0176974,
                        "remaining_time": 175.7782849,
                        "test": [
                          0.3675304911
                        ]
                      },
                      {
                        "learn": [
                          0.3427779203
                        ],
                        "iteration": 374,
                        "passed_time": 105.2679957,
                        "remaining_time": 175.4466596,
                        "test": [
                          0.3675401586
                        ]
                      },
                      {
                        "learn": [
                          0.3427612852
                        ],
                        "iteration": 375,
                        "passed_time": 105.5608825,
                        "remaining_time": 175.1861454,
                        "test": [
                          0.3675351371
                        ]
                      },
                      {
                        "learn": [
                          0.3427232035
                        ],
                        "iteration": 376,
                        "passed_time": 105.8621865,
                        "remaining_time": 174.9393693,
                        "test": [
                          0.3675037392
                        ]
                      },
                      {
                        "learn": [
                          0.3426924722
                        ],
                        "iteration": 377,
                        "passed_time": 106.3707881,
                        "remaining_time": 175.0334132,
                        "test": [
                          0.3675031877
                        ]
                      },
                      {
                        "learn": [
                          0.3426380587
                        ],
                        "iteration": 378,
                        "passed_time": 106.8137711,
                        "remaining_time": 175.0167595,
                        "test": [
                          0.3674774128
                        ]
                      },
                      {
                        "learn": [
                          0.3426261929
                        ],
                        "iteration": 379,
                        "passed_time": 107.0103882,
                        "remaining_time": 174.5958966,
                        "test": [
                          0.3674819769
                        ]
                      },
                      {
                        "learn": [
                          0.3425930173
                        ],
                        "iteration": 380,
                        "passed_time": 107.245785,
                        "remaining_time": 174.2392149,
                        "test": [
                          0.3674757755
                        ]
                      },
                      {
                        "learn": [
                          0.3425829615
                        ],
                        "iteration": 381,
                        "passed_time": 107.4808671,
                        "remaining_time": 173.8826594,
                        "test": [
                          0.3674733452
                        ]
                      },
                      {
                        "learn": [
                          0.3425683592
                        ],
                        "iteration": 382,
                        "passed_time": 107.9652164,
                        "remaining_time": 173.928299,
                        "test": [
                          0.367472628
                        ]
                      },
                      {
                        "learn": [
                          0.3425023415
                        ],
                        "iteration": 383,
                        "passed_time": 108.3311878,
                        "remaining_time": 173.7812805,
                        "test": [
                          0.3674850003
                        ]
                      },
                      {
                        "learn": [
                          0.3424826931
                        ],
                        "iteration": 384,
                        "passed_time": 108.7605309,
                        "remaining_time": 173.7343546,
                        "test": [
                          0.3674814512
                        ]
                      },
                      {
                        "learn": [
                          0.3423450165
                        ],
                        "iteration": 385,
                        "passed_time": 109.2431404,
                        "remaining_time": 173.7701767,
                        "test": [
                          0.367496423
                        ]
                      },
                      {
                        "learn": [
                          0.3422984187
                        ],
                        "iteration": 386,
                        "passed_time": 109.6715085,
                        "remaining_time": 173.7174024,
                        "test": [
                          0.3674672671
                        ]
                      },
                      {
                        "learn": [
                          0.3422975063
                        ],
                        "iteration": 387,
                        "passed_time": 109.8556769,
                        "remaining_time": 173.2775109,
                        "test": [
                          0.3674673674
                        ]
                      },
                      {
                        "learn": [
                          0.3422706103
                        ],
                        "iteration": 388,
                        "passed_time": 110.1798299,
                        "remaining_time": 173.0588074,
                        "test": [
                          0.3674678776
                        ]
                      },
                      {
                        "learn": [
                          0.3422570265
                        ],
                        "iteration": 389,
                        "passed_time": 110.3384962,
                        "remaining_time": 172.5807249,
                        "test": [
                          0.3674554671
                        ]
                      },
                      {
                        "learn": [
                          0.3421301212
                        ],
                        "iteration": 390,
                        "passed_time": 110.5619395,
                        "remaining_time": 172.2051692,
                        "test": [
                          0.3674520447
                        ]
                      },
                      {
                        "learn": [
                          0.3420791559
                        ],
                        "iteration": 391,
                        "passed_time": 110.8210419,
                        "remaining_time": 171.8856976,
                        "test": [
                          0.3674216143
                        ]
                      },
                      {
                        "learn": [
                          0.3419485729
                        ],
                        "iteration": 392,
                        "passed_time": 111.0771365,
                        "remaining_time": 171.5618877,
                        "test": [
                          0.3674148451
                        ]
                      },
                      {
                        "learn": [
                          0.3419478192
                        ],
                        "iteration": 393,
                        "passed_time": 111.1653992,
                        "remaining_time": 170.980284,
                        "test": [
                          0.3674150116
                        ]
                      },
                      {
                        "learn": [
                          0.3419373299
                        ],
                        "iteration": 394,
                        "passed_time": 111.3631441,
                        "remaining_time": 170.5688663,
                        "test": [
                          0.3674184291
                        ]
                      },
                      {
                        "learn": [
                          0.3419303404
                        ],
                        "iteration": 395,
                        "passed_time": 111.5500193,
                        "remaining_time": 170.1419486,
                        "test": [
                          0.3674189046
                        ]
                      },
                      {
                        "learn": [
                          0.3419192024
                        ],
                        "iteration": 396,
                        "passed_time": 111.6570949,
                        "remaining_time": 169.5950332,
                        "test": [
                          0.3674139581
                        ]
                      },
                      {
                        "learn": [
                          0.3418735085
                        ],
                        "iteration": 397,
                        "passed_time": 111.871153,
                        "remaining_time": 169.212146,
                        "test": [
                          0.3674090296
                        ]
                      },
                      {
                        "learn": [
                          0.3417426085
                        ],
                        "iteration": 398,
                        "passed_time": 112.1262602,
                        "remaining_time": 168.8919358,
                        "test": [
                          0.3673768652
                        ]
                      },
                      {
                        "learn": [
                          0.3417321242
                        ],
                        "iteration": 399,
                        "passed_time": 112.3244241,
                        "remaining_time": 168.4866361,
                        "test": [
                          0.3673693319
                        ]
                      },
                      {
                        "learn": [
                          0.3416963882
                        ],
                        "iteration": 400,
                        "passed_time": 112.674024,
                        "remaining_time": 168.3085795,
                        "test": [
                          0.3673787612
                        ]
                      },
                      {
                        "learn": [
                          0.3416906551
                        ],
                        "iteration": 401,
                        "passed_time": 112.8188924,
                        "remaining_time": 167.8251185,
                        "test": [
                          0.3673791165
                        ]
                      },
                      {
                        "learn": [
                          0.3416626938
                        ],
                        "iteration": 402,
                        "passed_time": 113.0534784,
                        "remaining_time": 167.4762447,
                        "test": [
                          0.3673725042
                        ]
                      },
                      {
                        "learn": [
                          0.3416508394
                        ],
                        "iteration": 403,
                        "passed_time": 113.2801804,
                        "remaining_time": 167.1163058,
                        "test": [
                          0.3673887886
                        ]
                      },
                      {
                        "learn": [
                          0.3416424975
                        ],
                        "iteration": 404,
                        "passed_time": 113.5080749,
                        "remaining_time": 166.7587767,
                        "test": [
                          0.3673905652
                        ]
                      },
                      {
                        "learn": [
                          0.3414819116
                        ],
                        "iteration": 405,
                        "passed_time": 113.7562449,
                        "remaining_time": 166.4315504,
                        "test": [
                          0.3673786764
                        ]
                      },
                      {
                        "learn": [
                          0.3414813896
                        ],
                        "iteration": 406,
                        "passed_time": 113.8477394,
                        "remaining_time": 165.8764361,
                        "test": [
                          0.3673789244
                        ]
                      },
                      {
                        "learn": [
                          0.3413449297
                        ],
                        "iteration": 407,
                        "passed_time": 114.0780893,
                        "remaining_time": 165.5250707,
                        "test": [
                          0.367381189
                        ]
                      },
                      {
                        "learn": [
                          0.3413137383
                        ],
                        "iteration": 408,
                        "passed_time": 114.3244023,
                        "remaining_time": 165.1973638,
                        "test": [
                          0.3673774798
                        ]
                      },
                      {
                        "learn": [
                          0.3412645871
                        ],
                        "iteration": 409,
                        "passed_time": 114.5420313,
                        "remaining_time": 164.8287767,
                        "test": [
                          0.3673739237
                        ]
                      },
                      {
                        "learn": [
                          0.3411902882
                        ],
                        "iteration": 410,
                        "passed_time": 114.7602312,
                        "remaining_time": 164.4617425,
                        "test": [
                          0.3673593206
                        ]
                      },
                      {
                        "learn": [
                          0.3411898539
                        ],
                        "iteration": 411,
                        "passed_time": 114.846826,
                        "remaining_time": 163.9076061,
                        "test": [
                          0.3673595894
                        ]
                      },
                      {
                        "learn": [
                          0.3411707588
                        ],
                        "iteration": 412,
                        "passed_time": 115.1074813,
                        "remaining_time": 163.6031272,
                        "test": [
                          0.3673580854
                        ]
                      },
                      {
                        "learn": [
                          0.3411613699
                        ],
                        "iteration": 413,
                        "passed_time": 115.2172365,
                        "remaining_time": 163.0852671,
                        "test": [
                          0.3673548613
                        ]
                      },
                      {
                        "learn": [
                          0.3410835137
                        ],
                        "iteration": 414,
                        "passed_time": 115.4322035,
                        "remaining_time": 162.7176844,
                        "test": [
                          0.3673336331
                        ]
                      },
                      {
                        "learn": [
                          0.3409593713
                        ],
                        "iteration": 415,
                        "passed_time": 115.6363565,
                        "remaining_time": 162.3356543,
                        "test": [
                          0.3673667256
                        ]
                      },
                      {
                        "learn": [
                          0.340950549
                        ],
                        "iteration": 416,
                        "passed_time": 115.8241048,
                        "remaining_time": 161.9315422,
                        "test": [
                          0.3673677206
                        ]
                      },
                      {
                        "learn": [
                          0.3409329022
                        ],
                        "iteration": 417,
                        "passed_time": 116.1378723,
                        "remaining_time": 161.7039275,
                        "test": [
                          0.36736318
                        ]
                      },
                      {
                        "learn": [
                          0.3409325568
                        ],
                        "iteration": 418,
                        "passed_time": 116.2240447,
                        "remaining_time": 161.1603102,
                        "test": [
                          0.3673634605
                        ]
                      },
                      {
                        "learn": [
                          0.3408900352
                        ],
                        "iteration": 419,
                        "passed_time": 116.4655237,
                        "remaining_time": 160.8333422,
                        "test": [
                          0.3673623601
                        ]
                      },
                      {
                        "learn": [
                          0.3408829528
                        ],
                        "iteration": 420,
                        "passed_time": 116.5692349,
                        "remaining_time": 160.3173088,
                        "test": [
                          0.3673617017
                        ]
                      },
                      {
                        "learn": [
                          0.3408484107
                        ],
                        "iteration": 421,
                        "passed_time": 116.8175631,
                        "remaining_time": 160.0013068,
                        "test": [
                          0.3673674718
                        ]
                      },
                      {
                        "learn": [
                          0.3408387018
                        ],
                        "iteration": 422,
                        "passed_time": 116.9382069,
                        "remaining_time": 159.5114548,
                        "test": [
                          0.3673603327
                        ]
                      },
                      {
                        "learn": [
                          0.340723187
                        ],
                        "iteration": 423,
                        "passed_time": 117.1955231,
                        "remaining_time": 159.2090126,
                        "test": [
                          0.3673683039
                        ]
                      },
                      {
                        "learn": [
                          0.3407109021
                        ],
                        "iteration": 424,
                        "passed_time": 117.3824107,
                        "remaining_time": 158.8114968,
                        "test": [
                          0.3673674519
                        ]
                      },
                      {
                        "learn": [
                          0.3407106207
                        ],
                        "iteration": 425,
                        "passed_time": 117.492624,
                        "remaining_time": 158.3116577,
                        "test": [
                          0.3673677396
                        ]
                      },
                      {
                        "learn": [
                          0.3406835087
                        ],
                        "iteration": 426,
                        "passed_time": 117.7016609,
                        "remaining_time": 157.9462569,
                        "test": [
                          0.3673526212
                        ]
                      },
                      {
                        "learn": [
                          0.3406635882
                        ],
                        "iteration": 427,
                        "passed_time": 117.9119708,
                        "remaining_time": 157.5832881,
                        "test": [
                          0.3673369103
                        ]
                      },
                      {
                        "learn": [
                          0.3405472275
                        ],
                        "iteration": 428,
                        "passed_time": 118.1854179,
                        "remaining_time": 157.3050667,
                        "test": [
                          0.3673338049
                        ]
                      },
                      {
                        "learn": [
                          0.3405106113
                        ],
                        "iteration": 429,
                        "passed_time": 118.3920816,
                        "remaining_time": 156.9383407,
                        "test": [
                          0.3673456081
                        ]
                      },
                      {
                        "learn": [
                          0.3404453062
                        ],
                        "iteration": 430,
                        "passed_time": 118.6580525,
                        "remaining_time": 156.6506541,
                        "test": [
                          0.3673558041
                        ]
                      },
                      {
                        "learn": [
                          0.3404008544
                        ],
                        "iteration": 431,
                        "passed_time": 118.8928833,
                        "remaining_time": 156.3221244,
                        "test": [
                          0.3673542105
                        ]
                      },
                      {
                        "learn": [
                          0.340385391
                        ],
                        "iteration": 432,
                        "passed_time": 119.0518338,
                        "remaining_time": 155.8946646,
                        "test": [
                          0.367335519
                        ]
                      },
                      {
                        "learn": [
                          0.3403449307
                        ],
                        "iteration": 433,
                        "passed_time": 119.3595769,
                        "remaining_time": 155.6624896,
                        "test": [
                          0.3673328595
                        ]
                      },
                      {
                        "learn": [
                          0.3403072561
                        ],
                        "iteration": 434,
                        "passed_time": 119.5750771,
                        "remaining_time": 155.3101577,
                        "test": [
                          0.3673300491
                        ]
                      },
                      {
                        "learn": [
                          0.3402927333
                        ],
                        "iteration": 435,
                        "passed_time": 119.7111758,
                        "remaining_time": 154.8557412,
                        "test": [
                          0.3673304244
                        ]
                      },
                      {
                        "learn": [
                          0.3402792873
                        ],
                        "iteration": 436,
                        "passed_time": 120.0157478,
                        "remaining_time": 154.6198306,
                        "test": [
                          0.367334729
                        ]
                      },
                      {
                        "learn": [
                          0.3402756618
                        ],
                        "iteration": 437,
                        "passed_time": 120.1867024,
                        "remaining_time": 154.2121616,
                        "test": [
                          0.3673497463
                        ]
                      },
                      {
                        "learn": [
                          0.3402499074
                        ],
                        "iteration": 438,
                        "passed_time": 120.6674021,
                        "remaining_time": 154.2013954,
                        "test": [
                          0.3673731562
                        ]
                      },
                      {
                        "learn": [
                          0.3401443157
                        ],
                        "iteration": 439,
                        "passed_time": 121.0205659,
                        "remaining_time": 154.0261748,
                        "test": [
                          0.3673623138
                        ]
                      },
                      {
                        "learn": [
                          0.340004706
                        ],
                        "iteration": 440,
                        "passed_time": 121.4910311,
                        "remaining_time": 153.9988353,
                        "test": [
                          0.3673497157
                        ]
                      },
                      {
                        "learn": [
                          0.339993673
                        ],
                        "iteration": 441,
                        "passed_time": 121.8064733,
                        "remaining_time": 153.773783,
                        "test": [
                          0.3673509028
                        ]
                      },
                      {
                        "learn": [
                          0.3398639382
                        ],
                        "iteration": 442,
                        "passed_time": 122.2700078,
                        "remaining_time": 153.7345245,
                        "test": [
                          0.3673487037
                        ]
                      },
                      {
                        "learn": [
                          0.339832225
                        ],
                        "iteration": 443,
                        "passed_time": 122.5212302,
                        "remaining_time": 153.4274865,
                        "test": [
                          0.3673456647
                        ]
                      },
                      {
                        "learn": [
                          0.3397366227
                        ],
                        "iteration": 444,
                        "passed_time": 122.6958636,
                        "remaining_time": 153.0251782,
                        "test": [
                          0.3673464262
                        ]
                      },
                      {
                        "learn": [
                          0.3396716008
                        ],
                        "iteration": 445,
                        "passed_time": 122.9433189,
                        "remaining_time": 152.7143468,
                        "test": [
                          0.3673510412
                        ]
                      },
                      {
                        "learn": [
                          0.3395743705
                        ],
                        "iteration": 446,
                        "passed_time": 123.1230825,
                        "remaining_time": 152.3200551,
                        "test": [
                          0.3673450831
                        ]
                      },
                      {
                        "learn": [
                          0.3394768333
                        ],
                        "iteration": 447,
                        "passed_time": 123.3105821,
                        "remaining_time": 151.9362529,
                        "test": [
                          0.367347998
                        ]
                      },
                      {
                        "learn": [
                          0.3394648322
                        ],
                        "iteration": 448,
                        "passed_time": 123.5770194,
                        "remaining_time": 151.6501953,
                        "test": [
                          0.367349584
                        ]
                      },
                      {
                        "learn": [
                          0.3394145396
                        ],
                        "iteration": 449,
                        "passed_time": 123.7532628,
                        "remaining_time": 151.2539879,
                        "test": [
                          0.3673454075
                        ]
                      },
                      {
                        "learn": [
                          0.339314448
                        ],
                        "iteration": 450,
                        "passed_time": 123.9698844,
                        "remaining_time": 150.907908,
                        "test": [
                          0.3673380098
                        ]
                      },
                      {
                        "learn": [
                          0.3392821356
                        ],
                        "iteration": 451,
                        "passed_time": 124.2156054,
                        "remaining_time": 150.5976809,
                        "test": [
                          0.3673265761
                        ]
                      },
                      {
                        "learn": [
                          0.3392593442
                        ],
                        "iteration": 452,
                        "passed_time": 124.478654,
                        "remaining_time": 150.3086617,
                        "test": [
                          0.3673348972
                        ]
                      },
                      {
                        "learn": [
                          0.3392194295
                        ],
                        "iteration": 453,
                        "passed_time": 124.7041937,
                        "remaining_time": 149.974647,
                        "test": [
                          0.3673305165
                        ]
                      },
                      {
                        "learn": [
                          0.3392193542
                        ],
                        "iteration": 454,
                        "passed_time": 124.7860066,
                        "remaining_time": 149.468953,
                        "test": [
                          0.3673307345
                        ]
                      },
                      {
                        "learn": [
                          0.3392017028
                        ],
                        "iteration": 455,
                        "passed_time": 125.0401512,
                        "remaining_time": 149.1707067,
                        "test": [
                          0.367316352
                        ]
                      },
                      {
                        "learn": [
                          0.3391058639
                        ],
                        "iteration": 456,
                        "passed_time": 125.2830923,
                        "remaining_time": 148.8593417,
                        "test": [
                          0.3673237511
                        ]
                      },
                      {
                        "learn": [
                          0.3390113112
                        ],
                        "iteration": 457,
                        "passed_time": 125.5494495,
                        "remaining_time": 148.5759861,
                        "test": [
                          0.3673220882
                        ]
                      },
                      {
                        "learn": [
                          0.3390112492
                        ],
                        "iteration": 458,
                        "passed_time": 125.6342295,
                        "remaining_time": 148.0786888,
                        "test": [
                          0.3673222935
                        ]
                      },
                      {
                        "learn": [
                          0.3389919613
                        ],
                        "iteration": 459,
                        "passed_time": 125.920986,
                        "remaining_time": 147.8202879,
                        "test": [
                          0.3673397901
                        ]
                      },
                      {
                        "learn": [
                          0.3389813862
                        ],
                        "iteration": 460,
                        "passed_time": 126.1298608,
                        "remaining_time": 147.470705,
                        "test": [
                          0.3673453993
                        ]
                      },
                      {
                        "learn": [
                          0.3389726285
                        ],
                        "iteration": 461,
                        "passed_time": 126.3033326,
                        "remaining_time": 147.0805041,
                        "test": [
                          0.3673456354
                        ]
                      },
                      {
                        "learn": [
                          0.3389659542
                        ],
                        "iteration": 462,
                        "passed_time": 126.5357935,
                        "remaining_time": 146.7596568,
                        "test": [
                          0.3673399945
                        ]
                      },
                      {
                        "learn": [
                          0.3388840061
                        ],
                        "iteration": 463,
                        "passed_time": 126.762915,
                        "remaining_time": 146.4330225,
                        "test": [
                          0.3673428807
                        ]
                      },
                      {
                        "learn": [
                          0.3388659591
                        ],
                        "iteration": 464,
                        "passed_time": 126.9714675,
                        "remaining_time": 146.0854518,
                        "test": [
                          0.3673569664
                        ]
                      },
                      {
                        "learn": [
                          0.3388629657
                        ],
                        "iteration": 465,
                        "passed_time": 127.0830592,
                        "remaining_time": 145.6273683,
                        "test": [
                          0.3673594546
                        ]
                      },
                      {
                        "learn": [
                          0.3388203989
                        ],
                        "iteration": 466,
                        "passed_time": 127.3516141,
                        "remaining_time": 145.349915,
                        "test": [
                          0.3673594867
                        ]
                      },
                      {
                        "learn": [
                          0.3386991643
                        ],
                        "iteration": 467,
                        "passed_time": 127.6120439,
                        "remaining_time": 145.0632636,
                        "test": [
                          0.3673702729
                        ]
                      },
                      {
                        "learn": [
                          0.338685582
                        ],
                        "iteration": 468,
                        "passed_time": 127.83432,
                        "remaining_time": 144.7335265,
                        "test": [
                          0.367376788
                        ]
                      },
                      {
                        "learn": [
                          0.3385964939
                        ],
                        "iteration": 469,
                        "passed_time": 128.1032922,
                        "remaining_time": 144.456904,
                        "test": [
                          0.3673621565
                        ]
                      },
                      {
                        "learn": [
                          0.3385283754
                        ],
                        "iteration": 470,
                        "passed_time": 128.3624362,
                        "remaining_time": 144.1692755,
                        "test": [
                          0.3673666673
                        ]
                      },
                      {
                        "learn": [
                          0.3383704982
                        ],
                        "iteration": 471,
                        "passed_time": 128.624554,
                        "remaining_time": 143.8850943,
                        "test": [
                          0.3673316584
                        ]
                      },
                      {
                        "learn": [
                          0.3382744997
                        ],
                        "iteration": 472,
                        "passed_time": 128.856925,
                        "remaining_time": 143.5678636,
                        "test": [
                          0.3673244063
                        ]
                      },
                      {
                        "learn": [
                          0.3382673538
                        ],
                        "iteration": 473,
                        "passed_time": 128.9749953,
                        "remaining_time": 143.1241509,
                        "test": [
                          0.3673194529
                        ]
                      },
                      {
                        "learn": [
                          0.3381548569
                        ],
                        "iteration": 474,
                        "passed_time": 129.2446897,
                        "remaining_time": 142.8493939,
                        "test": [
                          0.3673206821
                        ]
                      },
                      {
                        "learn": [
                          0.3380677758
                        ],
                        "iteration": 475,
                        "passed_time": 129.4676451,
                        "remaining_time": 142.5232059,
                        "test": [
                          0.3673217793
                        ]
                      },
                      {
                        "learn": [
                          0.3380604123
                        ],
                        "iteration": 476,
                        "passed_time": 129.7666267,
                        "remaining_time": 142.2808087,
                        "test": [
                          0.3673237235
                        ]
                      },
                      {
                        "learn": [
                          0.3380553421
                        ],
                        "iteration": 477,
                        "passed_time": 129.8813982,
                        "remaining_time": 141.8370081,
                        "test": [
                          0.3673250725
                        ]
                      },
                      {
                        "learn": [
                          0.3379215403
                        ],
                        "iteration": 478,
                        "passed_time": 130.1603227,
                        "remaining_time": 141.5731276,
                        "test": [
                          0.3673248618
                        ]
                      },
                      {
                        "learn": [
                          0.3379215287
                        ],
                        "iteration": 479,
                        "passed_time": 130.2449501,
                        "remaining_time": 141.0986959,
                        "test": [
                          0.3673249666
                        ]
                      },
                      {
                        "learn": [
                          0.3378847976
                        ],
                        "iteration": 480,
                        "passed_time": 130.498969,
                        "remaining_time": 140.8086588,
                        "test": [
                          0.3673201986
                        ]
                      },
                      {
                        "learn": [
                          0.3378515229
                        ],
                        "iteration": 481,
                        "passed_time": 130.7855811,
                        "remaining_time": 140.5537987,
                        "test": [
                          0.3673144384
                        ]
                      },
                      {
                        "learn": [
                          0.3377414578
                        ],
                        "iteration": 482,
                        "passed_time": 130.9955425,
                        "remaining_time": 140.2167609,
                        "test": [
                          0.367342878
                        ]
                      },
                      {
                        "learn": [
                          0.3376103615
                        ],
                        "iteration": 483,
                        "passed_time": 131.2499612,
                        "remaining_time": 139.9276446,
                        "test": [
                          0.3673391277
                        ]
                      },
                      {
                        "learn": [
                          0.3375670129
                        ],
                        "iteration": 484,
                        "passed_time": 131.4739264,
                        "remaining_time": 139.6063343,
                        "test": [
                          0.3673537435
                        ]
                      },
                      {
                        "learn": [
                          0.3375267731
                        ],
                        "iteration": 485,
                        "passed_time": 131.7515982,
                        "remaining_time": 139.3422253,
                        "test": [
                          0.3673772739
                        ]
                      },
                      {
                        "learn": [
                          0.3375103586
                        ],
                        "iteration": 486,
                        "passed_time": 131.9784663,
                        "remaining_time": 139.0245445,
                        "test": [
                          0.3673782067
                        ]
                      },
                      {
                        "learn": [
                          0.3374260179
                        ],
                        "iteration": 487,
                        "passed_time": 132.2315979,
                        "remaining_time": 138.7347912,
                        "test": [
                          0.3673869305
                        ]
                      },
                      {
                        "learn": [
                          0.3373145287
                        ],
                        "iteration": 488,
                        "passed_time": 132.5420348,
                        "remaining_time": 138.5050711,
                        "test": [
                          0.3673626969
                        ]
                      },
                      {
                        "learn": [
                          0.3372924615
                        ],
                        "iteration": 489,
                        "passed_time": 133.042,
                        "remaining_time": 138.4722857,
                        "test": [
                          0.3673758831
                        ]
                      },
                      {
                        "learn": [
                          0.3372267455
                        ],
                        "iteration": 490,
                        "passed_time": 133.4378382,
                        "remaining_time": 138.3296531,
                        "test": [
                          0.3673911058
                        ]
                      },
                      {
                        "learn": [
                          0.3371385152
                        ],
                        "iteration": 491,
                        "passed_time": 133.9554922,
                        "remaining_time": 138.3117684,
                        "test": [
                          0.367388842
                        ]
                      },
                      {
                        "learn": [
                          0.3369943203
                        ],
                        "iteration": 492,
                        "passed_time": 134.3898727,
                        "remaining_time": 138.206218,
                        "test": [
                          0.3673921334
                        ]
                      },
                      {
                        "learn": [
                          0.3369612513
                        ],
                        "iteration": 493,
                        "passed_time": 134.7692741,
                        "remaining_time": 138.0430216,
                        "test": [
                          0.3673904925
                        ]
                      },
                      {
                        "learn": [
                          0.3369204847
                        ],
                        "iteration": 494,
                        "passed_time": 135.0032723,
                        "remaining_time": 137.7306111,
                        "test": [
                          0.367392729
                        ]
                      },
                      {
                        "learn": [
                          0.3369118866
                        ],
                        "iteration": 495,
                        "passed_time": 135.2027551,
                        "remaining_time": 137.3834447,
                        "test": [
                          0.3673951425
                        ]
                      },
                      {
                        "learn": [
                          0.3368823707
                        ],
                        "iteration": 496,
                        "passed_time": 135.4630534,
                        "remaining_time": 137.0984223,
                        "test": [
                          0.3674241408
                        ]
                      },
                      {
                        "learn": [
                          0.3368374449
                        ],
                        "iteration": 497,
                        "passed_time": 135.7058514,
                        "remaining_time": 136.7958582,
                        "test": [
                          0.3674376573
                        ]
                      },
                      {
                        "learn": [
                          0.3367460375
                        ],
                        "iteration": 498,
                        "passed_time": 135.9470789,
                        "remaining_time": 136.491957,
                        "test": [
                          0.3674348324
                        ]
                      },
                      {
                        "learn": [
                          0.3367321859
                        ],
                        "iteration": 499,
                        "passed_time": 136.1371094,
                        "remaining_time": 136.1371094,
                        "test": [
                          0.3674419072
                        ]
                      },
                      {
                        "learn": [
                          0.336720424
                        ],
                        "iteration": 500,
                        "passed_time": 136.3314029,
                        "remaining_time": 135.7871657,
                        "test": [
                          0.3674565882
                        ]
                      },
                      {
                        "learn": [
                          0.3367087419
                        ],
                        "iteration": 501,
                        "passed_time": 136.6009827,
                        "remaining_time": 135.5125286,
                        "test": [
                          0.36747112
                        ]
                      },
                      {
                        "learn": [
                          0.3366947823
                        ],
                        "iteration": 502,
                        "passed_time": 136.8713972,
                        "remaining_time": 135.2387364,
                        "test": [
                          0.3674653796
                        ]
                      },
                      {
                        "learn": [
                          0.3366377546
                        ],
                        "iteration": 503,
                        "passed_time": 137.0914847,
                        "remaining_time": 134.9154293,
                        "test": [
                          0.3674508621
                        ]
                      },
                      {
                        "learn": [
                          0.3365539036
                        ],
                        "iteration": 504,
                        "passed_time": 137.372604,
                        "remaining_time": 134.6523544,
                        "test": [
                          0.3674529039
                        ]
                      },
                      {
                        "learn": [
                          0.336541412
                        ],
                        "iteration": 505,
                        "passed_time": 137.5519999,
                        "remaining_time": 134.2898971,
                        "test": [
                          0.3674501547
                        ]
                      },
                      {
                        "learn": [
                          0.3364469699
                        ],
                        "iteration": 506,
                        "passed_time": 137.8039319,
                        "remaining_time": 133.9986951,
                        "test": [
                          0.367446033
                        ]
                      },
                      {
                        "learn": [
                          0.3364339829
                        ],
                        "iteration": 507,
                        "passed_time": 137.990442,
                        "remaining_time": 133.6442863,
                        "test": [
                          0.3674466031
                        ]
                      },
                      {
                        "learn": [
                          0.336367254
                        ],
                        "iteration": 508,
                        "passed_time": 138.2630498,
                        "remaining_time": 133.3735903,
                        "test": [
                          0.367479229
                        ]
                      },
                      {
                        "learn": [
                          0.3362602759
                        ],
                        "iteration": 509,
                        "passed_time": 138.5178113,
                        "remaining_time": 133.0857403,
                        "test": [
                          0.3674559728
                        ]
                      },
                      {
                        "learn": [
                          0.3362267152
                        ],
                        "iteration": 510,
                        "passed_time": 138.7063445,
                        "remaining_time": 132.7346428,
                        "test": [
                          0.3674544112
                        ]
                      },
                      {
                        "learn": [
                          0.3361138004
                        ],
                        "iteration": 511,
                        "passed_time": 138.9941081,
                        "remaining_time": 132.4787592,
                        "test": [
                          0.3674513717
                        ]
                      },
                      {
                        "learn": [
                          0.3360193077
                        ],
                        "iteration": 512,
                        "passed_time": 139.1673302,
                        "remaining_time": 132.1140152,
                        "test": [
                          0.3674794415
                        ]
                      },
                      {
                        "learn": [
                          0.3359796164
                        ],
                        "iteration": 513,
                        "passed_time": 139.3771183,
                        "remaining_time": 131.7845905,
                        "test": [
                          0.367460125
                        ]
                      },
                      {
                        "learn": [
                          0.3359536857
                        ],
                        "iteration": 514,
                        "passed_time": 139.6674382,
                        "remaining_time": 131.531471,
                        "test": [
                          0.3674678726
                        ]
                      },
                      {
                        "learn": [
                          0.3358478376
                        ],
                        "iteration": 515,
                        "passed_time": 139.9103076,
                        "remaining_time": 131.2336994,
                        "test": [
                          0.3674799592
                        ]
                      },
                      {
                        "learn": [
                          0.3358387229
                        ],
                        "iteration": 516,
                        "passed_time": 140.0945597,
                        "remaining_time": 130.8813778,
                        "test": [
                          0.3674915968
                        ]
                      },
                      {
                        "learn": [
                          0.3357556423
                        ],
                        "iteration": 517,
                        "passed_time": 140.3487114,
                        "remaining_time": 130.5947469,
                        "test": [
                          0.3675082724
                        ]
                      },
                      {
                        "learn": [
                          0.3356311477
                        ],
                        "iteration": 518,
                        "passed_time": 140.607152,
                        "remaining_time": 130.3122161,
                        "test": [
                          0.3674857201
                        ]
                      },
                      {
                        "learn": [
                          0.3356131072
                        ],
                        "iteration": 519,
                        "passed_time": 140.7927783,
                        "remaining_time": 129.9625645,
                        "test": [
                          0.3674823038
                        ]
                      },
                      {
                        "learn": [
                          0.3355980203
                        ],
                        "iteration": 520,
                        "passed_time": 141.0189152,
                        "remaining_time": 129.6507877,
                        "test": [
                          0.3674826121
                        ]
                      },
                      {
                        "learn": [
                          0.3355411636
                        ],
                        "iteration": 521,
                        "passed_time": 141.2656279,
                        "remaining_time": 129.3581804,
                        "test": [
                          0.367482202
                        ]
                      },
                      {
                        "learn": [
                          0.3355038151
                        ],
                        "iteration": 522,
                        "passed_time": 141.4800783,
                        "remaining_time": 129.0363238,
                        "test": [
                          0.3674786113
                        ]
                      },
                      {
                        "learn": [
                          0.3354659517
                        ],
                        "iteration": 523,
                        "passed_time": 141.7460104,
                        "remaining_time": 128.7616431,
                        "test": [
                          0.3674883202
                        ]
                      },
                      {
                        "learn": [
                          0.3353532892
                        ],
                        "iteration": 524,
                        "passed_time": 142.029716,
                        "remaining_time": 128.5030764,
                        "test": [
                          0.3674934304
                        ]
                      },
                      {
                        "learn": [
                          0.3352964538
                        ],
                        "iteration": 525,
                        "passed_time": 142.262728,
                        "remaining_time": 128.1987321,
                        "test": [
                          0.3674901188
                        ]
                      },
                      {
                        "learn": [
                          0.335281517
                        ],
                        "iteration": 526,
                        "passed_time": 142.5412257,
                        "remaining_time": 127.9354834,
                        "test": [
                          0.367490267
                        ]
                      },
                      {
                        "learn": [
                          0.3352753916
                        ],
                        "iteration": 527,
                        "passed_time": 142.7422395,
                        "remaining_time": 127.6029111,
                        "test": [
                          0.3675053309
                        ]
                      },
                      {
                        "learn": [
                          0.3352516089
                        ],
                        "iteration": 528,
                        "passed_time": 143.1053408,
                        "remaining_time": 127.4151522,
                        "test": [
                          0.3675088118
                        ]
                      },
                      {
                        "learn": [
                          0.3351764055
                        ],
                        "iteration": 529,
                        "passed_time": 143.3391542,
                        "remaining_time": 127.1120801,
                        "test": [
                          0.3675120398
                        ]
                      },
                      {
                        "learn": [
                          0.3350759687
                        ],
                        "iteration": 530,
                        "passed_time": 143.553698,
                        "remaining_time": 126.7922493,
                        "test": [
                          0.367511023
                        ]
                      },
                      {
                        "learn": [
                          0.3350006202
                        ],
                        "iteration": 531,
                        "passed_time": 143.8016134,
                        "remaining_time": 126.5021712,
                        "test": [
                          0.3675131917
                        ]
                      },
                      {
                        "learn": [
                          0.3349008526
                        ],
                        "iteration": 532,
                        "passed_time": 144.0710832,
                        "remaining_time": 126.2311367,
                        "test": [
                          0.367526017
                        ]
                      },
                      {
                        "learn": [
                          0.3348138712
                        ],
                        "iteration": 533,
                        "passed_time": 144.2954922,
                        "remaining_time": 125.9207853,
                        "test": [
                          0.367532073
                        ]
                      },
                      {
                        "learn": [
                          0.3347034698
                        ],
                        "iteration": 534,
                        "passed_time": 144.5005173,
                        "remaining_time": 125.5939076,
                        "test": [
                          0.3675514389
                        ]
                      },
                      {
                        "learn": [
                          0.3346913081
                        ],
                        "iteration": 535,
                        "passed_time": 144.7442668,
                        "remaining_time": 125.3010071,
                        "test": [
                          0.3675709277
                        ]
                      },
                      {
                        "learn": [
                          0.334671543
                        ],
                        "iteration": 536,
                        "passed_time": 145.039828,
                        "remaining_time": 125.0529616,
                        "test": [
                          0.3675667027
                        ]
                      },
                      {
                        "learn": [
                          0.3346715111
                        ],
                        "iteration": 537,
                        "passed_time": 145.1988758,
                        "remaining_time": 124.6875104,
                        "test": [
                          0.3675664746
                        ]
                      },
                      {
                        "learn": [
                          0.3346409146
                        ],
                        "iteration": 538,
                        "passed_time": 145.5922224,
                        "remaining_time": 124.523218,
                        "test": [
                          0.3675959563
                        ]
                      },
                      {
                        "learn": [
                          0.3345616369
                        ],
                        "iteration": 539,
                        "passed_time": 146.0197627,
                        "remaining_time": 124.3872052,
                        "test": [
                          0.3675871641
                        ]
                      },
                      {
                        "learn": [
                          0.334517054
                        ],
                        "iteration": 540,
                        "passed_time": 146.4552939,
                        "remaining_time": 124.2568945,
                        "test": [
                          0.3675936066
                        ]
                      },
                      {
                        "learn": [
                          0.3345016769
                        ],
                        "iteration": 541,
                        "passed_time": 146.7843142,
                        "remaining_time": 124.0354537,
                        "test": [
                          0.3675931497
                        ]
                      },
                      {
                        "learn": [
                          0.3344804609
                        ],
                        "iteration": 542,
                        "passed_time": 147.2589741,
                        "remaining_time": 123.93619,
                        "test": [
                          0.3675598423
                        ]
                      },
                      {
                        "learn": [
                          0.3344019419
                        ],
                        "iteration": 543,
                        "passed_time": 147.5345671,
                        "remaining_time": 123.6686812,
                        "test": [
                          0.3675660549
                        ]
                      },
                      {
                        "learn": [
                          0.3343891076
                        ],
                        "iteration": 544,
                        "passed_time": 147.7245694,
                        "remaining_time": 123.3296864,
                        "test": [
                          0.3675819648
                        ]
                      },
                      {
                        "learn": [
                          0.3342778254
                        ],
                        "iteration": 545,
                        "passed_time": 147.9655666,
                        "remaining_time": 123.0336396,
                        "test": [
                          0.3675822135
                        ]
                      },
                      {
                        "learn": [
                          0.3341776012
                        ],
                        "iteration": 546,
                        "passed_time": 148.2512219,
                        "remaining_time": 122.774778,
                        "test": [
                          0.3676209675
                        ]
                      },
                      {
                        "learn": [
                          0.3341253035
                        ],
                        "iteration": 547,
                        "passed_time": 148.5076283,
                        "remaining_time": 122.4916934,
                        "test": [
                          0.3676149213
                        ]
                      },
                      {
                        "learn": [
                          0.3340525544
                        ],
                        "iteration": 548,
                        "passed_time": 148.7609893,
                        "remaining_time": 122.2062044,
                        "test": [
                          0.3676204485
                        ]
                      },
                      {
                        "learn": [
                          0.3340340411
                        ],
                        "iteration": 549,
                        "passed_time": 149.0179231,
                        "remaining_time": 121.9237552,
                        "test": [
                          0.3676289537
                        ]
                      },
                      {
                        "learn": [
                          0.3340248493
                        ],
                        "iteration": 550,
                        "passed_time": 149.2600307,
                        "remaining_time": 121.6293172,
                        "test": [
                          0.3676353844
                        ]
                      },
                      {
                        "learn": [
                          0.3340142639
                        ],
                        "iteration": 551,
                        "passed_time": 149.4454459,
                        "remaining_time": 121.2890575,
                        "test": [
                          0.3676313177
                        ]
                      },
                      {
                        "learn": [
                          0.3339703215
                        ],
                        "iteration": 552,
                        "passed_time": 149.6743451,
                        "remaining_time": 120.9845068,
                        "test": [
                          0.3676454508
                        ]
                      },
                      {
                        "learn": [
                          0.3339702757
                        ],
                        "iteration": 553,
                        "passed_time": 149.7566476,
                        "remaining_time": 120.5622109,
                        "test": [
                          0.3676451687
                        ]
                      },
                      {
                        "learn": [
                          0.3339606932
                        ],
                        "iteration": 554,
                        "passed_time": 150.0513071,
                        "remaining_time": 120.3114084,
                        "test": [
                          0.3676414264
                        ]
                      },
                      {
                        "learn": [
                          0.333947298
                        ],
                        "iteration": 555,
                        "passed_time": 150.222889,
                        "remaining_time": 119.9621631,
                        "test": [
                          0.3676375516
                        ]
                      },
                      {
                        "learn": [
                          0.3338632883
                        ],
                        "iteration": 556,
                        "passed_time": 150.4340038,
                        "remaining_time": 119.6449976,
                        "test": [
                          0.3676505855
                        ]
                      },
                      {
                        "learn": [
                          0.3338515563
                        ],
                        "iteration": 557,
                        "passed_time": 150.6486588,
                        "remaining_time": 119.3310165,
                        "test": [
                          0.3676419714
                        ]
                      },
                      {
                        "learn": [
                          0.3338421663
                        ],
                        "iteration": 558,
                        "passed_time": 150.9004339,
                        "remaining_time": 119.0466751,
                        "test": [
                          0.3676484179
                        ]
                      },
                      {
                        "learn": [
                          0.3337929307
                        ],
                        "iteration": 559,
                        "passed_time": 151.117271,
                        "remaining_time": 118.7349986,
                        "test": [
                          0.3676534486
                        ]
                      },
                      {
                        "learn": [
                          0.3337862055
                        ],
                        "iteration": 560,
                        "passed_time": 151.3592734,
                        "remaining_time": 118.443353,
                        "test": [
                          0.3676539223
                        ]
                      },
                      {
                        "learn": [
                          0.3337692466
                        ],
                        "iteration": 561,
                        "passed_time": 151.5360241,
                        "remaining_time": 118.1010294,
                        "test": [
                          0.3676498764
                        ]
                      },
                      {
                        "learn": [
                          0.3336965575
                        ],
                        "iteration": 562,
                        "passed_time": 151.7761719,
                        "remaining_time": 117.8085029,
                        "test": [
                          0.3676616931
                        ]
                      },
                      {
                        "learn": [
                          0.3336795947
                        ],
                        "iteration": 563,
                        "passed_time": 151.965473,
                        "remaining_time": 117.476855,
                        "test": [
                          0.3676577402
                        ]
                      },
                      {
                        "learn": [
                          0.3336420756
                        ],
                        "iteration": 564,
                        "passed_time": 152.2421697,
                        "remaining_time": 117.2129979,
                        "test": [
                          0.3676504511
                        ]
                      },
                      {
                        "learn": [
                          0.333563307
                        ],
                        "iteration": 565,
                        "passed_time": 152.5059542,
                        "remaining_time": 116.9391946,
                        "test": [
                          0.367646458
                        ]
                      },
                      {
                        "learn": [
                          0.3335494725
                        ],
                        "iteration": 566,
                        "passed_time": 152.7504746,
                        "remaining_time": 116.6507152,
                        "test": [
                          0.3676615665
                        ]
                      },
                      {
                        "learn": [
                          0.3335337663
                        ],
                        "iteration": 567,
                        "passed_time": 153.0183367,
                        "remaining_time": 116.3801434,
                        "test": [
                          0.3676633404
                        ]
                      },
                      {
                        "learn": [
                          0.333448751
                        ],
                        "iteration": 568,
                        "passed_time": 153.2378568,
                        "remaining_time": 116.0729636,
                        "test": [
                          0.3676647062
                        ]
                      },
                      {
                        "learn": [
                          0.3334209722
                        ],
                        "iteration": 569,
                        "passed_time": 153.4942029,
                        "remaining_time": 115.7938724,
                        "test": [
                          0.3676547142
                        ]
                      },
                      {
                        "learn": [
                          0.3333386542
                        ],
                        "iteration": 570,
                        "passed_time": 153.7767854,
                        "remaining_time": 115.5345725,
                        "test": [
                          0.3676652458
                        ]
                      },
                      {
                        "learn": [
                          0.3333014698
                        ],
                        "iteration": 571,
                        "passed_time": 154.0524939,
                        "remaining_time": 115.2700478,
                        "test": [
                          0.3676930728
                        ]
                      },
                      {
                        "learn": [
                          0.3332901505
                        ],
                        "iteration": 572,
                        "passed_time": 154.2178469,
                        "remaining_time": 114.9232472,
                        "test": [
                          0.367706262
                        ]
                      },
                      {
                        "learn": [
                          0.3332145806
                        ],
                        "iteration": 573,
                        "passed_time": 154.4436609,
                        "remaining_time": 114.6219504,
                        "test": [
                          0.3677117905
                        ]
                      },
                      {
                        "learn": [
                          0.3331499795
                        ],
                        "iteration": 574,
                        "passed_time": 154.7035026,
                        "remaining_time": 114.3460671,
                        "test": [
                          0.3677189053
                        ]
                      },
                      {
                        "learn": [
                          0.3331395174
                        ],
                        "iteration": 575,
                        "passed_time": 154.9306405,
                        "remaining_time": 114.0461659,
                        "test": [
                          0.3677334778
                        ]
                      },
                      {
                        "learn": [
                          0.3331132659
                        ],
                        "iteration": 576,
                        "passed_time": 155.2068991,
                        "remaining_time": 113.7825274,
                        "test": [
                          0.3677316078
                        ]
                      },
                      {
                        "learn": [
                          0.3330690629
                        ],
                        "iteration": 577,
                        "passed_time": 155.4639204,
                        "remaining_time": 113.5048,
                        "test": [
                          0.3677378543
                        ]
                      },
                      {
                        "learn": [
                          0.333051134
                        ],
                        "iteration": 578,
                        "passed_time": 155.6737625,
                        "remaining_time": 113.1928394,
                        "test": [
                          0.3677464685
                        ]
                      },
                      {
                        "learn": [
                          0.3329617799
                        ],
                        "iteration": 579,
                        "passed_time": 155.9168867,
                        "remaining_time": 112.9053317,
                        "test": [
                          0.3677502764
                        ]
                      },
                      {
                        "learn": [
                          0.3329580678
                        ],
                        "iteration": 580,
                        "passed_time": 156.0804471,
                        "remaining_time": 112.5605978,
                        "test": [
                          0.3677501961
                        ]
                      },
                      {
                        "learn": [
                          0.3328939983
                        ],
                        "iteration": 581,
                        "passed_time": 156.2925813,
                        "remaining_time": 112.2513729,
                        "test": [
                          0.3677529299
                        ]
                      },
                      {
                        "learn": [
                          0.332832356
                        ],
                        "iteration": 582,
                        "passed_time": 156.5124399,
                        "remaining_time": 111.9480059,
                        "test": [
                          0.367757074
                        ]
                      },
                      {
                        "learn": [
                          0.3328252232
                        ],
                        "iteration": 583,
                        "passed_time": 156.6792877,
                        "remaining_time": 111.6071638,
                        "test": [
                          0.3677502305
                        ]
                      },
                      {
                        "learn": [
                          0.3327321994
                        ],
                        "iteration": 584,
                        "passed_time": 156.9282182,
                        "remaining_time": 111.3251463,
                        "test": [
                          0.3677560684
                        ]
                      },
                      {
                        "learn": [
                          0.332661656
                        ],
                        "iteration": 585,
                        "passed_time": 157.1467248,
                        "remaining_time": 111.0217476,
                        "test": [
                          0.3677443987
                        ]
                      },
                      {
                        "learn": [
                          0.3325964823
                        ],
                        "iteration": 586,
                        "passed_time": 157.4193929,
                        "remaining_time": 110.7567449,
                        "test": [
                          0.3677490984
                        ]
                      },
                      {
                        "learn": [
                          0.3325261161
                        ],
                        "iteration": 587,
                        "passed_time": 157.789426,
                        "remaining_time": 110.559938,
                        "test": [
                          0.3677547135
                        ]
                      },
                      {
                        "learn": [
                          0.3324365625
                        ],
                        "iteration": 588,
                        "passed_time": 158.2067097,
                        "remaining_time": 110.3955139,
                        "test": [
                          0.3677593516
                        ]
                      },
                      {
                        "learn": [
                          0.332360404
                        ],
                        "iteration": 589,
                        "passed_time": 158.6793285,
                        "remaining_time": 110.2686859,
                        "test": [
                          0.3677383969
                        ]
                      },
                      {
                        "learn": [
                          0.3322390053
                        ],
                        "iteration": 590,
                        "passed_time": 159.1232727,
                        "remaining_time": 110.1208435,
                        "test": [
                          0.3677354182
                        ]
                      },
                      {
                        "learn": [
                          0.3321642401
                        ],
                        "iteration": 591,
                        "passed_time": 159.5661297,
                        "remaining_time": 109.9712515,
                        "test": [
                          0.3677405289
                        ]
                      },
                      {
                        "learn": [
                          0.3321183391
                        ],
                        "iteration": 592,
                        "passed_time": 159.9203847,
                        "remaining_time": 109.7598593,
                        "test": [
                          0.3677301801
                        ]
                      },
                      {
                        "learn": [
                          0.3320131848
                        ],
                        "iteration": 593,
                        "passed_time": 160.1999815,
                        "remaining_time": 109.4969571,
                        "test": [
                          0.3677034627
                        ]
                      },
                      {
                        "learn": [
                          0.3319992846
                        ],
                        "iteration": 594,
                        "passed_time": 160.3860164,
                        "remaining_time": 109.1703137,
                        "test": [
                          0.3677128928
                        ]
                      },
                      {
                        "learn": [
                          0.3319896497
                        ],
                        "iteration": 595,
                        "passed_time": 160.5449126,
                        "remaining_time": 108.8257461,
                        "test": [
                          0.3677165
                        ]
                      },
                      {
                        "learn": [
                          0.3319758664
                        ],
                        "iteration": 596,
                        "passed_time": 160.8161417,
                        "remaining_time": 108.55763,
                        "test": [
                          0.3677145939
                        ]
                      },
                      {
                        "learn": [
                          0.3319757738
                        ],
                        "iteration": 597,
                        "passed_time": 160.8980061,
                        "remaining_time": 108.1622048,
                        "test": [
                          0.3677141625
                        ]
                      },
                      {
                        "learn": [
                          0.3319616291
                        ],
                        "iteration": 598,
                        "passed_time": 161.1201478,
                        "remaining_time": 107.861735,
                        "test": [
                          0.3677016016
                        ]
                      },
                      {
                        "learn": [
                          0.3319264155
                        ],
                        "iteration": 599,
                        "passed_time": 161.3799492,
                        "remaining_time": 107.5866328,
                        "test": [
                          0.3677953096
                        ]
                      },
                      {
                        "learn": [
                          0.3318531235
                        ],
                        "iteration": 600,
                        "passed_time": 161.6301871,
                        "remaining_time": 107.3052324,
                        "test": [
                          0.3678022743
                        ]
                      },
                      {
                        "learn": [
                          0.3318107894
                        ],
                        "iteration": 601,
                        "passed_time": 161.9141588,
                        "remaining_time": 107.0462379,
                        "test": [
                          0.3677935214
                        ]
                      },
                      {
                        "learn": [
                          0.3318056657
                        ],
                        "iteration": 602,
                        "passed_time": 162.0629408,
                        "remaining_time": 106.6981551,
                        "test": [
                          0.3677913366
                        ]
                      },
                      {
                        "learn": [
                          0.33179202
                        ],
                        "iteration": 603,
                        "passed_time": 162.298494,
                        "remaining_time": 106.4076219,
                        "test": [
                          0.3677877826
                        ]
                      },
                      {
                        "learn": [
                          0.3317822748
                        ],
                        "iteration": 604,
                        "passed_time": 162.4467916,
                        "remaining_time": 106.060302,
                        "test": [
                          0.3677897259
                        ]
                      },
                      {
                        "learn": [
                          0.3317136449
                        ],
                        "iteration": 605,
                        "passed_time": 162.7092761,
                        "remaining_time": 105.7878792,
                        "test": [
                          0.3677959667
                        ]
                      },
                      {
                        "learn": [
                          0.3317111532
                        ],
                        "iteration": 606,
                        "passed_time": 162.8839045,
                        "remaining_time": 105.458607,
                        "test": [
                          0.3677960349
                        ]
                      },
                      {
                        "learn": [
                          0.3316709876
                        ],
                        "iteration": 607,
                        "passed_time": 163.1105856,
                        "remaining_time": 105.1634039,
                        "test": [
                          0.3677706474
                        ]
                      },
                      {
                        "learn": [
                          0.3316062869
                        ],
                        "iteration": 608,
                        "passed_time": 163.3658525,
                        "remaining_time": 104.8867789,
                        "test": [
                          0.3677657127
                        ]
                      },
                      {
                        "learn": [
                          0.3315164861
                        ],
                        "iteration": 609,
                        "passed_time": 163.6369594,
                        "remaining_time": 104.6203511,
                        "test": [
                          0.3677584941
                        ]
                      },
                      {
                        "learn": [
                          0.33145443
                        ],
                        "iteration": 610,
                        "passed_time": 163.9204939,
                        "remaining_time": 104.3618202,
                        "test": [
                          0.3677612326
                        ]
                      },
                      {
                        "learn": [
                          0.331440436
                        ],
                        "iteration": 611,
                        "passed_time": 164.1605676,
                        "remaining_time": 104.075654,
                        "test": [
                          0.3677583506
                        ]
                      },
                      {
                        "learn": [
                          0.3314227563
                        ],
                        "iteration": 612,
                        "passed_time": 164.4058962,
                        "remaining_time": 103.7929557,
                        "test": [
                          0.3677633675
                        ]
                      },
                      {
                        "learn": [
                          0.3314146071
                        ],
                        "iteration": 613,
                        "passed_time": 164.6885267,
                        "remaining_time": 103.5338295,
                        "test": [
                          0.3677674328
                        ]
                      },
                      {
                        "learn": [
                          0.3314102854
                        ],
                        "iteration": 614,
                        "passed_time": 164.8158861,
                        "remaining_time": 103.1774246,
                        "test": [
                          0.3677713023
                        ]
                      },
                      {
                        "learn": [
                          0.3314007005
                        ],
                        "iteration": 615,
                        "passed_time": 165.0384508,
                        "remaining_time": 102.8811122,
                        "test": [
                          0.3677736706
                        ]
                      },
                      {
                        "learn": [
                          0.3313705641
                        ],
                        "iteration": 616,
                        "passed_time": 165.2600285,
                        "remaining_time": 102.5844261,
                        "test": [
                          0.3677664059
                        ]
                      },
                      {
                        "learn": [
                          0.3313666912
                        ],
                        "iteration": 617,
                        "passed_time": 165.433772,
                        "remaining_time": 102.2584157,
                        "test": [
                          0.367766162
                        ]
                      },
                      {
                        "learn": [
                          0.3313081409
                        ],
                        "iteration": 618,
                        "passed_time": 165.676255,
                        "remaining_time": 101.9752071,
                        "test": [
                          0.3677870984
                        ]
                      },
                      {
                        "learn": [
                          0.3312930187
                        ],
                        "iteration": 619,
                        "passed_time": 165.9143731,
                        "remaining_time": 101.6894545,
                        "test": [
                          0.3677977191
                        ]
                      },
                      {
                        "learn": [
                          0.3312205992
                        ],
                        "iteration": 620,
                        "passed_time": 166.1621408,
                        "remaining_time": 101.4097445,
                        "test": [
                          0.3678002142
                        ]
                      },
                      {
                        "learn": [
                          0.3311142055
                        ],
                        "iteration": 621,
                        "passed_time": 166.4464391,
                        "remaining_time": 101.1523376,
                        "test": [
                          0.3677947469
                        ]
                      },
                      {
                        "learn": [
                          0.3310967669
                        ],
                        "iteration": 622,
                        "passed_time": 166.7057865,
                        "remaining_time": 100.8797456,
                        "test": [
                          0.3678094001
                        ]
                      },
                      {
                        "learn": [
                          0.3310608386
                        ],
                        "iteration": 623,
                        "passed_time": 166.9714646,
                        "remaining_time": 100.6110107,
                        "test": [
                          0.3678146955
                        ]
                      },
                      {
                        "learn": [
                          0.3309979013
                        ],
                        "iteration": 624,
                        "passed_time": 167.1853229,
                        "remaining_time": 100.3111937,
                        "test": [
                          0.3678173242
                        ]
                      },
                      {
                        "learn": [
                          0.3309916041
                        ],
                        "iteration": 625,
                        "passed_time": 167.3785016,
                        "remaining_time": 99.99929648,
                        "test": [
                          0.3678267852
                        ]
                      },
                      {
                        "learn": [
                          0.3309839676
                        ],
                        "iteration": 626,
                        "passed_time": 167.5883612,
                        "remaining_time": 99.69770133,
                        "test": [
                          0.3678296913
                        ]
                      },
                      {
                        "learn": [
                          0.3309775034
                        ],
                        "iteration": 627,
                        "passed_time": 167.8014508,
                        "remaining_time": 99.39831163,
                        "test": [
                          0.3678331458
                        ]
                      },
                      {
                        "learn": [
                          0.3308942248
                        ],
                        "iteration": 628,
                        "passed_time": 168.0814182,
                        "remaining_time": 99.13864255,
                        "test": [
                          0.3678322221
                        ]
                      },
                      {
                        "learn": [
                          0.3308941197
                        ],
                        "iteration": 629,
                        "passed_time": 168.2049757,
                        "remaining_time": 98.7870492,
                        "test": [
                          0.3678317615
                        ]
                      },
                      {
                        "learn": [
                          0.3308291051
                        ],
                        "iteration": 630,
                        "passed_time": 168.5145401,
                        "remaining_time": 98.54495294,
                        "test": [
                          0.3678311979
                        ]
                      },
                      {
                        "learn": [
                          0.3307817257
                        ],
                        "iteration": 631,
                        "passed_time": 168.7745884,
                        "remaining_time": 98.27381098,
                        "test": [
                          0.3678399219
                        ]
                      },
                      {
                        "learn": [
                          0.3307702479
                        ],
                        "iteration": 632,
                        "passed_time": 169.033146,
                        "remaining_time": 98.00183975,
                        "test": [
                          0.3678387849
                        ]
                      },
                      {
                        "learn": [
                          0.3307235495
                        ],
                        "iteration": 633,
                        "passed_time": 169.2654182,
                        "remaining_time": 97.71473667,
                        "test": [
                          0.367840947
                        ]
                      },
                      {
                        "learn": [
                          0.3306544379
                        ],
                        "iteration": 634,
                        "passed_time": 169.5022652,
                        "remaining_time": 97.43043592,
                        "test": [
                          0.3678335232
                        ]
                      },
                      {
                        "learn": [
                          0.3305940696
                        ],
                        "iteration": 635,
                        "passed_time": 169.6922644,
                        "remaining_time": 97.11947209,
                        "test": [
                          0.3678399187
                        ]
                      },
                      {
                        "learn": [
                          0.330539206
                        ],
                        "iteration": 636,
                        "passed_time": 170.1939768,
                        "remaining_time": 96.98652052,
                        "test": [
                          0.3678343844
                        ]
                      },
                      {
                        "learn": [
                          0.3305266428
                        ],
                        "iteration": 637,
                        "passed_time": 170.6095171,
                        "remaining_time": 96.80351909,
                        "test": [
                          0.3678425825
                        ]
                      },
                      {
                        "learn": [
                          0.3304924877
                        ],
                        "iteration": 638,
                        "passed_time": 171.1376068,
                        "remaining_time": 96.68337413,
                        "test": [
                          0.3678293028
                        ]
                      },
                      {
                        "learn": [
                          0.3304618464
                        ],
                        "iteration": 639,
                        "passed_time": 171.5505755,
                        "remaining_time": 96.49719873,
                        "test": [
                          0.3678274841
                        ]
                      },
                      {
                        "learn": [
                          0.3303884268
                        ],
                        "iteration": 640,
                        "passed_time": 172.0065571,
                        "remaining_time": 96.33440562,
                        "test": [
                          0.3678541536
                        ]
                      },
                      {
                        "learn": [
                          0.3303825511
                        ],
                        "iteration": 641,
                        "passed_time": 172.2785737,
                        "remaining_time": 96.06811431,
                        "test": [
                          0.36785185
                        ]
                      },
                      {
                        "learn": [
                          0.330382441
                        ],
                        "iteration": 642,
                        "passed_time": 172.3689796,
                        "remaining_time": 95.70097315,
                        "test": [
                          0.3678513665
                        ]
                      },
                      {
                        "learn": [
                          0.3303681521
                        ],
                        "iteration": 643,
                        "passed_time": 172.6319651,
                        "remaining_time": 95.43009253,
                        "test": [
                          0.3678543687
                        ]
                      },
                      {
                        "learn": [
                          0.3302982894
                        ],
                        "iteration": 644,
                        "passed_time": 172.8541616,
                        "remaining_time": 95.13678664,
                        "test": [
                          0.3678524834
                        ]
                      },
                      {
                        "learn": [
                          0.3302359495
                        ],
                        "iteration": 645,
                        "passed_time": 173.1306162,
                        "remaining_time": 94.87343363,
                        "test": [
                          0.3678832754
                        ]
                      },
                      {
                        "learn": [
                          0.3302096078
                        ],
                        "iteration": 646,
                        "passed_time": 173.4096455,
                        "remaining_time": 94.61144492,
                        "test": [
                          0.3678855065
                        ]
                      },
                      {
                        "learn": [
                          0.3301746337
                        ],
                        "iteration": 647,
                        "passed_time": 173.6049063,
                        "remaining_time": 94.3038997,
                        "test": [
                          0.3678830212
                        ]
                      },
                      {
                        "learn": [
                          0.3301649333
                        ],
                        "iteration": 648,
                        "passed_time": 173.878854,
                        "remaining_time": 94.03925694,
                        "test": [
                          0.367891762
                        ]
                      },
                      {
                        "learn": [
                          0.3301563601
                        ],
                        "iteration": 649,
                        "passed_time": 174.1481442,
                        "remaining_time": 93.77207765,
                        "test": [
                          0.3679066654
                        ]
                      },
                      {
                        "learn": [
                          0.330146719
                        ],
                        "iteration": 650,
                        "passed_time": 174.3722637,
                        "remaining_time": 93.48067594,
                        "test": [
                          0.3679046476
                        ]
                      },
                      {
                        "learn": [
                          0.3300597105
                        ],
                        "iteration": 651,
                        "passed_time": 174.5732805,
                        "remaining_time": 93.1771497,
                        "test": [
                          0.3678990104
                        ]
                      },
                      {
                        "learn": [
                          0.3300577179
                        ],
                        "iteration": 652,
                        "passed_time": 174.699079,
                        "remaining_time": 92.83396693,
                        "test": [
                          0.3679020071
                        ]
                      },
                      {
                        "learn": [
                          0.3300457719
                        ],
                        "iteration": 653,
                        "passed_time": 174.9353414,
                        "remaining_time": 92.54989011,
                        "test": [
                          0.3679040453
                        ]
                      },
                      {
                        "learn": [
                          0.3300037096
                        ],
                        "iteration": 654,
                        "passed_time": 175.171408,
                        "remaining_time": 92.26585613,
                        "test": [
                          0.3679242949
                        ]
                      },
                      {
                        "learn": [
                          0.3299993018
                        ],
                        "iteration": 655,
                        "passed_time": 175.3954953,
                        "remaining_time": 91.97568655,
                        "test": [
                          0.3679249104
                        ]
                      },
                      {
                        "learn": [
                          0.3299920491
                        ],
                        "iteration": 656,
                        "passed_time": 175.6132376,
                        "remaining_time": 91.68240565,
                        "test": [
                          0.3679233362
                        ]
                      },
                      {
                        "learn": [
                          0.3298980756
                        ],
                        "iteration": 657,
                        "passed_time": 175.8662144,
                        "remaining_time": 91.40766766,
                        "test": [
                          0.3679360281
                        ]
                      },
                      {
                        "learn": [
                          0.3298795528
                        ],
                        "iteration": 658,
                        "passed_time": 176.1010833,
                        "remaining_time": 91.12362581,
                        "test": [
                          0.3679334002
                        ]
                      },
                      {
                        "learn": [
                          0.3298583063
                        ],
                        "iteration": 659,
                        "passed_time": 176.3285801,
                        "remaining_time": 90.83593521,
                        "test": [
                          0.3679394378
                        ]
                      },
                      {
                        "learn": [
                          0.3298182807
                        ],
                        "iteration": 660,
                        "passed_time": 176.625686,
                        "remaining_time": 90.5841264,
                        "test": [
                          0.3679230938
                        ]
                      },
                      {
                        "learn": [
                          0.329735874
                        ],
                        "iteration": 661,
                        "passed_time": 176.8829413,
                        "remaining_time": 90.31183409,
                        "test": [
                          0.3679137983
                        ]
                      },
                      {
                        "learn": [
                          0.3297051865
                        ],
                        "iteration": 662,
                        "passed_time": 177.1612152,
                        "remaining_time": 90.05027076,
                        "test": [
                          0.3679120565
                        ]
                      },
                      {
                        "learn": [
                          0.3296707083
                        ],
                        "iteration": 663,
                        "passed_time": 177.403386,
                        "remaining_time": 89.77038811,
                        "test": [
                          0.3679237594
                        ]
                      },
                      {
                        "learn": [
                          0.329660794
                        ],
                        "iteration": 664,
                        "passed_time": 177.6364919,
                        "remaining_time": 89.48605231,
                        "test": [
                          0.3679196312
                        ]
                      },
                      {
                        "learn": [
                          0.3296261928
                        ],
                        "iteration": 665,
                        "passed_time": 177.8590368,
                        "remaining_time": 89.196574,
                        "test": [
                          0.3679183474
                        ]
                      },
                      {
                        "learn": [
                          0.3296049316
                        ],
                        "iteration": 666,
                        "passed_time": 178.0962301,
                        "remaining_time": 88.91460965,
                        "test": [
                          0.3679222661
                        ]
                      },
                      {
                        "learn": [
                          0.3295498832
                        ],
                        "iteration": 667,
                        "passed_time": 178.326755,
                        "remaining_time": 88.62946508,
                        "test": [
                          0.3679522942
                        ]
                      },
                      {
                        "learn": [
                          0.3294893133
                        ],
                        "iteration": 668,
                        "passed_time": 178.5901559,
                        "remaining_time": 88.36074976,
                        "test": [
                          0.3679527133
                        ]
                      },
                      {
                        "learn": [
                          0.329440014
                        ],
                        "iteration": 669,
                        "passed_time": 178.8344902,
                        "remaining_time": 88.08265935,
                        "test": [
                          0.3679709484
                        ]
                      },
                      {
                        "learn": [
                          0.3294298277
                        ],
                        "iteration": 670,
                        "passed_time": 179.0504493,
                        "remaining_time": 87.79075679,
                        "test": [
                          0.3679706372
                        ]
                      },
                      {
                        "learn": [
                          0.3293660135
                        ],
                        "iteration": 671,
                        "passed_time": 179.3121655,
                        "remaining_time": 87.5214141,
                        "test": [
                          0.367963463
                        ]
                      },
                      {
                        "learn": [
                          0.329310405
                        ],
                        "iteration": 672,
                        "passed_time": 179.5478512,
                        "remaining_time": 87.23944626,
                        "test": [
                          0.3679611005
                        ]
                      },
                      {
                        "learn": [
                          0.3293045969
                        ],
                        "iteration": 673,
                        "passed_time": 179.7694154,
                        "remaining_time": 86.95078549,
                        "test": [
                          0.367971359
                        ]
                      },
                      {
                        "learn": [
                          0.3292291096
                        ],
                        "iteration": 674,
                        "passed_time": 180.0407208,
                        "remaining_time": 86.68627298,
                        "test": [
                          0.36797075
                        ]
                      },
                      {
                        "learn": [
                          0.3292113637
                        ],
                        "iteration": 675,
                        "passed_time": 180.2408394,
                        "remaining_time": 86.38762126,
                        "test": [
                          0.367965416
                        ]
                      },
                      {
                        "learn": [
                          0.3291529821
                        ],
                        "iteration": 676,
                        "passed_time": 180.5222424,
                        "remaining_time": 86.12804179,
                        "test": [
                          0.3679588309
                        ]
                      },
                      {
                        "learn": [
                          0.329106203
                        ],
                        "iteration": 677,
                        "passed_time": 180.749456,
                        "remaining_time": 85.84266202,
                        "test": [
                          0.3679619056
                        ]
                      },
                      {
                        "learn": [
                          0.3291060823
                        ],
                        "iteration": 678,
                        "passed_time": 180.8520738,
                        "remaining_time": 85.49855036,
                        "test": [
                          0.3679613876
                        ]
                      },
                      {
                        "learn": [
                          0.3290821092
                        ],
                        "iteration": 679,
                        "passed_time": 181.0678635,
                        "remaining_time": 85.20840634,
                        "test": [
                          0.3679547318
                        ]
                      },
                      {
                        "learn": [
                          0.329078706
                        ],
                        "iteration": 680,
                        "passed_time": 181.2231083,
                        "remaining_time": 84.89011973,
                        "test": [
                          0.3679543569
                        ]
                      },
                      {
                        "learn": [
                          0.3289894098
                        ],
                        "iteration": 681,
                        "passed_time": 181.4878659,
                        "remaining_time": 84.62337441,
                        "test": [
                          0.3679444344
                        ]
                      },
                      {
                        "learn": [
                          0.3289589774
                        ],
                        "iteration": 682,
                        "passed_time": 181.7304556,
                        "remaining_time": 84.34634614,
                        "test": [
                          0.3679458948
                        ]
                      },
                      {
                        "learn": [
                          0.3289005482
                        ],
                        "iteration": 683,
                        "passed_time": 181.9935505,
                        "remaining_time": 84.07889177,
                        "test": [
                          0.3679478991
                        ]
                      },
                      {
                        "learn": [
                          0.3288997112
                        ],
                        "iteration": 684,
                        "passed_time": 182.1085057,
                        "remaining_time": 83.74332743,
                        "test": [
                          0.3679383785
                        ]
                      },
                      {
                        "learn": [
                          0.3288138794
                        ],
                        "iteration": 685,
                        "passed_time": 182.4515047,
                        "remaining_time": 83.51278788,
                        "test": [
                          0.3679207103
                        ]
                      },
                      {
                        "learn": [
                          0.3287677195
                        ],
                        "iteration": 686,
                        "passed_time": 182.9462366,
                        "remaining_time": 83.35105103,
                        "test": [
                          0.3678846587
                        ]
                      },
                      {
                        "learn": [
                          0.328705482
                        ],
                        "iteration": 687,
                        "passed_time": 183.481054,
                        "remaining_time": 83.2065245,
                        "test": [
                          0.3679067512
                        ]
                      },
                      {
                        "learn": [
                          0.3287053544
                        ],
                        "iteration": 688,
                        "passed_time": 183.6269704,
                        "remaining_time": 82.88532338,
                        "test": [
                          0.3679062143
                        ]
                      },
                      {
                        "learn": [
                          0.3286451513
                        ],
                        "iteration": 689,
                        "passed_time": 184.1284868,
                        "remaining_time": 82.72439261,
                        "test": [
                          0.3678979139
                        ]
                      },
                      {
                        "learn": [
                          0.3285965796
                        ],
                        "iteration": 690,
                        "passed_time": 184.585489,
                        "remaining_time": 82.54257034,
                        "test": [
                          0.3679090661
                        ]
                      },
                      {
                        "learn": [
                          0.328596451
                        ],
                        "iteration": 691,
                        "passed_time": 184.7246548,
                        "remaining_time": 82.21848796,
                        "test": [
                          0.3679085263
                        ]
                      },
                      {
                        "learn": [
                          0.3285497151
                        ],
                        "iteration": 692,
                        "passed_time": 185.0082441,
                        "remaining_time": 81.9589191,
                        "test": [
                          0.367932847
                        ]
                      },
                      {
                        "learn": [
                          0.3285415777
                        ],
                        "iteration": 693,
                        "passed_time": 185.1835905,
                        "remaining_time": 81.6515543,
                        "test": [
                          0.3679317666
                        ]
                      },
                      {
                        "learn": [
                          0.3285261995
                        ],
                        "iteration": 694,
                        "passed_time": 185.3399268,
                        "remaining_time": 81.33622689,
                        "test": [
                          0.3679388565
                        ]
                      },
                      {
                        "learn": [
                          0.3284625759
                        ],
                        "iteration": 695,
                        "passed_time": 185.5559397,
                        "remaining_time": 81.04742192,
                        "test": [
                          0.3679317587
                        ]
                      },
                      {
                        "learn": [
                          0.3283880042
                        ],
                        "iteration": 696,
                        "passed_time": 185.8251904,
                        "remaining_time": 80.78196945,
                        "test": [
                          0.3679473123
                        ]
                      },
                      {
                        "learn": [
                          0.3283173024
                        ],
                        "iteration": 697,
                        "passed_time": 186.0891816,
                        "remaining_time": 80.51423045,
                        "test": [
                          0.3679377685
                        ]
                      },
                      {
                        "learn": [
                          0.3283103954
                        ],
                        "iteration": 698,
                        "passed_time": 186.3106955,
                        "remaining_time": 80.22821078,
                        "test": [
                          0.3679359706
                        ]
                      },
                      {
                        "learn": [
                          0.3283024078
                        ],
                        "iteration": 699,
                        "passed_time": 186.5034641,
                        "remaining_time": 79.93005604,
                        "test": [
                          0.3679365988
                        ]
                      },
                      {
                        "learn": [
                          0.3282851984
                        ],
                        "iteration": 700,
                        "passed_time": 186.7616911,
                        "remaining_time": 79.66012218,
                        "test": [
                          0.3679574062
                        ]
                      },
                      {
                        "learn": [
                          0.3282787259
                        ],
                        "iteration": 701,
                        "passed_time": 186.9365225,
                        "remaining_time": 79.35482011,
                        "test": [
                          0.3679547705
                        ]
                      },
                      {
                        "learn": [
                          0.3282678515
                        ],
                        "iteration": 702,
                        "passed_time": 187.119177,
                        "remaining_time": 79.05319429,
                        "test": [
                          0.3679538864
                        ]
                      },
                      {
                        "learn": [
                          0.3282645503
                        ],
                        "iteration": 703,
                        "passed_time": 187.2697468,
                        "remaining_time": 78.73841625,
                        "test": [
                          0.3679534893
                        ]
                      },
                      {
                        "learn": [
                          0.3282216085
                        ],
                        "iteration": 704,
                        "passed_time": 187.5207821,
                        "remaining_time": 78.46614285,
                        "test": [
                          0.3679502237
                        ]
                      },
                      {
                        "learn": [
                          0.3282154154
                        ],
                        "iteration": 705,
                        "passed_time": 187.7132592,
                        "remaining_time": 78.1695442,
                        "test": [
                          0.3679590394
                        ]
                      },
                      {
                        "learn": [
                          0.3282108489
                        ],
                        "iteration": 706,
                        "passed_time": 187.9734805,
                        "remaining_time": 77.90131511,
                        "test": [
                          0.3679675855
                        ]
                      },
                      {
                        "learn": [
                          0.3281969395
                        ],
                        "iteration": 707,
                        "passed_time": 188.2050959,
                        "remaining_time": 77.62131072,
                        "test": [
                          0.367977596
                        ]
                      },
                      {
                        "learn": [
                          0.3281783052
                        ],
                        "iteration": 708,
                        "passed_time": 188.4175435,
                        "remaining_time": 77.33357567,
                        "test": [
                          0.367977404
                        ]
                      },
                      {
                        "learn": [
                          0.3281246247
                        ],
                        "iteration": 709,
                        "passed_time": 188.6613512,
                        "remaining_time": 77.05886176,
                        "test": [
                          0.3680025864
                        ]
                      },
                      {
                        "learn": [
                          0.3281245048
                        ],
                        "iteration": 710,
                        "passed_time": 188.7474719,
                        "remaining_time": 76.72013976,
                        "test": [
                          0.3680020661
                        ]
                      },
                      {
                        "learn": [
                          0.3280513279
                        ],
                        "iteration": 711,
                        "passed_time": 189.0314028,
                        "remaining_time": 76.46214045,
                        "test": [
                          0.3679911857
                        ]
                      },
                      {
                        "learn": [
                          0.3280512068
                        ],
                        "iteration": 712,
                        "passed_time": 189.1288027,
                        "remaining_time": 76.1289851,
                        "test": [
                          0.3679906619
                        ]
                      },
                      {
                        "learn": [
                          0.3280510881
                        ],
                        "iteration": 713,
                        "passed_time": 189.2130876,
                        "remaining_time": 75.79123676,
                        "test": [
                          0.3679901445
                        ]
                      },
                      {
                        "learn": [
                          0.3279515083
                        ],
                        "iteration": 714,
                        "passed_time": 189.4637634,
                        "remaining_time": 75.52052108,
                        "test": [
                          0.3679850867
                        ]
                      },
                      {
                        "learn": [
                          0.3279513855
                        ],
                        "iteration": 715,
                        "passed_time": 189.5515855,
                        "remaining_time": 75.18526577,
                        "test": [
                          0.3679845575
                        ]
                      },
                      {
                        "learn": [
                          0.3279267069
                        ],
                        "iteration": 716,
                        "passed_time": 189.7776849,
                        "remaining_time": 74.9052787,
                        "test": [
                          0.3679733709
                        ]
                      },
                      {
                        "learn": [
                          0.3279247762
                        ],
                        "iteration": 717,
                        "passed_time": 189.955478,
                        "remaining_time": 74.60646909,
                        "test": [
                          0.3679720385
                        ]
                      },
                      {
                        "learn": [
                          0.3279088485
                        ],
                        "iteration": 718,
                        "passed_time": 190.2270989,
                        "remaining_time": 74.34466592,
                        "test": [
                          0.3679787611
                        ]
                      },
                      {
                        "learn": [
                          0.3278883822
                        ],
                        "iteration": 719,
                        "passed_time": 190.424982,
                        "remaining_time": 74.05415968,
                        "test": [
                          0.3679890736
                        ]
                      },
                      {
                        "learn": [
                          0.3278832679
                        ],
                        "iteration": 720,
                        "passed_time": 190.6569769,
                        "remaining_time": 73.77711034,
                        "test": [
                          0.3679913948
                        ]
                      },
                      {
                        "learn": [
                          0.3278328416
                        ],
                        "iteration": 721,
                        "passed_time": 190.9397554,
                        "remaining_time": 73.51973961,
                        "test": [
                          0.3679867111
                        ]
                      },
                      {
                        "learn": [
                          0.3278012692
                        ],
                        "iteration": 722,
                        "passed_time": 191.1371087,
                        "remaining_time": 73.22957001,
                        "test": [
                          0.3679917989
                        ]
                      },
                      {
                        "learn": [
                          0.3277264592
                        ],
                        "iteration": 723,
                        "passed_time": 191.4091701,
                        "remaining_time": 72.96813668,
                        "test": [
                          0.3680203941
                        ]
                      },
                      {
                        "learn": [
                          0.3277236994
                        ],
                        "iteration": 724,
                        "passed_time": 191.6000209,
                        "remaining_time": 72.67586999,
                        "test": [
                          0.3680224837
                        ]
                      },
                      {
                        "learn": [
                          0.3276787202
                        ],
                        "iteration": 725,
                        "passed_time": 191.9020626,
                        "remaining_time": 72.42584731,
                        "test": [
                          0.3680221536
                        ]
                      },
                      {
                        "learn": [
                          0.3276438969
                        ],
                        "iteration": 726,
                        "passed_time": 192.2598529,
                        "remaining_time": 72.19661601,
                        "test": [
                          0.3680329128
                        ]
                      },
                      {
                        "learn": [
                          0.3276259268
                        ],
                        "iteration": 727,
                        "passed_time": 192.4660326,
                        "remaining_time": 71.91038581,
                        "test": [
                          0.3680399989
                        ]
                      },
                      {
                        "learn": [
                          0.3276222692
                        ],
                        "iteration": 728,
                        "passed_time": 192.575281,
                        "remaining_time": 71.58834177,
                        "test": [
                          0.3680405429
                        ]
                      },
                      {
                        "learn": [
                          0.3276086852
                        ],
                        "iteration": 729,
                        "passed_time": 192.835195,
                        "remaining_time": 71.32260636,
                        "test": [
                          0.3680433147
                        ]
                      },
                      {
                        "learn": [
                          0.3275681164
                        ],
                        "iteration": 730,
                        "passed_time": 193.0603557,
                        "remaining_time": 71.04409808,
                        "test": [
                          0.3680520121
                        ]
                      },
                      {
                        "learn": [
                          0.3275079436
                        ],
                        "iteration": 731,
                        "passed_time": 193.3569992,
                        "remaining_time": 70.7919068,
                        "test": [
                          0.3680552641
                        ]
                      },
                      {
                        "learn": [
                          0.327502211
                        ],
                        "iteration": 732,
                        "passed_time": 193.5155599,
                        "remaining_time": 70.48929672,
                        "test": [
                          0.368053493
                        ]
                      },
                      {
                        "learn": [
                          0.3274741858
                        ],
                        "iteration": 733,
                        "passed_time": 193.6877292,
                        "remaining_time": 70.19201087,
                        "test": [
                          0.3680618637
                        ]
                      },
                      {
                        "learn": [
                          0.3274113059
                        ],
                        "iteration": 734,
                        "passed_time": 193.9687954,
                        "remaining_time": 69.9343276,
                        "test": [
                          0.36806254
                        ]
                      },
                      {
                        "learn": [
                          0.3273960365
                        ],
                        "iteration": 735,
                        "passed_time": 194.2686286,
                        "remaining_time": 69.68331245,
                        "test": [
                          0.3680633995
                        ]
                      },
                      {
                        "learn": [
                          0.3273869169
                        ],
                        "iteration": 736,
                        "passed_time": 194.5128797,
                        "remaining_time": 69.41233019,
                        "test": [
                          0.368060984
                        ]
                      },
                      {
                        "learn": [
                          0.3273681146
                        ],
                        "iteration": 737,
                        "passed_time": 194.7933307,
                        "remaining_time": 69.15427189,
                        "test": [
                          0.368083262
                        ]
                      },
                      {
                        "learn": [
                          0.3273632411
                        ],
                        "iteration": 738,
                        "passed_time": 195.1258452,
                        "remaining_time": 68.91454074,
                        "test": [
                          0.368082896
                        ]
                      },
                      {
                        "learn": [
                          0.3273576529
                        ],
                        "iteration": 739,
                        "passed_time": 195.4732987,
                        "remaining_time": 68.67980765,
                        "test": [
                          0.3680816679
                        ]
                      },
                      {
                        "learn": [
                          0.3273224476
                        ],
                        "iteration": 740,
                        "passed_time": 195.9585312,
                        "remaining_time": 68.4929279,
                        "test": [
                          0.3680886338
                        ]
                      },
                      {
                        "learn": [
                          0.3272707728
                        ],
                        "iteration": 741,
                        "passed_time": 196.4180521,
                        "remaining_time": 68.29630382,
                        "test": [
                          0.3680759679
                        ]
                      },
                      {
                        "learn": [
                          0.3272039049
                        ],
                        "iteration": 742,
                        "passed_time": 196.8470982,
                        "remaining_time": 68.088431,
                        "test": [
                          0.36806659
                        ]
                      },
                      {
                        "learn": [
                          0.3271891884
                        ],
                        "iteration": 743,
                        "passed_time": 197.2065719,
                        "remaining_time": 67.85602474,
                        "test": [
                          0.368070601
                        ]
                      },
                      {
                        "learn": [
                          0.3271500486
                        ],
                        "iteration": 744,
                        "passed_time": 197.468895,
                        "remaining_time": 67.59002445,
                        "test": [
                          0.3680787711
                        ]
                      },
                      {
                        "learn": [
                          0.3271116434
                        ],
                        "iteration": 745,
                        "passed_time": 197.7192886,
                        "remaining_time": 67.31997225,
                        "test": [
                          0.3680789488
                        ]
                      },
                      {
                        "learn": [
                          0.327071468
                        ],
                        "iteration": 746,
                        "passed_time": 197.9130405,
                        "remaining_time": 67.03078882,
                        "test": [
                          0.3680848683
                        ]
                      },
                      {
                        "learn": [
                          0.3270178092
                        ],
                        "iteration": 747,
                        "passed_time": 198.1753784,
                        "remaining_time": 66.76496705,
                        "test": [
                          0.3681113088
                        ]
                      },
                      {
                        "learn": [
                          0.3269851498
                        ],
                        "iteration": 748,
                        "passed_time": 198.4479952,
                        "remaining_time": 66.50259919,
                        "test": [
                          0.368108307
                        ]
                      },
                      {
                        "learn": [
                          0.3269808516
                        ],
                        "iteration": 749,
                        "passed_time": 198.6343367,
                        "remaining_time": 66.21144556,
                        "test": [
                          0.3681073599
                        ]
                      },
                      {
                        "learn": [
                          0.326901056
                        ],
                        "iteration": 750,
                        "passed_time": 198.9543001,
                        "remaining_time": 65.96487448,
                        "test": [
                          0.3681158276
                        ]
                      },
                      {
                        "learn": [
                          0.3268399869
                        ],
                        "iteration": 751,
                        "passed_time": 199.2078826,
                        "remaining_time": 65.69621659,
                        "test": [
                          0.3681291521
                        ]
                      },
                      {
                        "learn": [
                          0.3268244417
                        ],
                        "iteration": 752,
                        "passed_time": 199.5265856,
                        "remaining_time": 65.4489597,
                        "test": [
                          0.3681380257
                        ]
                      },
                      {
                        "learn": [
                          0.3267324201
                        ],
                        "iteration": 753,
                        "passed_time": 199.7997817,
                        "remaining_time": 65.18666616,
                        "test": [
                          0.3681331194
                        ]
                      },
                      {
                        "learn": [
                          0.3266777215
                        ],
                        "iteration": 754,
                        "passed_time": 200.0610215,
                        "remaining_time": 64.92046393,
                        "test": [
                          0.368138523
                        ]
                      },
                      {
                        "learn": [
                          0.3266688682
                        ],
                        "iteration": 755,
                        "passed_time": 200.2562807,
                        "remaining_time": 64.63297948,
                        "test": [
                          0.3681367806
                        ]
                      },
                      {
                        "learn": [
                          0.3266655175
                        ],
                        "iteration": 756,
                        "passed_time": 200.5004988,
                        "remaining_time": 64.3614547,
                        "test": [
                          0.3681364084
                        ]
                      },
                      {
                        "learn": [
                          0.3266047045
                        ],
                        "iteration": 757,
                        "passed_time": 200.7192518,
                        "remaining_time": 64.08187194,
                        "test": [
                          0.3681357398
                        ]
                      },
                      {
                        "learn": [
                          0.3265961439
                        ],
                        "iteration": 758,
                        "passed_time": 200.9584693,
                        "remaining_time": 63.80894744,
                        "test": [
                          0.3681413825
                        ]
                      },
                      {
                        "learn": [
                          0.3265881761
                        ],
                        "iteration": 759,
                        "passed_time": 201.101863,
                        "remaining_time": 63.50585148,
                        "test": [
                          0.3681440084
                        ]
                      },
                      {
                        "learn": [
                          0.3265285404
                        ],
                        "iteration": 760,
                        "passed_time": 201.3733814,
                        "remaining_time": 63.24341413,
                        "test": [
                          0.3681484943
                        ]
                      },
                      {
                        "learn": [
                          0.3265266557
                        ],
                        "iteration": 761,
                        "passed_time": 201.57951,
                        "remaining_time": 62.96052936,
                        "test": [
                          0.3681475661
                        ]
                      },
                      {
                        "learn": [
                          0.3264620496
                        ],
                        "iteration": 762,
                        "passed_time": 201.8322635,
                        "remaining_time": 62.69232825,
                        "test": [
                          0.368155183
                        ]
                      },
                      {
                        "learn": [
                          0.3264356206
                        ],
                        "iteration": 763,
                        "passed_time": 202.0421703,
                        "remaining_time": 62.41093219,
                        "test": [
                          0.3681753674
                        ]
                      },
                      {
                        "learn": [
                          0.326423289
                        ],
                        "iteration": 764,
                        "passed_time": 202.3511691,
                        "remaining_time": 62.16016305,
                        "test": [
                          0.3681806964
                        ]
                      },
                      {
                        "learn": [
                          0.3263877497
                        ],
                        "iteration": 765,
                        "passed_time": 202.6375933,
                        "remaining_time": 61.90234572,
                        "test": [
                          0.3681740741
                        ]
                      },
                      {
                        "learn": [
                          0.3263826062
                        ],
                        "iteration": 766,
                        "passed_time": 202.8303322,
                        "remaining_time": 61.61599401,
                        "test": [
                          0.3681827945
                        ]
                      },
                      {
                        "learn": [
                          0.3263372209
                        ],
                        "iteration": 767,
                        "passed_time": 203.0456373,
                        "remaining_time": 61.33670293,
                        "test": [
                          0.36819405
                        ]
                      },
                      {
                        "learn": [
                          0.3263288147
                        ],
                        "iteration": 768,
                        "passed_time": 203.2594063,
                        "remaining_time": 61.05711684,
                        "test": [
                          0.3681951111
                        ]
                      },
                      {
                        "learn": [
                          0.3263188635
                        ],
                        "iteration": 769,
                        "passed_time": 203.5814449,
                        "remaining_time": 60.81004199,
                        "test": [
                          0.3681953601
                        ]
                      },
                      {
                        "learn": [
                          0.3263145137
                        ],
                        "iteration": 770,
                        "passed_time": 203.7583846,
                        "remaining_time": 60.51967583,
                        "test": [
                          0.368196465
                        ]
                      },
                      {
                        "learn": [
                          0.3262670743
                        ],
                        "iteration": 771,
                        "passed_time": 203.9810983,
                        "remaining_time": 60.24312229,
                        "test": [
                          0.3682008873
                        ]
                      },
                      {
                        "learn": [
                          0.3262669564
                        ],
                        "iteration": 772,
                        "passed_time": 204.0685825,
                        "remaining_time": 59.92699643,
                        "test": [
                          0.3682003617
                        ]
                      },
                      {
                        "learn": [
                          0.3262584984
                        ],
                        "iteration": 773,
                        "passed_time": 204.2469364,
                        "remaining_time": 59.63799435,
                        "test": [
                          0.3681973064
                        ]
                      },
                      {
                        "learn": [
                          0.3262264337
                        ],
                        "iteration": 774,
                        "passed_time": 204.5055872,
                        "remaining_time": 59.37258983,
                        "test": [
                          0.368186486
                        ]
                      },
                      {
                        "learn": [
                          0.3261831338
                        ],
                        "iteration": 775,
                        "passed_time": 204.7753013,
                        "remaining_time": 59.11039626,
                        "test": [
                          0.3682161254
                        ]
                      },
                      {
                        "learn": [
                          0.3261781239
                        ],
                        "iteration": 776,
                        "passed_time": 204.9580173,
                        "remaining_time": 58.82321475,
                        "test": [
                          0.3682200452
                        ]
                      },
                      {
                        "learn": [
                          0.3261331463
                        ],
                        "iteration": 777,
                        "passed_time": 205.1981981,
                        "remaining_time": 58.55269919,
                        "test": [
                          0.3682273976
                        ]
                      },
                      {
                        "learn": [
                          0.326081277
                        ],
                        "iteration": 778,
                        "passed_time": 205.4223871,
                        "remaining_time": 58.2777247,
                        "test": [
                          0.3682514265
                        ]
                      },
                      {
                        "learn": [
                          0.3260700755
                        ],
                        "iteration": 779,
                        "passed_time": 205.6947735,
                        "remaining_time": 58.01647457,
                        "test": [
                          0.3682473309
                        ]
                      },
                      {
                        "learn": [
                          0.3260564181
                        ],
                        "iteration": 780,
                        "passed_time": 205.9402705,
                        "remaining_time": 57.74765587,
                        "test": [
                          0.3682500716
                        ]
                      },
                      {
                        "learn": [
                          0.3259766067
                        ],
                        "iteration": 781,
                        "passed_time": 206.1619996,
                        "remaining_time": 57.47227098,
                        "test": [
                          0.3682561791
                        ]
                      },
                      {
                        "learn": [
                          0.3259764852
                        ],
                        "iteration": 782,
                        "passed_time": 206.2815674,
                        "remaining_time": 57.16871024,
                        "test": [
                          0.3682556491
                        ]
                      },
                      {
                        "learn": [
                          0.3259259368
                        ],
                        "iteration": 783,
                        "passed_time": 206.5119549,
                        "remaining_time": 56.89615084,
                        "test": [
                          0.3682586033
                        ]
                      },
                      {
                        "learn": [
                          0.3259079382
                        ],
                        "iteration": 784,
                        "passed_time": 206.7818808,
                        "remaining_time": 56.63452786,
                        "test": [
                          0.3682635542
                        ]
                      },
                      {
                        "learn": [
                          0.325866768
                        ],
                        "iteration": 785,
                        "passed_time": 207.0497815,
                        "remaining_time": 56.37233236,
                        "test": [
                          0.3682742133
                        ]
                      },
                      {
                        "learn": [
                          0.3258666503
                        ],
                        "iteration": 786,
                        "passed_time": 207.1580487,
                        "remaining_time": 56.06691788,
                        "test": [
                          0.3682736853
                        ]
                      },
                      {
                        "learn": [
                          0.3258164662
                        ],
                        "iteration": 787,
                        "passed_time": 207.5231987,
                        "remaining_time": 55.83111436,
                        "test": [
                          0.3682710414
                        ]
                      },
                      {
                        "learn": [
                          0.3258089278
                        ],
                        "iteration": 788,
                        "passed_time": 207.8036614,
                        "remaining_time": 55.57233531,
                        "test": [
                          0.3682748046
                        ]
                      },
                      {
                        "learn": [
                          0.3257779325
                        ],
                        "iteration": 789,
                        "passed_time": 208.1601678,
                        "remaining_time": 55.33371549,
                        "test": [
                          0.3682785196
                        ]
                      },
                      {
                        "learn": [
                          0.3257694684
                        ],
                        "iteration": 790,
                        "passed_time": 208.5611507,
                        "remaining_time": 55.10654931,
                        "test": [
                          0.3682785997
                        ]
                      },
                      {
                        "learn": [
                          0.3257693551
                        ],
                        "iteration": 791,
                        "passed_time": 208.7456359,
                        "remaining_time": 54.8220862,
                        "test": [
                          0.3682780835
                        ]
                      },
                      {
                        "learn": [
                          0.3257193308
                        ],
                        "iteration": 792,
                        "passed_time": 209.2026625,
                        "remaining_time": 54.60901783,
                        "test": [
                          0.3682723367
                        ]
                      },
                      {
                        "learn": [
                          0.3257093457
                        ],
                        "iteration": 793,
                        "passed_time": 209.6048097,
                        "remaining_time": 54.38109671,
                        "test": [
                          0.3682751971
                        ]
                      },
                      {
                        "learn": [
                          0.3256647481
                        ],
                        "iteration": 794,
                        "passed_time": 209.8709432,
                        "remaining_time": 54.11766461,
                        "test": [
                          0.368284428
                        ]
                      },
                      {
                        "learn": [
                          0.3256441899
                        ],
                        "iteration": 795,
                        "passed_time": 210.0869733,
                        "remaining_time": 53.84138511,
                        "test": [
                          0.3683236692
                        ]
                      },
                      {
                        "learn": [
                          0.3256366892
                        ],
                        "iteration": 796,
                        "passed_time": 210.2652542,
                        "remaining_time": 53.55564192,
                        "test": [
                          0.3683371098
                        ]
                      },
                      {
                        "learn": [
                          0.3256241885
                        ],
                        "iteration": 797,
                        "passed_time": 210.5158542,
                        "remaining_time": 53.28847438,
                        "test": [
                          0.3683445122
                        ]
                      },
                      {
                        "learn": [
                          0.3255773623
                        ],
                        "iteration": 798,
                        "passed_time": 210.7953676,
                        "remaining_time": 53.0286219,
                        "test": [
                          0.3683588902
                        ]
                      },
                      {
                        "learn": [
                          0.3255666877
                        ],
                        "iteration": 799,
                        "passed_time": 211.0723398,
                        "remaining_time": 52.76808495,
                        "test": [
                          0.3683647312
                        ]
                      },
                      {
                        "learn": [
                          0.3255343133
                        ],
                        "iteration": 800,
                        "passed_time": 211.3413715,
                        "remaining_time": 52.50553425,
                        "test": [
                          0.3683702919
                        ]
                      },
                      {
                        "learn": [
                          0.3255328534
                        ],
                        "iteration": 801,
                        "passed_time": 211.4612484,
                        "remaining_time": 52.20614362,
                        "test": [
                          0.3683751472
                        ]
                      },
                      {
                        "learn": [
                          0.3255283286
                        ],
                        "iteration": 802,
                        "passed_time": 211.632828,
                        "remaining_time": 51.91988433,
                        "test": [
                          0.3683814937
                        ]
                      },
                      {
                        "learn": [
                          0.3255282222
                        ],
                        "iteration": 803,
                        "passed_time": 211.7129685,
                        "remaining_time": 51.61161918,
                        "test": [
                          0.3683809937
                        ]
                      },
                      {
                        "learn": [
                          0.3255172705
                        ],
                        "iteration": 804,
                        "passed_time": 212.0617657,
                        "remaining_time": 51.36899915,
                        "test": [
                          0.3683818417
                        ]
                      },
                      {
                        "learn": [
                          0.3254800288
                        ],
                        "iteration": 805,
                        "passed_time": 212.2567701,
                        "remaining_time": 51.08909852,
                        "test": [
                          0.3683825137
                        ]
                      },
                      {
                        "learn": [
                          0.3254648132
                        ],
                        "iteration": 806,
                        "passed_time": 212.6590406,
                        "remaining_time": 50.8589775,
                        "test": [
                          0.3683804142
                        ]
                      },
                      {
                        "learn": [
                          0.3254565805
                        ],
                        "iteration": 807,
                        "passed_time": 213.2117541,
                        "remaining_time": 50.66417919,
                        "test": [
                          0.3683802088
                        ]
                      },
                      {
                        "learn": [
                          0.3254516111
                        ],
                        "iteration": 808,
                        "passed_time": 213.3873094,
                        "remaining_time": 50.37945129,
                        "test": [
                          0.3683798795
                        ]
                      },
                      {
                        "learn": [
                          0.3254065176
                        ],
                        "iteration": 809,
                        "passed_time": 213.6546227,
                        "remaining_time": 50.11651644,
                        "test": [
                          0.3683925913
                        ]
                      },
                      {
                        "learn": [
                          0.3253989136
                        ],
                        "iteration": 810,
                        "passed_time": 213.8464075,
                        "remaining_time": 49.8359692,
                        "test": [
                          0.3683935918
                        ]
                      },
                      {
                        "learn": [
                          0.3253961243
                        ],
                        "iteration": 811,
                        "passed_time": 213.9735089,
                        "remaining_time": 49.54066461,
                        "test": [
                          0.3683929039
                        ]
                      },
                      {
                        "learn": [
                          0.325349559
                        ],
                        "iteration": 812,
                        "passed_time": 214.255197,
                        "remaining_time": 49.28133067,
                        "test": [
                          0.368379884
                        ]
                      },
                      {
                        "learn": [
                          0.3253461303
                        ],
                        "iteration": 813,
                        "passed_time": 214.4624009,
                        "remaining_time": 49.00492208,
                        "test": [
                          0.3683740648
                        ]
                      },
                      {
                        "learn": [
                          0.3252542465
                        ],
                        "iteration": 814,
                        "passed_time": 214.6987409,
                        "remaining_time": 48.73529701,
                        "test": [
                          0.3683919223
                        ]
                      },
                      {
                        "learn": [
                          0.3252215609
                        ],
                        "iteration": 815,
                        "passed_time": 214.9234341,
                        "remaining_time": 48.46312729,
                        "test": [
                          0.3683967246
                        ]
                      },
                      {
                        "learn": [
                          0.3251483675
                        ],
                        "iteration": 816,
                        "passed_time": 215.2347855,
                        "remaining_time": 48.2104844,
                        "test": [
                          0.3683849247
                        ]
                      },
                      {
                        "learn": [
                          0.325085401
                        ],
                        "iteration": 817,
                        "passed_time": 215.4889177,
                        "remaining_time": 47.94496701,
                        "test": [
                          0.3683685898
                        ]
                      },
                      {
                        "learn": [
                          0.3250781064
                        ],
                        "iteration": 818,
                        "passed_time": 215.6943608,
                        "remaining_time": 47.6687171,
                        "test": [
                          0.3683739553
                        ]
                      },
                      {
                        "learn": [
                          0.3250779992
                        ],
                        "iteration": 819,
                        "passed_time": 215.7824031,
                        "remaining_time": 47.36686897,
                        "test": [
                          0.3683734497
                        ]
                      },
                      {
                        "learn": [
                          0.3250512652
                        ],
                        "iteration": 820,
                        "passed_time": 216.0355745,
                        "remaining_time": 47.10154426,
                        "test": [
                          0.3683772079
                        ]
                      },
                      {
                        "learn": [
                          0.3249887225
                        ],
                        "iteration": 821,
                        "passed_time": 216.3213477,
                        "remaining_time": 46.84330887,
                        "test": [
                          0.3684011029
                        ]
                      },
                      {
                        "learn": [
                          0.3249328004
                        ],
                        "iteration": 822,
                        "passed_time": 216.5660247,
                        "remaining_time": 46.57616813,
                        "test": [
                          0.368422454
                        ]
                      },
                      {
                        "learn": [
                          0.3249190545
                        ],
                        "iteration": 823,
                        "passed_time": 216.7622164,
                        "remaining_time": 46.29872583,
                        "test": [
                          0.3684289373
                        ]
                      },
                      {
                        "learn": [
                          0.324904661
                        ],
                        "iteration": 824,
                        "passed_time": 216.9667158,
                        "remaining_time": 46.02324274,
                        "test": [
                          0.368441002
                        ]
                      },
                      {
                        "learn": [
                          0.3249045528
                        ],
                        "iteration": 825,
                        "passed_time": 217.0636793,
                        "remaining_time": 45.72527869,
                        "test": [
                          0.3684404924
                        ]
                      },
                      {
                        "learn": [
                          0.3248764874
                        ],
                        "iteration": 826,
                        "passed_time": 217.3390208,
                        "remaining_time": 45.46511561,
                        "test": [
                          0.3684259363
                        ]
                      },
                      {
                        "learn": [
                          0.3248151673
                        ],
                        "iteration": 827,
                        "passed_time": 217.5821585,
                        "remaining_time": 45.19822616,
                        "test": [
                          0.3684795078
                        ]
                      },
                      {
                        "learn": [
                          0.3248041353
                        ],
                        "iteration": 828,
                        "passed_time": 217.8244028,
                        "remaining_time": 44.93120974,
                        "test": [
                          0.36849197
                        ]
                      },
                      {
                        "learn": [
                          0.3247748712
                        ],
                        "iteration": 829,
                        "passed_time": 218.0424538,
                        "remaining_time": 44.65929776,
                        "test": [
                          0.3684827168
                        ]
                      },
                      {
                        "learn": [
                          0.3246887868
                        ],
                        "iteration": 830,
                        "passed_time": 218.3175245,
                        "remaining_time": 44.39911148,
                        "test": [
                          0.3684906239
                        ]
                      },
                      {
                        "learn": [
                          0.3246503142
                        ],
                        "iteration": 831,
                        "passed_time": 218.6922209,
                        "remaining_time": 44.15900615,
                        "test": [
                          0.368487856
                        ]
                      },
                      {
                        "learn": [
                          0.3246044096
                        ],
                        "iteration": 832,
                        "passed_time": 218.9601903,
                        "remaining_time": 43.89718101,
                        "test": [
                          0.3685008628
                        ]
                      },
                      {
                        "learn": [
                          0.3245689341
                        ],
                        "iteration": 833,
                        "passed_time": 219.2543866,
                        "remaining_time": 43.64056135,
                        "test": [
                          0.3685020623
                        ]
                      },
                      {
                        "learn": [
                          0.3245688159
                        ],
                        "iteration": 834,
                        "passed_time": 219.3891923,
                        "remaining_time": 43.35235536,
                        "test": [
                          0.3685015335
                        ]
                      },
                      {
                        "learn": [
                          0.3244796614
                        ],
                        "iteration": 835,
                        "passed_time": 219.756921,
                        "remaining_time": 43.11020938,
                        "test": [
                          0.3685018667
                        ]
                      },
                      {
                        "learn": [
                          0.3244402521
                        ],
                        "iteration": 836,
                        "passed_time": 220.173149,
                        "remaining_time": 42.87720822,
                        "test": [
                          0.3685001136
                        ]
                      },
                      {
                        "learn": [
                          0.3243992265
                        ],
                        "iteration": 837,
                        "passed_time": 220.6621213,
                        "remaining_time": 42.65783252,
                        "test": [
                          0.3685002689
                        ]
                      },
                      {
                        "learn": [
                          0.3243450514
                        ],
                        "iteration": 838,
                        "passed_time": 221.216806,
                        "remaining_time": 42.45042404,
                        "test": [
                          0.3684920508
                        ]
                      },
                      {
                        "learn": [
                          0.3243259977
                        ],
                        "iteration": 839,
                        "passed_time": 221.6616896,
                        "remaining_time": 42.22127421,
                        "test": [
                          0.3684992343
                        ]
                      },
                      {
                        "learn": [
                          0.3243258787
                        ],
                        "iteration": 840,
                        "passed_time": 221.8076461,
                        "remaining_time": 41.93509599,
                        "test": [
                          0.3684986922
                        ]
                      },
                      {
                        "learn": [
                          0.3242529823
                        ],
                        "iteration": 841,
                        "passed_time": 222.1501708,
                        "remaining_time": 41.68613657,
                        "test": [
                          0.368520779
                        ]
                      },
                      {
                        "learn": [
                          0.3242219481
                        ],
                        "iteration": 842,
                        "passed_time": 222.4161029,
                        "remaining_time": 41.42269058,
                        "test": [
                          0.3685177512
                        ]
                      },
                      {
                        "learn": [
                          0.3241864725
                        ],
                        "iteration": 843,
                        "passed_time": 222.6649417,
                        "remaining_time": 41.15607927,
                        "test": [
                          0.3685187409
                        ]
                      },
                      {
                        "learn": [
                          0.3241821616
                        ],
                        "iteration": 844,
                        "passed_time": 222.8210381,
                        "remaining_time": 40.8724981,
                        "test": [
                          0.3685183913
                        ]
                      },
                      {
                        "learn": [
                          0.3240959057
                        ],
                        "iteration": 845,
                        "passed_time": 223.0863594,
                        "remaining_time": 40.60910088,
                        "test": [
                          0.368515007
                        ]
                      },
                      {
                        "learn": [
                          0.3240672089
                        ],
                        "iteration": 846,
                        "passed_time": 223.3909861,
                        "remaining_time": 40.35279914,
                        "test": [
                          0.3685118291
                        ]
                      },
                      {
                        "learn": [
                          0.324015594
                        ],
                        "iteration": 847,
                        "passed_time": 223.65184,
                        "remaining_time": 40.08853735,
                        "test": [
                          0.3685075855
                        ]
                      },
                      {
                        "learn": [
                          0.3239668474
                        ],
                        "iteration": 848,
                        "passed_time": 223.9041135,
                        "remaining_time": 39.82275752,
                        "test": [
                          0.3685044776
                        ]
                      },
                      {
                        "learn": [
                          0.3239550934
                        ],
                        "iteration": 849,
                        "passed_time": 224.1302757,
                        "remaining_time": 39.55240159,
                        "test": [
                          0.3685135737
                        ]
                      },
                      {
                        "learn": [
                          0.3239321526
                        ],
                        "iteration": 850,
                        "passed_time": 224.3507117,
                        "remaining_time": 39.28114694,
                        "test": [
                          0.3685209417
                        ]
                      },
                      {
                        "learn": [
                          0.3238667611
                        ],
                        "iteration": 851,
                        "passed_time": 224.6265698,
                        "remaining_time": 39.01963889,
                        "test": [
                          0.3685265572
                        ]
                      },
                      {
                        "learn": [
                          0.3238581104
                        ],
                        "iteration": 852,
                        "passed_time": 224.8282365,
                        "remaining_time": 38.74531156,
                        "test": [
                          0.368524292
                        ]
                      },
                      {
                        "learn": [
                          0.3238547987
                        ],
                        "iteration": 853,
                        "passed_time": 225.0447427,
                        "remaining_time": 38.47369137,
                        "test": [
                          0.3685243828
                        ]
                      },
                      {
                        "learn": [
                          0.3238086674
                        ],
                        "iteration": 854,
                        "passed_time": 225.3475981,
                        "remaining_time": 38.21684413,
                        "test": [
                          0.3685202429
                        ]
                      },
                      {
                        "learn": [
                          0.3237971591
                        ],
                        "iteration": 855,
                        "passed_time": 225.6294855,
                        "remaining_time": 37.95636205,
                        "test": [
                          0.3685286472
                        ]
                      },
                      {
                        "learn": [
                          0.3237805734
                        ],
                        "iteration": 856,
                        "passed_time": 225.9021156,
                        "remaining_time": 37.69428534,
                        "test": [
                          0.3685310118
                        ]
                      },
                      {
                        "learn": [
                          0.3237541252
                        ],
                        "iteration": 857,
                        "passed_time": 226.1615918,
                        "remaining_time": 37.43000703,
                        "test": [
                          0.3685459896
                        ]
                      },
                      {
                        "learn": [
                          0.3236999207
                        ],
                        "iteration": 858,
                        "passed_time": 226.4142465,
                        "remaining_time": 37.1646202,
                        "test": [
                          0.3685502383
                        ]
                      },
                      {
                        "learn": [
                          0.3236713181
                        ],
                        "iteration": 859,
                        "passed_time": 226.7090823,
                        "remaining_time": 36.90612967,
                        "test": [
                          0.3685462653
                        ]
                      },
                      {
                        "learn": [
                          0.3236352117
                        ],
                        "iteration": 860,
                        "passed_time": 226.9221435,
                        "remaining_time": 36.63435302,
                        "test": [
                          0.3685355905
                        ]
                      },
                      {
                        "learn": [
                          0.3236303818
                        ],
                        "iteration": 861,
                        "passed_time": 227.2003819,
                        "remaining_time": 36.37314699,
                        "test": [
                          0.3685408529
                        ]
                      },
                      {
                        "learn": [
                          0.3235420382
                        ],
                        "iteration": 862,
                        "passed_time": 227.4644926,
                        "remaining_time": 36.10965873,
                        "test": [
                          0.3685580049
                        ]
                      },
                      {
                        "learn": [
                          0.3235254441
                        ],
                        "iteration": 863,
                        "passed_time": 227.7389522,
                        "remaining_time": 35.84779804,
                        "test": [
                          0.3685641705
                        ]
                      },
                      {
                        "learn": [
                          0.3235182333
                        ],
                        "iteration": 864,
                        "passed_time": 227.9861285,
                        "remaining_time": 35.58165011,
                        "test": [
                          0.368560659
                        ]
                      },
                      {
                        "learn": [
                          0.3234692404
                        ],
                        "iteration": 865,
                        "passed_time": 228.2189991,
                        "remaining_time": 35.31333243,
                        "test": [
                          0.3685569213
                        ]
                      },
                      {
                        "learn": [
                          0.3234674685
                        ],
                        "iteration": 866,
                        "passed_time": 228.344251,
                        "remaining_time": 35.02858752,
                        "test": [
                          0.3685579127
                        ]
                      },
                      {
                        "learn": [
                          0.3234053624
                        ],
                        "iteration": 867,
                        "passed_time": 228.6409843,
                        "remaining_time": 34.77028793,
                        "test": [
                          0.368546656
                        ]
                      },
                      {
                        "learn": [
                          0.3233452065
                        ],
                        "iteration": 868,
                        "passed_time": 228.9008424,
                        "remaining_time": 34.50634103,
                        "test": [
                          0.3685374222
                        ]
                      },
                      {
                        "learn": [
                          0.3233023948
                        ],
                        "iteration": 869,
                        "passed_time": 229.1827339,
                        "remaining_time": 34.24569588,
                        "test": [
                          0.3685368553
                        ]
                      },
                      {
                        "learn": [
                          0.3232229909
                        ],
                        "iteration": 870,
                        "passed_time": 229.4388527,
                        "remaining_time": 33.98118484,
                        "test": [
                          0.3685438483
                        ]
                      },
                      {
                        "learn": [
                          0.3232191752
                        ],
                        "iteration": 871,
                        "passed_time": 229.7015705,
                        "remaining_time": 33.71766172,
                        "test": [
                          0.3685501039
                        ]
                      },
                      {
                        "learn": [
                          0.3231729108
                        ],
                        "iteration": 872,
                        "passed_time": 230.2777574,
                        "remaining_time": 33.49974249,
                        "test": [
                          0.3685571835
                        ]
                      },
                      {
                        "learn": [
                          0.3231665201
                        ],
                        "iteration": 873,
                        "passed_time": 230.5452549,
                        "remaining_time": 33.23650128,
                        "test": [
                          0.3685600303
                        ]
                      },
                      {
                        "learn": [
                          0.3231154387
                        ],
                        "iteration": 874,
                        "passed_time": 230.863717,
                        "remaining_time": 32.980531,
                        "test": [
                          0.3685506913
                        ]
                      },
                      {
                        "learn": [
                          0.3231019983
                        ],
                        "iteration": 875,
                        "passed_time": 231.0767132,
                        "remaining_time": 32.70948909,
                        "test": [
                          0.3685621735
                        ]
                      },
                      {
                        "learn": [
                          0.3230646488
                        ],
                        "iteration": 876,
                        "passed_time": 231.3629575,
                        "remaining_time": 32.44885264,
                        "test": [
                          0.3685610133
                        ]
                      },
                      {
                        "learn": [
                          0.3230645196
                        ],
                        "iteration": 877,
                        "passed_time": 231.4626765,
                        "remaining_time": 32.16223978,
                        "test": [
                          0.368560433
                        ]
                      },
                      {
                        "learn": [
                          0.3230306534
                        ],
                        "iteration": 878,
                        "passed_time": 231.7498175,
                        "remaining_time": 31.90185201,
                        "test": [
                          0.3685477876
                        ]
                      },
                      {
                        "learn": [
                          0.3230171227
                        ],
                        "iteration": 879,
                        "passed_time": 232.0048024,
                        "remaining_time": 31.63701851,
                        "test": [
                          0.3685482158
                        ]
                      },
                      {
                        "learn": [
                          0.3229715262
                        ],
                        "iteration": 880,
                        "passed_time": 232.3460336,
                        "remaining_time": 31.38385698,
                        "test": [
                          0.3685470991
                        ]
                      },
                      {
                        "learn": [
                          0.3229706912
                        ],
                        "iteration": 881,
                        "passed_time": 232.5442042,
                        "remaining_time": 31.11135611,
                        "test": [
                          0.3685453247
                        ]
                      },
                      {
                        "learn": [
                          0.3229360549
                        ],
                        "iteration": 882,
                        "passed_time": 233.0897919,
                        "remaining_time": 30.88505737,
                        "test": [
                          0.3685401412
                        ]
                      },
                      {
                        "learn": [
                          0.3229359304
                        ],
                        "iteration": 883,
                        "passed_time": 233.2498817,
                        "remaining_time": 30.60745054,
                        "test": [
                          0.3685395726
                        ]
                      },
                      {
                        "learn": [
                          0.3229057041
                        ],
                        "iteration": 884,
                        "passed_time": 233.6897244,
                        "remaining_time": 30.36646136,
                        "test": [
                          0.3685569215
                        ]
                      },
                      {
                        "learn": [
                          0.3229055823
                        ],
                        "iteration": 885,
                        "passed_time": 233.8494867,
                        "remaining_time": 30.08898587,
                        "test": [
                          0.3685563619
                        ]
                      },
                      {
                        "learn": [
                          0.3228923428
                        ],
                        "iteration": 886,
                        "passed_time": 234.3321344,
                        "remaining_time": 29.85291002,
                        "test": [
                          0.3685609952
                        ]
                      },
                      {
                        "learn": [
                          0.3228577906
                        ],
                        "iteration": 887,
                        "passed_time": 234.6631283,
                        "remaining_time": 29.59715132,
                        "test": [
                          0.3685604359
                        ]
                      },
                      {
                        "learn": [
                          0.3228456595
                        ],
                        "iteration": 888,
                        "passed_time": 234.8940285,
                        "remaining_time": 29.32872572,
                        "test": [
                          0.3685527981
                        ]
                      },
                      {
                        "learn": [
                          0.3228211822
                        ],
                        "iteration": 889,
                        "passed_time": 235.1741897,
                        "remaining_time": 29.06647288,
                        "test": [
                          0.3685570593
                        ]
                      },
                      {
                        "learn": [
                          0.3227590078
                        ],
                        "iteration": 890,
                        "passed_time": 235.4244117,
                        "remaining_time": 28.80051725,
                        "test": [
                          0.3685544702
                        ]
                      },
                      {
                        "learn": [
                          0.3227444038
                        ],
                        "iteration": 891,
                        "passed_time": 235.6421891,
                        "remaining_time": 28.53066864,
                        "test": [
                          0.368571438
                        ]
                      },
                      {
                        "learn": [
                          0.3227403359
                        ],
                        "iteration": 892,
                        "passed_time": 235.8600466,
                        "remaining_time": 28.26094624,
                        "test": [
                          0.3685748419
                        ]
                      },
                      {
                        "learn": [
                          0.3227040809
                        ],
                        "iteration": 893,
                        "passed_time": 236.0380643,
                        "remaining_time": 27.98661612,
                        "test": [
                          0.3685692995
                        ]
                      },
                      {
                        "learn": [
                          0.3226691207
                        ],
                        "iteration": 894,
                        "passed_time": 236.3186342,
                        "remaining_time": 27.7245325,
                        "test": [
                          0.3685777144
                        ]
                      },
                      {
                        "learn": [
                          0.3226669975
                        ],
                        "iteration": 895,
                        "passed_time": 236.5860292,
                        "remaining_time": 27.46087839,
                        "test": [
                          0.3685840574
                        ]
                      },
                      {
                        "learn": [
                          0.322660384
                        ],
                        "iteration": 896,
                        "passed_time": 236.8181113,
                        "remaining_time": 27.19316105,
                        "test": [
                          0.3685847621
                        ]
                      },
                      {
                        "learn": [
                          0.3226130554
                        ],
                        "iteration": 897,
                        "passed_time": 237.0729926,
                        "remaining_time": 26.92811274,
                        "test": [
                          0.3685683363
                        ]
                      },
                      {
                        "learn": [
                          0.3225799933
                        ],
                        "iteration": 898,
                        "passed_time": 237.3440068,
                        "remaining_time": 26.66489954,
                        "test": [
                          0.368569398
                        ]
                      },
                      {
                        "learn": [
                          0.3224970266
                        ],
                        "iteration": 899,
                        "passed_time": 237.6311727,
                        "remaining_time": 26.40346363,
                        "test": [
                          0.3685752986
                        ]
                      },
                      {
                        "learn": [
                          0.3224714834
                        ],
                        "iteration": 900,
                        "passed_time": 237.815813,
                        "remaining_time": 26.13070531,
                        "test": [
                          0.3685773628
                        ]
                      },
                      {
                        "learn": [
                          0.3224673517
                        ],
                        "iteration": 901,
                        "passed_time": 237.9996668,
                        "remaining_time": 25.85805692,
                        "test": [
                          0.3685857073
                        ]
                      },
                      {
                        "learn": [
                          0.3224606867
                        ],
                        "iteration": 902,
                        "passed_time": 238.1592481,
                        "remaining_time": 25.58299786,
                        "test": [
                          0.3685819919
                        ]
                      },
                      {
                        "learn": [
                          0.3224581643
                        ],
                        "iteration": 903,
                        "passed_time": 238.3559106,
                        "remaining_time": 25.3121321,
                        "test": [
                          0.3685815891
                        ]
                      },
                      {
                        "learn": [
                          0.3224535462
                        ],
                        "iteration": 904,
                        "passed_time": 238.5474658,
                        "remaining_time": 25.0408942,
                        "test": [
                          0.368590591
                        ]
                      },
                      {
                        "learn": [
                          0.3224509455
                        ],
                        "iteration": 905,
                        "passed_time": 238.7512255,
                        "remaining_time": 24.77109845,
                        "test": [
                          0.3685901673
                        ]
                      },
                      {
                        "learn": [
                          0.3224412815
                        ],
                        "iteration": 906,
                        "passed_time": 239.0258058,
                        "remaining_time": 24.50870997,
                        "test": [
                          0.3685867932
                        ]
                      },
                      {
                        "learn": [
                          0.3224277715
                        ],
                        "iteration": 907,
                        "passed_time": 239.1984667,
                        "remaining_time": 24.23596799,
                        "test": [
                          0.3685838726
                        ]
                      },
                      {
                        "learn": [
                          0.3224229477
                        ],
                        "iteration": 908,
                        "passed_time": 239.4997749,
                        "remaining_time": 23.9763251,
                        "test": [
                          0.3685862163
                        ]
                      },
                      {
                        "learn": [
                          0.3224131999
                        ],
                        "iteration": 909,
                        "passed_time": 239.7287812,
                        "remaining_time": 23.7094399,
                        "test": [
                          0.3685902048
                        ]
                      },
                      {
                        "learn": [
                          0.3223715931
                        ],
                        "iteration": 910,
                        "passed_time": 239.9607336,
                        "remaining_time": 23.44292568,
                        "test": [
                          0.3685829054
                        ]
                      },
                      {
                        "learn": [
                          0.3223691951
                        ],
                        "iteration": 911,
                        "passed_time": 240.1313073,
                        "remaining_time": 23.17056474,
                        "test": [
                          0.3685825125
                        ]
                      },
                      {
                        "learn": [
                          0.322330011
                        ],
                        "iteration": 912,
                        "passed_time": 240.4090548,
                        "remaining_time": 22.90863939,
                        "test": [
                          0.3685831178
                        ]
                      },
                      {
                        "learn": [
                          0.3223251053
                        ],
                        "iteration": 913,
                        "passed_time": 240.6748136,
                        "remaining_time": 22.64555138,
                        "test": [
                          0.3685811606
                        ]
                      },
                      {
                        "learn": [
                          0.3223250056
                        ],
                        "iteration": 914,
                        "passed_time": 240.7764167,
                        "remaining_time": 22.36720811,
                        "test": [
                          0.3685806599
                        ]
                      },
                      {
                        "learn": [
                          0.3222784967
                        ],
                        "iteration": 915,
                        "passed_time": 241.0335096,
                        "remaining_time": 22.10350962,
                        "test": [
                          0.3685858032
                        ]
                      },
                      {
                        "learn": [
                          0.3222783984
                        ],
                        "iteration": 916,
                        "passed_time": 241.1220901,
                        "remaining_time": 21.82457304,
                        "test": [
                          0.3685853069
                        ]
                      },
                      {
                        "learn": [
                          0.3222414668
                        ],
                        "iteration": 917,
                        "passed_time": 241.408527,
                        "remaining_time": 21.56372463,
                        "test": [
                          0.3685779517
                        ]
                      },
                      {
                        "learn": [
                          0.3222363746
                        ],
                        "iteration": 918,
                        "passed_time": 241.6461345,
                        "remaining_time": 21.29851675,
                        "test": [
                          0.3685755423
                        ]
                      },
                      {
                        "learn": [
                          0.322212761
                        ],
                        "iteration": 919,
                        "passed_time": 241.9020562,
                        "remaining_time": 21.03496141,
                        "test": [
                          0.3685719639
                        ]
                      },
                      {
                        "learn": [
                          0.3222104144
                        ],
                        "iteration": 920,
                        "passed_time": 242.0517361,
                        "remaining_time": 20.76230961,
                        "test": [
                          0.3685713809
                        ]
                      },
                      {
                        "learn": [
                          0.3222073651
                        ],
                        "iteration": 921,
                        "passed_time": 242.2708378,
                        "remaining_time": 20.49579756,
                        "test": [
                          0.3685728966
                        ]
                      },
                      {
                        "learn": [
                          0.3221236908
                        ],
                        "iteration": 922,
                        "passed_time": 242.5447201,
                        "remaining_time": 20.23395823,
                        "test": [
                          0.3685946978
                        ]
                      },
                      {
                        "learn": [
                          0.3220786954
                        ],
                        "iteration": 923,
                        "passed_time": 242.8252625,
                        "remaining_time": 19.97264064,
                        "test": [
                          0.3686248354
                        ]
                      },
                      {
                        "learn": [
                          0.3220503176
                        ],
                        "iteration": 924,
                        "passed_time": 243.0921348,
                        "remaining_time": 19.71017309,
                        "test": [
                          0.3686213638
                        ]
                      },
                      {
                        "learn": [
                          0.3220305055
                        ],
                        "iteration": 925,
                        "passed_time": 243.3196553,
                        "remaining_time": 19.44455129,
                        "test": [
                          0.368617756
                        ]
                      },
                      {
                        "learn": [
                          0.3220304075
                        ],
                        "iteration": 926,
                        "passed_time": 243.4015669,
                        "remaining_time": 19.16754518,
                        "test": [
                          0.3686172585
                        ]
                      },
                      {
                        "learn": [
                          0.3220230235
                        ],
                        "iteration": 927,
                        "passed_time": 243.6579288,
                        "remaining_time": 18.90449448,
                        "test": [
                          0.3686165263
                        ]
                      },
                      {
                        "learn": [
                          0.3220112493
                        ],
                        "iteration": 928,
                        "passed_time": 243.9130329,
                        "remaining_time": 18.64136204,
                        "test": [
                          0.3686243119
                        ]
                      },
                      {
                        "learn": [
                          0.3219572692
                        ],
                        "iteration": 929,
                        "passed_time": 244.1560187,
                        "remaining_time": 18.37733474,
                        "test": [
                          0.3686439802
                        ]
                      },
                      {
                        "learn": [
                          0.3219373396
                        ],
                        "iteration": 930,
                        "passed_time": 244.3838513,
                        "remaining_time": 18.11222958,
                        "test": [
                          0.3686398257
                        ]
                      },
                      {
                        "learn": [
                          0.3219340181
                        ],
                        "iteration": 931,
                        "passed_time": 244.7262512,
                        "remaining_time": 17.85556339,
                        "test": [
                          0.3686409244
                        ]
                      },
                      {
                        "learn": [
                          0.3219339234
                        ],
                        "iteration": 932,
                        "passed_time": 244.8739092,
                        "remaining_time": 17.58472874,
                        "test": [
                          0.3686404359
                        ]
                      },
                      {
                        "learn": [
                          0.3219338306
                        ],
                        "iteration": 933,
                        "passed_time": 245.0241058,
                        "remaining_time": 17.31433724,
                        "test": [
                          0.3686399533
                        ]
                      },
                      {
                        "learn": [
                          0.3218977267
                        ],
                        "iteration": 934,
                        "passed_time": 245.5702599,
                        "remaining_time": 17.0717293,
                        "test": [
                          0.3686425585
                        ]
                      },
                      {
                        "learn": [
                          0.3218879505
                        ],
                        "iteration": 935,
                        "passed_time": 246.0097289,
                        "remaining_time": 16.82117804,
                        "test": [
                          0.3687113647
                        ]
                      },
                      {
                        "learn": [
                          0.3218670439
                        ],
                        "iteration": 936,
                        "passed_time": 246.3744255,
                        "remaining_time": 16.56519616,
                        "test": [
                          0.3687235728
                        ]
                      },
                      {
                        "learn": [
                          0.3218562742
                        ],
                        "iteration": 937,
                        "passed_time": 246.8268275,
                        "remaining_time": 16.31477964,
                        "test": [
                          0.3687180745
                        ]
                      },
                      {
                        "learn": [
                          0.3218455152
                        ],
                        "iteration": 938,
                        "passed_time": 247.0985315,
                        "remaining_time": 16.05219427,
                        "test": [
                          0.3687177767
                        ]
                      },
                      {
                        "learn": [
                          0.3218325835
                        ],
                        "iteration": 939,
                        "passed_time": 247.3221613,
                        "remaining_time": 15.78652093,
                        "test": [
                          0.368719253
                        ]
                      },
                      {
                        "learn": [
                          0.321827983
                        ],
                        "iteration": 940,
                        "passed_time": 247.5507691,
                        "remaining_time": 15.52124907,
                        "test": [
                          0.3687272461
                        ]
                      },
                      {
                        "learn": [
                          0.3218173717
                        ],
                        "iteration": 941,
                        "passed_time": 247.8661302,
                        "remaining_time": 15.26139655,
                        "test": [
                          0.3687468017
                        ]
                      },
                      {
                        "learn": [
                          0.3218172858
                        ],
                        "iteration": 942,
                        "passed_time": 247.9959868,
                        "remaining_time": 14.99021341,
                        "test": [
                          0.3687463381
                        ]
                      },
                      {
                        "learn": [
                          0.3218075888
                        ],
                        "iteration": 943,
                        "passed_time": 248.2272234,
                        "remaining_time": 14.72534376,
                        "test": [
                          0.3687424034
                        ]
                      },
                      {
                        "learn": [
                          0.3218029362
                        ],
                        "iteration": 944,
                        "passed_time": 248.4511974,
                        "remaining_time": 14.4601226,
                        "test": [
                          0.368750051
                        ]
                      },
                      {
                        "learn": [
                          0.3217986572
                        ],
                        "iteration": 945,
                        "passed_time": 248.6681042,
                        "remaining_time": 14.19458523,
                        "test": [
                          0.3687491658
                        ]
                      },
                      {
                        "learn": [
                          0.3217985752
                        ],
                        "iteration": 946,
                        "passed_time": 248.790261,
                        "remaining_time": 13.92384776,
                        "test": [
                          0.3687487213
                        ]
                      },
                      {
                        "learn": [
                          0.3217371877
                        ],
                        "iteration": 947,
                        "passed_time": 249.0687423,
                        "remaining_time": 13.66199852,
                        "test": [
                          0.3687558448
                        ]
                      },
                      {
                        "learn": [
                          0.3217335715
                        ],
                        "iteration": 948,
                        "passed_time": 249.2500599,
                        "remaining_time": 13.39489257,
                        "test": [
                          0.3687580212
                        ]
                      },
                      {
                        "learn": [
                          0.3217293963
                        ],
                        "iteration": 949,
                        "passed_time": 249.4574117,
                        "remaining_time": 13.12933746,
                        "test": [
                          0.3687590913
                        ]
                      },
                      {
                        "learn": [
                          0.3216951128
                        ],
                        "iteration": 950,
                        "passed_time": 249.7123836,
                        "remaining_time": 12.86635835,
                        "test": [
                          0.3687653274
                        ]
                      },
                      {
                        "learn": [
                          0.3216927741
                        ],
                        "iteration": 951,
                        "passed_time": 249.8719727,
                        "remaining_time": 12.59858686,
                        "test": [
                          0.3687643006
                        ]
                      },
                      {
                        "learn": [
                          0.3216564383
                        ],
                        "iteration": 952,
                        "passed_time": 250.141441,
                        "remaining_time": 12.33646142,
                        "test": [
                          0.3687700461
                        ]
                      },
                      {
                        "learn": [
                          0.3216315274
                        ],
                        "iteration": 953,
                        "passed_time": 250.3655205,
                        "remaining_time": 12.07213202,
                        "test": [
                          0.3687705449
                        ]
                      },
                      {
                        "learn": [
                          0.3216314502
                        ],
                        "iteration": 954,
                        "passed_time": 250.4558485,
                        "remaining_time": 11.80158448,
                        "test": [
                          0.3687701098
                        ]
                      },
                      {
                        "learn": [
                          0.3215749671
                        ],
                        "iteration": 955,
                        "passed_time": 250.7165478,
                        "remaining_time": 11.53925534,
                        "test": [
                          0.3688012352
                        ]
                      },
                      {
                        "learn": [
                          0.3214835092
                        ],
                        "iteration": 956,
                        "passed_time": 250.9522787,
                        "remaining_time": 11.27580772,
                        "test": [
                          0.3687917654
                        ]
                      },
                      {
                        "learn": [
                          0.3214781572
                        ],
                        "iteration": 957,
                        "passed_time": 251.1889977,
                        "remaining_time": 11.01246128,
                        "test": [
                          0.3687928464
                        ]
                      },
                      {
                        "learn": [
                          0.3214738291
                        ],
                        "iteration": 958,
                        "passed_time": 251.368863,
                        "remaining_time": 10.74673971,
                        "test": [
                          0.3688011271
                        ]
                      },
                      {
                        "learn": [
                          0.3214685087
                        ],
                        "iteration": 959,
                        "passed_time": 251.5491143,
                        "remaining_time": 10.4812131,
                        "test": [
                          0.3688094274
                        ]
                      },
                      {
                        "learn": [
                          0.321386046
                        ],
                        "iteration": 960,
                        "passed_time": 251.802162,
                        "remaining_time": 10.21881823,
                        "test": [
                          0.3687773414
                        ]
                      },
                      {
                        "learn": [
                          0.3213773759
                        ],
                        "iteration": 961,
                        "passed_time": 252.0109687,
                        "remaining_time": 9.954695231,
                        "test": [
                          0.3687951309
                        ]
                      },
                      {
                        "learn": [
                          0.3213501091
                        ],
                        "iteration": 962,
                        "passed_time": 252.3004818,
                        "remaining_time": 9.693787982,
                        "test": [
                          0.3687958452
                        ]
                      },
                      {
                        "learn": [
                          0.3213113778
                        ],
                        "iteration": 963,
                        "passed_time": 252.5337572,
                        "remaining_time": 9.430721224,
                        "test": [
                          0.3687954615
                        ]
                      },
                      {
                        "learn": [
                          0.3213086769
                        ],
                        "iteration": 964,
                        "passed_time": 252.6356818,
                        "remaining_time": 9.162952188,
                        "test": [
                          0.368809148
                        ]
                      },
                      {
                        "learn": [
                          0.3213014239
                        ],
                        "iteration": 965,
                        "passed_time": 252.8651639,
                        "remaining_time": 8.900016121,
                        "test": [
                          0.3688153665
                        ]
                      },
                      {
                        "learn": [
                          0.3212726301
                        ],
                        "iteration": 966,
                        "passed_time": 253.1843216,
                        "remaining_time": 8.640209528,
                        "test": [
                          0.3688135041
                        ]
                      },
                      {
                        "learn": [
                          0.3212725512
                        ],
                        "iteration": 967,
                        "passed_time": 253.2728059,
                        "remaining_time": 8.372654742,
                        "test": [
                          0.3688130608
                        ]
                      },
                      {
                        "learn": [
                          0.3212375143
                        ],
                        "iteration": 968,
                        "passed_time": 253.50747,
                        "remaining_time": 8.110146099,
                        "test": [
                          0.3688176714
                        ]
                      },
                      {
                        "learn": [
                          0.3212342839
                        ],
                        "iteration": 969,
                        "passed_time": 253.7635574,
                        "remaining_time": 7.848357445,
                        "test": [
                          0.3688240006
                        ]
                      },
                      {
                        "learn": [
                          0.3212103967
                        ],
                        "iteration": 970,
                        "passed_time": 254.0243381,
                        "remaining_time": 7.586720705,
                        "test": [
                          0.3688235704
                        ]
                      },
                      {
                        "learn": [
                          0.3211829728
                        ],
                        "iteration": 971,
                        "passed_time": 254.3221344,
                        "remaining_time": 7.326152019,
                        "test": [
                          0.3688200449
                        ]
                      },
                      {
                        "learn": [
                          0.3211534673
                        ],
                        "iteration": 972,
                        "passed_time": 254.5665256,
                        "remaining_time": 7.064024861,
                        "test": [
                          0.3688180697
                        ]
                      },
                      {
                        "learn": [
                          0.3211500188
                        ],
                        "iteration": 973,
                        "passed_time": 254.7493635,
                        "remaining_time": 6.800291017,
                        "test": [
                          0.3688177646
                        ]
                      },
                      {
                        "learn": [
                          0.321129992
                        ],
                        "iteration": 974,
                        "passed_time": 254.9976954,
                        "remaining_time": 6.538402447,
                        "test": [
                          0.3688310834
                        ]
                      },
                      {
                        "learn": [
                          0.3211038663
                        ],
                        "iteration": 975,
                        "passed_time": 255.1970356,
                        "remaining_time": 6.27533694,
                        "test": [
                          0.3688238966
                        ]
                      },
                      {
                        "learn": [
                          0.3210397104
                        ],
                        "iteration": 976,
                        "passed_time": 255.4887796,
                        "remaining_time": 6.014577208,
                        "test": [
                          0.3688286296
                        ]
                      },
                      {
                        "learn": [
                          0.3210371658
                        ],
                        "iteration": 977,
                        "passed_time": 255.6016665,
                        "remaining_time": 5.74973074,
                        "test": [
                          0.3688294979
                        ]
                      },
                      {
                        "learn": [
                          0.3209685119
                        ],
                        "iteration": 978,
                        "passed_time": 255.8430968,
                        "remaining_time": 5.487952025,
                        "test": [
                          0.3689203725
                        ]
                      },
                      {
                        "learn": [
                          0.3208929248
                        ],
                        "iteration": 979,
                        "passed_time": 256.0899148,
                        "remaining_time": 5.226324792,
                        "test": [
                          0.368930644
                        ]
                      },
                      {
                        "learn": [
                          0.3208638891
                        ],
                        "iteration": 980,
                        "passed_time": 256.4060869,
                        "remaining_time": 4.966071,
                        "test": [
                          0.3689276932
                        ]
                      },
                      {
                        "learn": [
                          0.3208405377
                        ],
                        "iteration": 981,
                        "passed_time": 256.6444739,
                        "remaining_time": 4.704277526,
                        "test": [
                          0.3689399368
                        ]
                      },
                      {
                        "learn": [
                          0.3208350422
                        ],
                        "iteration": 982,
                        "passed_time": 256.8484261,
                        "remaining_time": 4.441936159,
                        "test": [
                          0.3689409335
                        ]
                      },
                      {
                        "learn": [
                          0.3207927493
                        ],
                        "iteration": 983,
                        "passed_time": 257.1709194,
                        "remaining_time": 4.181640967,
                        "test": [
                          0.3689379892
                        ]
                      },
                      {
                        "learn": [
                          0.3207888576
                        ],
                        "iteration": 984,
                        "passed_time": 257.5662271,
                        "remaining_time": 3.922328331,
                        "test": [
                          0.3689376929
                        ]
                      },
                      {
                        "learn": [
                          0.3207674134
                        ],
                        "iteration": 985,
                        "passed_time": 257.9785134,
                        "remaining_time": 3.66298092,
                        "test": [
                          0.3689370465
                        ]
                      },
                      {
                        "learn": [
                          0.320748805
                        ],
                        "iteration": 986,
                        "passed_time": 258.3864304,
                        "remaining_time": 3.403266053,
                        "test": [
                          0.368950769
                        ]
                      },
                      {
                        "learn": [
                          0.3207286299
                        ],
                        "iteration": 987,
                        "passed_time": 258.8260231,
                        "remaining_time": 3.143635909,
                        "test": [
                          0.3689525262
                        ]
                      },
                      {
                        "learn": [
                          0.3206953053
                        ],
                        "iteration": 988,
                        "passed_time": 259.3360738,
                        "remaining_time": 2.884425492,
                        "test": [
                          0.368957052
                        ]
                      },
                      {
                        "learn": [
                          0.3206583738
                        ],
                        "iteration": 989,
                        "passed_time": 259.6440167,
                        "remaining_time": 2.622666836,
                        "test": [
                          0.3689688205
                        ]
                      },
                      {
                        "learn": [
                          0.3206556842
                        ],
                        "iteration": 990,
                        "passed_time": 259.8004157,
                        "remaining_time": 2.35943869,
                        "test": [
                          0.368972885
                        ]
                      },
                      {
                        "learn": [
                          0.3206260426
                        ],
                        "iteration": 991,
                        "passed_time": 260.0605298,
                        "remaining_time": 2.097262337,
                        "test": [
                          0.3689856974
                        ]
                      },
                      {
                        "learn": [
                          0.3205381532
                        ],
                        "iteration": 992,
                        "passed_time": 260.3082542,
                        "remaining_time": 1.835002799,
                        "test": [
                          0.3689983657
                        ]
                      },
                      {
                        "learn": [
                          0.3205368193
                        ],
                        "iteration": 993,
                        "passed_time": 260.4250586,
                        "remaining_time": 1.571982245,
                        "test": [
                          0.3689990436
                        ]
                      },
                      {
                        "learn": [
                          0.3205011026
                        ],
                        "iteration": 994,
                        "passed_time": 260.7027235,
                        "remaining_time": 1.310063937,
                        "test": [
                          0.368988525
                        ]
                      },
                      {
                        "learn": [
                          0.3204657723
                        ],
                        "iteration": 995,
                        "passed_time": 260.9773158,
                        "remaining_time": 1.04810167,
                        "test": [
                          0.3689904801
                        ]
                      },
                      {
                        "learn": [
                          0.320465688
                        ],
                        "iteration": 996,
                        "passed_time": 261.0589358,
                        "remaining_time": 0.7855334076,
                        "test": [
                          0.3689900154
                        ]
                      },
                      {
                        "learn": [
                          0.3204559908
                        ],
                        "iteration": 997,
                        "passed_time": 261.2501398,
                        "remaining_time": 0.5235473743,
                        "test": [
                          0.3689885576
                        ]
                      },
                      {
                        "learn": [
                          0.3204537308
                        ],
                        "iteration": 998,
                        "passed_time": 261.440431,
                        "remaining_time": 0.2617021331,
                        "test": [
                          0.3689893253
                        ]
                      },
                      {
                        "learn": [
                          0.320433039
                        ],
                        "iteration": 999,
                        "passed_time": 261.7539493,
                        "remaining_time": 0,
                        "test": [
                          0.3689792408
                        ]
                      }
                    ],
                    "meta": {
                      "test_sets": [
                        "test"
                      ],
                      "test_metrics": [
                        {
                          "best_value": "Min",
                          "name": "Poisson"
                        }
                      ],
                      "learn_metrics": [
                        {
                          "best_value": "Min",
                          "name": "Poisson"
                        }
                      ],
                      "launch_mode": "Train",
                      "parameters": "",
                      "iteration_count": 1000,
                      "learn_sets": [
                        "learn"
                      ],
                      "name": "experiment"
                    }
                  }
                }
              }
            },
            "layout": "IPY_MODEL_e1d67f058e3d427e934ddcc10bae0491"
          }
        }
      }
    },
    "accelerator": "GPU"
  },
  "cells": [
    {
      "cell_type": "code",
      "execution_count": null,
      "metadata": {
        "colab": {
          "base_uri": "https://localhost:8080/"
        },
        "id": "NC4-rGnKel8c",
        "outputId": "e1a00b66-2587-499c-bd05-b87abca5e354"
      },
      "outputs": [
        {
          "output_type": "stream",
          "name": "stdout",
          "text": [
            "Requirement already satisfied: statsmodels==0.14.0 in /usr/local/lib/python3.11/dist-packages (0.14.0)\n",
            "Requirement already satisfied: numpy>=1.18 in /usr/local/lib/python3.11/dist-packages (from statsmodels==0.14.0) (1.26.4)\n",
            "Requirement already satisfied: scipy!=1.9.2,>=1.4 in /usr/local/lib/python3.11/dist-packages (from statsmodels==0.14.0) (1.13.1)\n",
            "Requirement already satisfied: pandas>=1.0 in /usr/local/lib/python3.11/dist-packages (from statsmodels==0.14.0) (2.2.2)\n",
            "Requirement already satisfied: patsy>=0.5.2 in /usr/local/lib/python3.11/dist-packages (from statsmodels==0.14.0) (1.0.1)\n",
            "Requirement already satisfied: packaging>=21.3 in /usr/local/lib/python3.11/dist-packages (from statsmodels==0.14.0) (24.2)\n",
            "Requirement already satisfied: python-dateutil>=2.8.2 in /usr/local/lib/python3.11/dist-packages (from pandas>=1.0->statsmodels==0.14.0) (2.8.2)\n",
            "Requirement already satisfied: pytz>=2020.1 in /usr/local/lib/python3.11/dist-packages (from pandas>=1.0->statsmodels==0.14.0) (2025.1)\n",
            "Requirement already satisfied: tzdata>=2022.7 in /usr/local/lib/python3.11/dist-packages (from pandas>=1.0->statsmodels==0.14.0) (2025.1)\n",
            "Requirement already satisfied: six>=1.5 in /usr/local/lib/python3.11/dist-packages (from python-dateutil>=2.8.2->pandas>=1.0->statsmodels==0.14.0) (1.17.0)\n"
          ]
        }
      ],
      "source": [
        "!pip install statsmodels==0.14.0"
      ]
    },
    {
      "cell_type": "code",
      "source": [
        "!pip install catboost"
      ],
      "metadata": {
        "colab": {
          "base_uri": "https://localhost:8080/"
        },
        "id": "5Iv80mWnlgJp",
        "outputId": "9ead6c90-1e05-49da-b014-25e69b37cf97"
      },
      "execution_count": null,
      "outputs": [
        {
          "output_type": "stream",
          "name": "stdout",
          "text": [
            "Requirement already satisfied: catboost in /usr/local/lib/python3.11/dist-packages (1.2.7)\n",
            "Requirement already satisfied: graphviz in /usr/local/lib/python3.11/dist-packages (from catboost) (0.20.3)\n",
            "Requirement already satisfied: matplotlib in /usr/local/lib/python3.11/dist-packages (from catboost) (3.10.0)\n",
            "Requirement already satisfied: numpy<2.0,>=1.16.0 in /usr/local/lib/python3.11/dist-packages (from catboost) (1.26.4)\n",
            "Requirement already satisfied: pandas>=0.24 in /usr/local/lib/python3.11/dist-packages (from catboost) (2.2.2)\n",
            "Requirement already satisfied: scipy in /usr/local/lib/python3.11/dist-packages (from catboost) (1.13.1)\n",
            "Requirement already satisfied: plotly in /usr/local/lib/python3.11/dist-packages (from catboost) (5.24.1)\n",
            "Requirement already satisfied: six in /usr/local/lib/python3.11/dist-packages (from catboost) (1.17.0)\n",
            "Requirement already satisfied: python-dateutil>=2.8.2 in /usr/local/lib/python3.11/dist-packages (from pandas>=0.24->catboost) (2.8.2)\n",
            "Requirement already satisfied: pytz>=2020.1 in /usr/local/lib/python3.11/dist-packages (from pandas>=0.24->catboost) (2025.1)\n",
            "Requirement already satisfied: tzdata>=2022.7 in /usr/local/lib/python3.11/dist-packages (from pandas>=0.24->catboost) (2025.1)\n",
            "Requirement already satisfied: contourpy>=1.0.1 in /usr/local/lib/python3.11/dist-packages (from matplotlib->catboost) (1.3.1)\n",
            "Requirement already satisfied: cycler>=0.10 in /usr/local/lib/python3.11/dist-packages (from matplotlib->catboost) (0.12.1)\n",
            "Requirement already satisfied: fonttools>=4.22.0 in /usr/local/lib/python3.11/dist-packages (from matplotlib->catboost) (4.56.0)\n",
            "Requirement already satisfied: kiwisolver>=1.3.1 in /usr/local/lib/python3.11/dist-packages (from matplotlib->catboost) (1.4.8)\n",
            "Requirement already satisfied: packaging>=20.0 in /usr/local/lib/python3.11/dist-packages (from matplotlib->catboost) (24.2)\n",
            "Requirement already satisfied: pillow>=8 in /usr/local/lib/python3.11/dist-packages (from matplotlib->catboost) (11.1.0)\n",
            "Requirement already satisfied: pyparsing>=2.3.1 in /usr/local/lib/python3.11/dist-packages (from matplotlib->catboost) (3.2.1)\n",
            "Requirement already satisfied: tenacity>=6.2.0 in /usr/local/lib/python3.11/dist-packages (from plotly->catboost) (9.0.0)\n"
          ]
        }
      ]
    },
    {
      "cell_type": "code",
      "source": [
        "!pip install lightgbm"
      ],
      "metadata": {
        "id": "VNjDsk6W8ONS",
        "colab": {
          "base_uri": "https://localhost:8080/"
        },
        "outputId": "a3c2e69b-3831-48af-fc71-ccf1af28edc3"
      },
      "execution_count": null,
      "outputs": [
        {
          "output_type": "stream",
          "name": "stdout",
          "text": [
            "Requirement already satisfied: lightgbm in /usr/local/lib/python3.11/dist-packages (4.5.0)\n",
            "Requirement already satisfied: numpy>=1.17.0 in /usr/local/lib/python3.11/dist-packages (from lightgbm) (1.26.4)\n",
            "Requirement already satisfied: scipy in /usr/local/lib/python3.11/dist-packages (from lightgbm) (1.13.1)\n"
          ]
        }
      ]
    },
    {
      "cell_type": "code",
      "source": [
        "import pandas as pd\n",
        "import numpy as np\n",
        "import seaborn as sns\n",
        "import matplotlib.pyplot as plt\n",
        "import statsmodels.api as sm\n",
        "import scipy.stats as stats\n",
        "from sklearn.preprocessing import LabelEncoder, StandardScaler\n",
        "from patsy import dmatrices\n",
        "\n",
        "from statsmodels.api import GLM, families\n",
        "from sklearn.metrics import roc_curve, roc_auc_score, confusion_matrix\n",
        "from sklearn.model_selection import train_test_split\n",
        "\n",
        "from sklearn.metrics import mean_squared_error, mean_absolute_error, r2_score\n",
        "from catboost import CatBoostRegressor, Pool\n",
        "from sklearn.ensemble import GradientBoostingRegressor\n",
        "\n",
        "from statsmodels.api import add_constant\n",
        "\n",
        "import lightgbm as lgb\n",
        "import time\n",
        "import warnings\n",
        "warnings.filterwarnings(\"ignore\")"
      ],
      "metadata": {
        "id": "jOUavGyWkh8w",
        "colab": {
          "base_uri": "https://localhost:8080/"
        },
        "outputId": "fc3e07c6-52e5-4c88-8b7f-a0721f187eb7"
      },
      "execution_count": null,
      "outputs": [
        {
          "output_type": "stream",
          "name": "stderr",
          "text": [
            "/usr/local/lib/python3.11/dist-packages/dask/dataframe/__init__.py:42: FutureWarning: \n",
            "Dask dataframe query planning is disabled because dask-expr is not installed.\n",
            "\n",
            "You can install it with `pip install dask[dataframe]` or `conda install dask`.\n",
            "This will raise in a future version.\n",
            "\n",
            "  warnings.warn(msg, FutureWarning)\n"
          ]
        }
      ]
    },
    {
      "cell_type": "code",
      "source": [
        "# Load data\n",
        "df1 = pd.read_csv(\"/content/df_train_part1_20250212.csv\")\n",
        "df2 = pd.read_csv(\"/content/df_train_part2_20250212.csv\")\n",
        "df = pd.concat([df1, df2], ignore_index=True)\n",
        "\n",
        "# Rename ID column\n",
        "df = df.rename(columns={'Unnamed: 0': 'ID'})"
      ],
      "metadata": {
        "id": "0yNj9H9Tkuyk"
      },
      "execution_count": null,
      "outputs": []
    },
    {
      "cell_type": "code",
      "source": [
        "# data with feature engineering\n",
        "df_encoded = df.copy()\n",
        "\n",
        "# data without feature engineering\n",
        "df_encoded2 = df.copy()\n",
        "\n",
        "# dataframe for catboost (no encoding)\n",
        "df_cat = df.copy()\n",
        "\n",
        "# feature engineering\n",
        "df_encoded['CarAge_2'] = df_encoded['CarAge'] * df_encoded['CarAge']\n",
        "df_encoded['CarAge_3'] = df_encoded['CarAge'] * df_encoded['CarAge'] * df_encoded['CarAge']\n",
        "df_encoded['DriverAge_2'] = df_encoded['DriverAge'] * df_encoded['DriverAge']\n",
        "df_encoded['DriverAge_3'] = df_encoded['DriverAge'] * df_encoded['DriverAge'] * df_encoded['DriverAge']\n",
        "df_encoded['Density_2'] = df_encoded['Density'] * df_encoded['Density']\n",
        "df_encoded['Density_3'] = df_encoded['Density'] * df_encoded['Density'] * df_encoded['Density']\n",
        "df_encoded['CarAge_DriverAge'] = df_encoded['CarAge'] * df_encoded['DriverAge']\n",
        "df_encoded['Density_DriverAge'] = df_encoded['Density'] * df_encoded['DriverAge']\n",
        "df_encoded['Density_CarAge'] = df_encoded['Density'] * df_encoded['CarAge']\n",
        "\n",
        "df_cat['CarAge_2'] = df_cat['CarAge'] * df_cat['CarAge']\n",
        "df_cat['CarAge_3'] = df_cat['CarAge'] * df_cat['CarAge'] * df_cat['CarAge']\n",
        "df_cat['DriverAge_2'] = df_cat['DriverAge'] * df_cat['DriverAge']\n",
        "df_cat['DriverAge_3'] = df_cat['DriverAge'] * df_cat['DriverAge'] * df_cat['DriverAge']\n",
        "df_cat['Density_2'] = df_cat['Density'] * df_cat['Density']\n",
        "df_cat['Density_3'] = df_cat['Density'] * df_cat['Density'] * df_cat['Density']\n",
        "df_cat['CarAge_DriverAge'] = df_cat['CarAge'] * df_cat['DriverAge']\n",
        "df_cat['Density_DriverAge'] = df_cat['Density'] * df_cat['DriverAge']\n",
        "df_cat['Density_CarAge'] = df_cat['Density'] * df_cat['CarAge']\n",
        "\n",
        "# Create dummy variables and ensure that the first column is dropped\n",
        "df_encoded = pd.get_dummies(df_encoded, columns=['Power','Brand', 'Gas', 'Region'], drop_first=True)\n",
        "df_encoded2 = pd.get_dummies(df_encoded2, columns=['Power','Brand', 'Gas', 'Region'], drop_first=True)\n",
        "\n",
        "dummy_columns = df_encoded.select_dtypes(include=['bool']).columns\n",
        "dummy_columns2 = df_encoded2.select_dtypes(include=['bool']).columns\n",
        "\n",
        "df_encoded[dummy_columns] = df_encoded[dummy_columns].astype(int)\n",
        "df_encoded2[dummy_columns2] = df_encoded2[dummy_columns2].astype(int)\n",
        "\n",
        "cols = [\"CarAge\", \"DriverAge\", \"Density\", \"CarAge_2\", \"CarAge_3\", \"DriverAge_2\", \"DriverAge_3\", \"Density_2\",\"Density_3\", \"CarAge_DriverAge\", \"Density_DriverAge\", \"Density_CarAge\"]\n",
        "\n",
        "# standardise columns\n",
        "for col in cols:\n",
        "  df_encoded[col] = (df_encoded[col]-df_encoded[col].mean())/df_encoded[col].std()\n",
        "\n",
        "# Rename brand columns\n",
        "df_encoded = df_encoded.rename(columns={\n",
        "    'Brand_Volkswagen, Audi, Skoda or Seat': 'Brand_Volkswagen_Audi_Skoda_or_Seat',\n",
        "    'Brand_Renault, Nissan or Citroen': 'Brand_Renault_Nissan_or_Citroen',\n",
        "    'Brand_Japanese (except Nissan) or Korean': 'Brand_Japanese_Excl_Nissan_or_Korean',\n",
        "    'Brand_Opel, General Motors or Ford': 'Brand_Opel_GeneralMotors_Ford',\n",
        "    'Brand_other': 'Brand_other',\n",
        "    'Brand_Mercedes, Chrysler or BMW': 'Brand_Mercedes_Chrysler_BMW',\n",
        "    'Brand_Fiat': 'Brand_Fiat'\n",
        "})\n",
        "\n",
        "df_encoded2 = df_encoded2.rename(columns={\n",
        "    'Brand_Volkswagen, Audi, Skoda or Seat': 'Brand_Volkswagen_Audi_Skoda_or_Seat',\n",
        "    'Brand_Renault, Nissan or Citroen': 'Brand_Renault_Nissan_or_Citroen',\n",
        "    'Brand_Japanese (except Nissan) or Korean': 'Brand_Japanese_Excl_Nissan_or_Korean',\n",
        "    'Brand_Opel, General Motors or Ford': 'Brand_Opel_GeneralMotors_Ford',\n",
        "    'Brand_other': 'Brand_other',\n",
        "    'Brand_Mercedes, Chrysler or BMW': 'Brand_Mercedes_Chrysler_BMW',\n",
        "    'Brand_Fiat': 'Brand_Fiat'\n",
        "})\n",
        "\n",
        "# Rename region columns\n",
        "df_encoded = df_encoded.rename(columns={\n",
        "    'Region_Basse-Normandie': 'Region_Basse_Normandie',\n",
        "    'Region_Bretagne': 'Region_Bretagne',\n",
        "    'Region_Centre': 'Region_Centre',\n",
        "    'Region_Haute-Normandie': 'Region_Haute_Normandie',\n",
        "    'Region_Ile-de-France': 'Region_Ile_de_France',\n",
        "    'Region_Limousin': 'Region_Limousin',\n",
        "    'Region_Nord-Pas-de-Calais': 'Region_Nord_Pas_de_Calais',\n",
        "    'Region_Pays-de-la-Loire': 'Region_Pays_de_la_Loire',\n",
        "    'Region_Poitou-Charentes': 'Region_Poitou_Charentes'\n",
        "})\n",
        "\n",
        "df_encoded2 = df_encoded2.rename(columns={\n",
        "    'Region_Basse-Normandie': 'Region_Basse_Normandie',\n",
        "    'Region_Bretagne': 'Region_Bretagne',\n",
        "    'Region_Centre': 'Region_Centre',\n",
        "    'Region_Haute-Normandie': 'Region_Haute_Normandie',\n",
        "    'Region_Ile-de-France': 'Region_Ile_de_France',\n",
        "    'Region_Limousin': 'Region_Limousin',\n",
        "    'Region_Nord-Pas-de-Calais': 'Region_Nord_Pas_de_Calais',\n",
        "    'Region_Pays-de-la-Loire': 'Region_Pays_de_la_Loire',\n",
        "    'Region_Poitou-Charentes': 'Region_Poitou_Charentes'\n",
        "})\n",
        "\n",
        "print(df_encoded.columns)\n",
        "df_encoded.head()"
      ],
      "metadata": {
        "colab": {
          "base_uri": "https://localhost:8080/",
          "height": 741
        },
        "id": "i023unv5k9Ge",
        "outputId": "d95ea5a0-9fd1-4ba2-aef3-3b3d11312530"
      },
      "execution_count": null,
      "outputs": [
        {
          "output_type": "stream",
          "name": "stdout",
          "text": [
            "Index(['ID', 'ClaimNb', 'Exposure', 'CarAge', 'DriverAge', 'Density',\n",
            "       'ClaimAmount', 'PurePremium', 'CarAge_2', 'CarAge_3', 'DriverAge_2',\n",
            "       'DriverAge_3', 'Density_2', 'Density_3', 'CarAge_DriverAge',\n",
            "       'Density_DriverAge', 'Density_CarAge', 'Power_e', 'Power_f', 'Power_g',\n",
            "       'Power_h', 'Power_i', 'Power_j', 'Power_k', 'Power_l', 'Power_m',\n",
            "       'Power_n', 'Power_o', 'Brand_Japanese_Excl_Nissan_or_Korean',\n",
            "       'Brand_Mercedes_Chrysler_BMW', 'Brand_Opel_GeneralMotors_Ford',\n",
            "       'Brand_Renault_Nissan_or_Citroen',\n",
            "       'Brand_Volkswagen_Audi_Skoda_or_Seat', 'Brand_other', 'Gas_Regular',\n",
            "       'Region_Basse_Normandie', 'Region_Bretagne', 'Region_Centre',\n",
            "       'Region_Haute_Normandie', 'Region_Ile_de_France', 'Region_Limousin',\n",
            "       'Region_Nord_Pas_de_Calais', 'Region_Pays_de_la_Loire',\n",
            "       'Region_Poitou_Charentes'],\n",
            "      dtype='object')\n"
          ]
        },
        {
          "output_type": "execute_result",
          "data": {
            "text/plain": [
              "                                     ID  ClaimNb  Exposure    CarAge  \\\n",
              "0  044049e5-3107-4e9f-9a58-a4009f9c047f        0      0.48 -0.093590   \n",
              "1  03d2a0f5-bf53-4926-ad50-547ae1bbf5f6        0      1.00  0.946167   \n",
              "2  0f7d922f-214e-4220-8870-bc7c4ab8e5d6        1      0.40  0.252996   \n",
              "3  ddffa04f-b503-42fa-8c8c-1ef42d8fda82        0      0.58 -0.613468   \n",
              "4  b68cce4b-34b1-4e26-96d8-2219f280b382        0      0.52  0.599582   \n",
              "\n",
              "   DriverAge   Density  ClaimAmount  PurePremium  CarAge_2  CarAge_3  ...  \\\n",
              "0   0.397590  0.449322          0.0          0.0 -0.251682 -0.094456  ...   \n",
              "1   0.118497 -0.389037          0.0          0.0  0.482226  0.068314  ...   \n",
              "2  -0.021050  5.243058       1116.0       2790.0 -0.055973 -0.060567  ...   \n",
              "3  -0.928105 -0.247774          0.0          0.0 -0.453507 -0.118950  ...   \n",
              "4  -1.276972 -0.310022          0.0          0.0  0.188663 -0.007715  ...   \n",
              "\n",
              "   Gas_Regular  Region_Basse_Normandie  Region_Bretagne  Region_Centre  \\\n",
              "0            1                       0                0              0   \n",
              "1            1                       0                0              1   \n",
              "2            1                       0                0              0   \n",
              "3            0                       0                0              0   \n",
              "4            0                       1                0              0   \n",
              "\n",
              "   Region_Haute_Normandie  Region_Ile_de_France  Region_Limousin  \\\n",
              "0                       0                     0                0   \n",
              "1                       0                     0                0   \n",
              "2                       0                     1                0   \n",
              "3                       0                     0                0   \n",
              "4                       0                     0                0   \n",
              "\n",
              "   Region_Nord_Pas_de_Calais  Region_Pays_de_la_Loire  Region_Poitou_Charentes  \n",
              "0                          0                        1                        0  \n",
              "1                          0                        0                        0  \n",
              "2                          0                        0                        0  \n",
              "3                          1                        0                        0  \n",
              "4                          0                        0                        0  \n",
              "\n",
              "[5 rows x 44 columns]"
            ],
            "text/html": [
              "\n",
              "  <div id=\"df-0a7feae0-2cec-45b6-b7e8-03930cfd5022\" class=\"colab-df-container\">\n",
              "    <div>\n",
              "<style scoped>\n",
              "    .dataframe tbody tr th:only-of-type {\n",
              "        vertical-align: middle;\n",
              "    }\n",
              "\n",
              "    .dataframe tbody tr th {\n",
              "        vertical-align: top;\n",
              "    }\n",
              "\n",
              "    .dataframe thead th {\n",
              "        text-align: right;\n",
              "    }\n",
              "</style>\n",
              "<table border=\"1\" class=\"dataframe\">\n",
              "  <thead>\n",
              "    <tr style=\"text-align: right;\">\n",
              "      <th></th>\n",
              "      <th>ID</th>\n",
              "      <th>ClaimNb</th>\n",
              "      <th>Exposure</th>\n",
              "      <th>CarAge</th>\n",
              "      <th>DriverAge</th>\n",
              "      <th>Density</th>\n",
              "      <th>ClaimAmount</th>\n",
              "      <th>PurePremium</th>\n",
              "      <th>CarAge_2</th>\n",
              "      <th>CarAge_3</th>\n",
              "      <th>...</th>\n",
              "      <th>Gas_Regular</th>\n",
              "      <th>Region_Basse_Normandie</th>\n",
              "      <th>Region_Bretagne</th>\n",
              "      <th>Region_Centre</th>\n",
              "      <th>Region_Haute_Normandie</th>\n",
              "      <th>Region_Ile_de_France</th>\n",
              "      <th>Region_Limousin</th>\n",
              "      <th>Region_Nord_Pas_de_Calais</th>\n",
              "      <th>Region_Pays_de_la_Loire</th>\n",
              "      <th>Region_Poitou_Charentes</th>\n",
              "    </tr>\n",
              "  </thead>\n",
              "  <tbody>\n",
              "    <tr>\n",
              "      <th>0</th>\n",
              "      <td>044049e5-3107-4e9f-9a58-a4009f9c047f</td>\n",
              "      <td>0</td>\n",
              "      <td>0.48</td>\n",
              "      <td>-0.093590</td>\n",
              "      <td>0.397590</td>\n",
              "      <td>0.449322</td>\n",
              "      <td>0.0</td>\n",
              "      <td>0.0</td>\n",
              "      <td>-0.251682</td>\n",
              "      <td>-0.094456</td>\n",
              "      <td>...</td>\n",
              "      <td>1</td>\n",
              "      <td>0</td>\n",
              "      <td>0</td>\n",
              "      <td>0</td>\n",
              "      <td>0</td>\n",
              "      <td>0</td>\n",
              "      <td>0</td>\n",
              "      <td>0</td>\n",
              "      <td>1</td>\n",
              "      <td>0</td>\n",
              "    </tr>\n",
              "    <tr>\n",
              "      <th>1</th>\n",
              "      <td>03d2a0f5-bf53-4926-ad50-547ae1bbf5f6</td>\n",
              "      <td>0</td>\n",
              "      <td>1.00</td>\n",
              "      <td>0.946167</td>\n",
              "      <td>0.118497</td>\n",
              "      <td>-0.389037</td>\n",
              "      <td>0.0</td>\n",
              "      <td>0.0</td>\n",
              "      <td>0.482226</td>\n",
              "      <td>0.068314</td>\n",
              "      <td>...</td>\n",
              "      <td>1</td>\n",
              "      <td>0</td>\n",
              "      <td>0</td>\n",
              "      <td>1</td>\n",
              "      <td>0</td>\n",
              "      <td>0</td>\n",
              "      <td>0</td>\n",
              "      <td>0</td>\n",
              "      <td>0</td>\n",
              "      <td>0</td>\n",
              "    </tr>\n",
              "    <tr>\n",
              "      <th>2</th>\n",
              "      <td>0f7d922f-214e-4220-8870-bc7c4ab8e5d6</td>\n",
              "      <td>1</td>\n",
              "      <td>0.40</td>\n",
              "      <td>0.252996</td>\n",
              "      <td>-0.021050</td>\n",
              "      <td>5.243058</td>\n",
              "      <td>1116.0</td>\n",
              "      <td>2790.0</td>\n",
              "      <td>-0.055973</td>\n",
              "      <td>-0.060567</td>\n",
              "      <td>...</td>\n",
              "      <td>1</td>\n",
              "      <td>0</td>\n",
              "      <td>0</td>\n",
              "      <td>0</td>\n",
              "      <td>0</td>\n",
              "      <td>1</td>\n",
              "      <td>0</td>\n",
              "      <td>0</td>\n",
              "      <td>0</td>\n",
              "      <td>0</td>\n",
              "    </tr>\n",
              "    <tr>\n",
              "      <th>3</th>\n",
              "      <td>ddffa04f-b503-42fa-8c8c-1ef42d8fda82</td>\n",
              "      <td>0</td>\n",
              "      <td>0.58</td>\n",
              "      <td>-0.613468</td>\n",
              "      <td>-0.928105</td>\n",
              "      <td>-0.247774</td>\n",
              "      <td>0.0</td>\n",
              "      <td>0.0</td>\n",
              "      <td>-0.453507</td>\n",
              "      <td>-0.118950</td>\n",
              "      <td>...</td>\n",
              "      <td>0</td>\n",
              "      <td>0</td>\n",
              "      <td>0</td>\n",
              "      <td>0</td>\n",
              "      <td>0</td>\n",
              "      <td>0</td>\n",
              "      <td>0</td>\n",
              "      <td>1</td>\n",
              "      <td>0</td>\n",
              "      <td>0</td>\n",
              "    </tr>\n",
              "    <tr>\n",
              "      <th>4</th>\n",
              "      <td>b68cce4b-34b1-4e26-96d8-2219f280b382</td>\n",
              "      <td>0</td>\n",
              "      <td>0.52</td>\n",
              "      <td>0.599582</td>\n",
              "      <td>-1.276972</td>\n",
              "      <td>-0.310022</td>\n",
              "      <td>0.0</td>\n",
              "      <td>0.0</td>\n",
              "      <td>0.188663</td>\n",
              "      <td>-0.007715</td>\n",
              "      <td>...</td>\n",
              "      <td>0</td>\n",
              "      <td>1</td>\n",
              "      <td>0</td>\n",
              "      <td>0</td>\n",
              "      <td>0</td>\n",
              "      <td>0</td>\n",
              "      <td>0</td>\n",
              "      <td>0</td>\n",
              "      <td>0</td>\n",
              "      <td>0</td>\n",
              "    </tr>\n",
              "  </tbody>\n",
              "</table>\n",
              "<p>5 rows × 44 columns</p>\n",
              "</div>\n",
              "    <div class=\"colab-df-buttons\">\n",
              "\n",
              "  <div class=\"colab-df-container\">\n",
              "    <button class=\"colab-df-convert\" onclick=\"convertToInteractive('df-0a7feae0-2cec-45b6-b7e8-03930cfd5022')\"\n",
              "            title=\"Convert this dataframe to an interactive table.\"\n",
              "            style=\"display:none;\">\n",
              "\n",
              "  <svg xmlns=\"http://www.w3.org/2000/svg\" height=\"24px\" viewBox=\"0 -960 960 960\">\n",
              "    <path d=\"M120-120v-720h720v720H120Zm60-500h600v-160H180v160Zm220 220h160v-160H400v160Zm0 220h160v-160H400v160ZM180-400h160v-160H180v160Zm440 0h160v-160H620v160ZM180-180h160v-160H180v160Zm440 0h160v-160H620v160Z\"/>\n",
              "  </svg>\n",
              "    </button>\n",
              "\n",
              "  <style>\n",
              "    .colab-df-container {\n",
              "      display:flex;\n",
              "      gap: 12px;\n",
              "    }\n",
              "\n",
              "    .colab-df-convert {\n",
              "      background-color: #E8F0FE;\n",
              "      border: none;\n",
              "      border-radius: 50%;\n",
              "      cursor: pointer;\n",
              "      display: none;\n",
              "      fill: #1967D2;\n",
              "      height: 32px;\n",
              "      padding: 0 0 0 0;\n",
              "      width: 32px;\n",
              "    }\n",
              "\n",
              "    .colab-df-convert:hover {\n",
              "      background-color: #E2EBFA;\n",
              "      box-shadow: 0px 1px 2px rgba(60, 64, 67, 0.3), 0px 1px 3px 1px rgba(60, 64, 67, 0.15);\n",
              "      fill: #174EA6;\n",
              "    }\n",
              "\n",
              "    .colab-df-buttons div {\n",
              "      margin-bottom: 4px;\n",
              "    }\n",
              "\n",
              "    [theme=dark] .colab-df-convert {\n",
              "      background-color: #3B4455;\n",
              "      fill: #D2E3FC;\n",
              "    }\n",
              "\n",
              "    [theme=dark] .colab-df-convert:hover {\n",
              "      background-color: #434B5C;\n",
              "      box-shadow: 0px 1px 3px 1px rgba(0, 0, 0, 0.15);\n",
              "      filter: drop-shadow(0px 1px 2px rgba(0, 0, 0, 0.3));\n",
              "      fill: #FFFFFF;\n",
              "    }\n",
              "  </style>\n",
              "\n",
              "    <script>\n",
              "      const buttonEl =\n",
              "        document.querySelector('#df-0a7feae0-2cec-45b6-b7e8-03930cfd5022 button.colab-df-convert');\n",
              "      buttonEl.style.display =\n",
              "        google.colab.kernel.accessAllowed ? 'block' : 'none';\n",
              "\n",
              "      async function convertToInteractive(key) {\n",
              "        const element = document.querySelector('#df-0a7feae0-2cec-45b6-b7e8-03930cfd5022');\n",
              "        const dataTable =\n",
              "          await google.colab.kernel.invokeFunction('convertToInteractive',\n",
              "                                                    [key], {});\n",
              "        if (!dataTable) return;\n",
              "\n",
              "        const docLinkHtml = 'Like what you see? Visit the ' +\n",
              "          '<a target=\"_blank\" href=https://colab.research.google.com/notebooks/data_table.ipynb>data table notebook</a>'\n",
              "          + ' to learn more about interactive tables.';\n",
              "        element.innerHTML = '';\n",
              "        dataTable['output_type'] = 'display_data';\n",
              "        await google.colab.output.renderOutput(dataTable, element);\n",
              "        const docLink = document.createElement('div');\n",
              "        docLink.innerHTML = docLinkHtml;\n",
              "        element.appendChild(docLink);\n",
              "      }\n",
              "    </script>\n",
              "  </div>\n",
              "\n",
              "\n",
              "<div id=\"df-104c5cec-0b5d-4b7e-8b3d-de5a1bb9d673\">\n",
              "  <button class=\"colab-df-quickchart\" onclick=\"quickchart('df-104c5cec-0b5d-4b7e-8b3d-de5a1bb9d673')\"\n",
              "            title=\"Suggest charts\"\n",
              "            style=\"display:none;\">\n",
              "\n",
              "<svg xmlns=\"http://www.w3.org/2000/svg\" height=\"24px\"viewBox=\"0 0 24 24\"\n",
              "     width=\"24px\">\n",
              "    <g>\n",
              "        <path d=\"M19 3H5c-1.1 0-2 .9-2 2v14c0 1.1.9 2 2 2h14c1.1 0 2-.9 2-2V5c0-1.1-.9-2-2-2zM9 17H7v-7h2v7zm4 0h-2V7h2v10zm4 0h-2v-4h2v4z\"/>\n",
              "    </g>\n",
              "</svg>\n",
              "  </button>\n",
              "\n",
              "<style>\n",
              "  .colab-df-quickchart {\n",
              "      --bg-color: #E8F0FE;\n",
              "      --fill-color: #1967D2;\n",
              "      --hover-bg-color: #E2EBFA;\n",
              "      --hover-fill-color: #174EA6;\n",
              "      --disabled-fill-color: #AAA;\n",
              "      --disabled-bg-color: #DDD;\n",
              "  }\n",
              "\n",
              "  [theme=dark] .colab-df-quickchart {\n",
              "      --bg-color: #3B4455;\n",
              "      --fill-color: #D2E3FC;\n",
              "      --hover-bg-color: #434B5C;\n",
              "      --hover-fill-color: #FFFFFF;\n",
              "      --disabled-bg-color: #3B4455;\n",
              "      --disabled-fill-color: #666;\n",
              "  }\n",
              "\n",
              "  .colab-df-quickchart {\n",
              "    background-color: var(--bg-color);\n",
              "    border: none;\n",
              "    border-radius: 50%;\n",
              "    cursor: pointer;\n",
              "    display: none;\n",
              "    fill: var(--fill-color);\n",
              "    height: 32px;\n",
              "    padding: 0;\n",
              "    width: 32px;\n",
              "  }\n",
              "\n",
              "  .colab-df-quickchart:hover {\n",
              "    background-color: var(--hover-bg-color);\n",
              "    box-shadow: 0 1px 2px rgba(60, 64, 67, 0.3), 0 1px 3px 1px rgba(60, 64, 67, 0.15);\n",
              "    fill: var(--button-hover-fill-color);\n",
              "  }\n",
              "\n",
              "  .colab-df-quickchart-complete:disabled,\n",
              "  .colab-df-quickchart-complete:disabled:hover {\n",
              "    background-color: var(--disabled-bg-color);\n",
              "    fill: var(--disabled-fill-color);\n",
              "    box-shadow: none;\n",
              "  }\n",
              "\n",
              "  .colab-df-spinner {\n",
              "    border: 2px solid var(--fill-color);\n",
              "    border-color: transparent;\n",
              "    border-bottom-color: var(--fill-color);\n",
              "    animation:\n",
              "      spin 1s steps(1) infinite;\n",
              "  }\n",
              "\n",
              "  @keyframes spin {\n",
              "    0% {\n",
              "      border-color: transparent;\n",
              "      border-bottom-color: var(--fill-color);\n",
              "      border-left-color: var(--fill-color);\n",
              "    }\n",
              "    20% {\n",
              "      border-color: transparent;\n",
              "      border-left-color: var(--fill-color);\n",
              "      border-top-color: var(--fill-color);\n",
              "    }\n",
              "    30% {\n",
              "      border-color: transparent;\n",
              "      border-left-color: var(--fill-color);\n",
              "      border-top-color: var(--fill-color);\n",
              "      border-right-color: var(--fill-color);\n",
              "    }\n",
              "    40% {\n",
              "      border-color: transparent;\n",
              "      border-right-color: var(--fill-color);\n",
              "      border-top-color: var(--fill-color);\n",
              "    }\n",
              "    60% {\n",
              "      border-color: transparent;\n",
              "      border-right-color: var(--fill-color);\n",
              "    }\n",
              "    80% {\n",
              "      border-color: transparent;\n",
              "      border-right-color: var(--fill-color);\n",
              "      border-bottom-color: var(--fill-color);\n",
              "    }\n",
              "    90% {\n",
              "      border-color: transparent;\n",
              "      border-bottom-color: var(--fill-color);\n",
              "    }\n",
              "  }\n",
              "</style>\n",
              "\n",
              "  <script>\n",
              "    async function quickchart(key) {\n",
              "      const quickchartButtonEl =\n",
              "        document.querySelector('#' + key + ' button');\n",
              "      quickchartButtonEl.disabled = true;  // To prevent multiple clicks.\n",
              "      quickchartButtonEl.classList.add('colab-df-spinner');\n",
              "      try {\n",
              "        const charts = await google.colab.kernel.invokeFunction(\n",
              "            'suggestCharts', [key], {});\n",
              "      } catch (error) {\n",
              "        console.error('Error during call to suggestCharts:', error);\n",
              "      }\n",
              "      quickchartButtonEl.classList.remove('colab-df-spinner');\n",
              "      quickchartButtonEl.classList.add('colab-df-quickchart-complete');\n",
              "    }\n",
              "    (() => {\n",
              "      let quickchartButtonEl =\n",
              "        document.querySelector('#df-104c5cec-0b5d-4b7e-8b3d-de5a1bb9d673 button');\n",
              "      quickchartButtonEl.style.display =\n",
              "        google.colab.kernel.accessAllowed ? 'block' : 'none';\n",
              "    })();\n",
              "  </script>\n",
              "</div>\n",
              "\n",
              "    </div>\n",
              "  </div>\n"
            ],
            "application/vnd.google.colaboratory.intrinsic+json": {
              "type": "dataframe",
              "variable_name": "df_encoded"
            }
          },
          "metadata": {},
          "execution_count": 7
        }
      ]
    },
    {
      "cell_type": "code",
      "source": [
        "########## data with feature engineering #############\n",
        "X = df_encoded.drop([\"ID\", \"ClaimAmount\", \"ClaimNb\", \"PurePremium\"], axis = 1)\n",
        "y = df_encoded[\"ClaimNb\"]/df_encoded[\"Exposure\"]\n",
        "\n",
        "# split data into train, test\n",
        "X_train, X_test, y_train, y_test = train_test_split(X, y, test_size=0.20, random_state=42)\n",
        "\n",
        "########## data without feature engineering #############\n",
        "X2 = df_encoded2.drop([\"ID\", \"ClaimAmount\", \"ClaimNb\", \"PurePremium\"], axis = 1)\n",
        "y2 = df_encoded2[\"ClaimNb\"]/df_encoded2[\"Exposure\"]\n",
        "\n",
        "# split data into train, test\n",
        "X_train2, X_test2, y_train2, y_test2 = train_test_split(X2, y2, test_size=0.20, random_state=42)\n",
        "\n",
        "########## data for catboost #############\n",
        "X3 = df_cat.drop([\"ID\", \"ClaimAmount\", \"ClaimNb\", \"PurePremium\"], axis = 1)\n",
        "y3 = df_cat[\"ClaimNb\"]/df_cat[\"Exposure\"]\n",
        "\n",
        "# split data into train, test\n",
        "X_train3, X_test3, y_train3, y_test3 = train_test_split(X3, y3, test_size=0.20, random_state=42)"
      ],
      "metadata": {
        "id": "Ncw_a0BLmae6"
      },
      "execution_count": null,
      "outputs": []
    },
    {
      "cell_type": "markdown",
      "source": [
        "# Frequency"
      ],
      "metadata": {
        "id": "J1JBAhwKlzbQ"
      }
    },
    {
      "cell_type": "markdown",
      "source": [
        "## Catboost"
      ],
      "metadata": {
        "id": "tgheFavPnFRi"
      }
    },
    {
      "cell_type": "code",
      "source": [
        "# further split train to train, val\n",
        "X_train_cat, X_val_cat, y_train_cat, y_val_cat = train_test_split(X_train3, y_train3, test_size=0.20, random_state=42)"
      ],
      "metadata": {
        "id": "AUfyYaFwmmyP"
      },
      "execution_count": null,
      "outputs": []
    },
    {
      "cell_type": "code",
      "source": [
        "train_pool = Pool(\n",
        "    X_train_cat.drop(\"Exposure\", axis = 1),\n",
        "    label = y_train_cat,\n",
        "    cat_features = [col for col in X_train_cat.columns if X_train_cat[col].dtype == 'object' and col != \"Exposure\"]\n",
        "\n",
        ")\n",
        "\n",
        "val_pool = Pool(\n",
        "    X_val_cat.drop(\"Exposure\", axis = 1),\n",
        "    label = y_val_cat,\n",
        "    cat_features = [col for col in X_val_cat.columns if X_val_cat[col].dtype == 'object' and col != \"Exposure\"]\n",
        "\n",
        ")\n",
        "\n",
        "test_pool = Pool(\n",
        "    X_test3.drop(\"Exposure\", axis = 1),\n",
        "    label = y_test3,\n",
        "    cat_features = [col for col in X_test3.columns if X_train3[col].dtype == 'object' and col != \"Exposure\"]\n",
        "\n",
        ")"
      ],
      "metadata": {
        "id": "upQpDqrdqZDo"
      },
      "execution_count": null,
      "outputs": []
    },
    {
      "cell_type": "code",
      "source": [
        "# fit a catboost model\n",
        "########################### Set random seed here ################################\n",
        "start_catboost_train = time.time()\n",
        "model_cat = CatBoostRegressor(objective = \"Poisson\", iterations = 1000,\n",
        "                              learning_rate = 0.01, depth = 8, verbose = 500, random_seed = 42)\n",
        "model_cat.fit(train_pool, plot = True, eval_set = val_pool, verbose = 500)\n",
        "end_catboost_train = time.time()\n",
        "catboost_train_time = end_catboost_train - start_catboost_train"
      ],
      "metadata": {
        "colab": {
          "base_uri": "https://localhost:8080/",
          "height": 156,
          "referenced_widgets": [
            "2dbf6f8298ac40bf99ee4b2409b6e7db"
          ]
        },
        "id": "k9P9r_cUqcVC",
        "outputId": "e2b299e1-4adb-4f2d-f2a9-865ba27b815d"
      },
      "execution_count": null,
      "outputs": [
        {
          "output_type": "display_data",
          "data": {
            "text/plain": [
              "MetricVisualizer(layout=Layout(align_self='stretch', height='500px'))"
            ],
            "application/vnd.jupyter.widget-view+json": {
              "version_major": 2,
              "version_minor": 0,
              "model_id": "2dbf6f8298ac40bf99ee4b2409b6e7db"
            }
          },
          "metadata": {}
        },
        {
          "output_type": "stream",
          "name": "stdout",
          "text": [
            "0:\tlearn: 0.9812913\ttest: 0.9813637\tbest: 0.9813637 (0)\ttotal: 339ms\tremaining: 5m 38s\n",
            "500:\tlearn: 0.3367204\ttest: 0.3674566\tbest: 0.3673144 (481)\ttotal: 2m 16s\tremaining: 2m 15s\n",
            "999:\tlearn: 0.3204330\ttest: 0.3689792\tbest: 0.3673144 (481)\ttotal: 4m 21s\tremaining: 0us\n",
            "\n",
            "bestTest = 0.3673144384\n",
            "bestIteration = 481\n",
            "\n",
            "Shrink model to first 482 iterations.\n"
          ]
        }
      ]
    },
    {
      "cell_type": "code",
      "source": [
        "cat_freq = model_cat.predict(test_pool)\n",
        "\n",
        "print(\"\\nPredicted frequency for the first \")\n",
        "print(f\"R^2: {round(r2_score(y_test3, cat_freq),7)}\")\n",
        "print(f\"MSE: {round(mean_squared_error(y_test3, cat_freq),7)}\")\n",
        "print(f\"MAE: {round(mean_absolute_error(y_test3, cat_freq),7)}\")"
      ],
      "metadata": {
        "colab": {
          "base_uri": "https://localhost:8080/"
        },
        "id": "fNJHE5kcrghc",
        "outputId": "daf0daa2-bad5-4d59-8a31-8f5c4fea1304"
      },
      "execution_count": null,
      "outputs": [
        {
          "output_type": "stream",
          "name": "stdout",
          "text": [
            "\n",
            "Predicted frequency for the first \n",
            "R^2: -0.0001415\n",
            "MSE: 4.7894211\n",
            "MAE: 0.2262257\n"
          ]
        }
      ]
    },
    {
      "cell_type": "markdown",
      "source": [
        "# Severity"
      ],
      "metadata": {
        "id": "PvKfnLlIsETB"
      }
    },
    {
      "cell_type": "markdown",
      "source": [
        "## Gamma model\n"
      ],
      "metadata": {
        "id": "yXYXhaNEsVDt"
      }
    },
    {
      "cell_type": "markdown",
      "source": [
        "**Gamma model is fitted on the original features <u>without</u> feature engineering**"
      ],
      "metadata": {
        "id": "BAnvZFWfsbLa"
      }
    },
    {
      "cell_type": "code",
      "source": [
        "############### this data is not used for gamma model, but it's for lightgbm ###############\n",
        "# outcome: severity\n",
        "y_gamma = df_encoded.apply(lambda row: 0 if row[\"ClaimNb\"] == 0 else row[\"ClaimAmount\"]/row[\"ClaimNb\"], axis = 1)\n",
        "X_gamma = df_encoded.drop([\"ID\", \"Exposure\", \"ClaimAmount\",\"PurePremium\"], axis = 1)\n",
        "X_train_gamma, X_test_gamma, y_train_gamma, y_test_gamma = train_test_split(X_gamma, y_gamma, test_size=0.20, random_state=42)"
      ],
      "metadata": {
        "id": "7l-w0hgGz74c"
      },
      "execution_count": null,
      "outputs": []
    },
    {
      "cell_type": "markdown",
      "source": [
        "## Lightgbm"
      ],
      "metadata": {
        "id": "21A3XiLEskU_"
      }
    },
    {
      "cell_type": "code",
      "source": [
        "# split data into train, test\n",
        "X_train_lgb, X_test_lgb, y_train_lgb, y_test_lgb = train_test_split(X_gamma, y_gamma, test_size=0.20, random_state=42)\n",
        "X_train_lgb, X_val_lgb, y_train_lgb, y_val_lgb = train_test_split(X_train_lgb, y_train_lgb, test_size=0.20, random_state=42)"
      ],
      "metadata": {
        "id": "U6gnZsjjtLLb"
      },
      "execution_count": null,
      "outputs": []
    },
    {
      "cell_type": "code",
      "source": [
        "# model 1\n",
        "nonzero_lgb1 = (y_train_lgb > 0)\n",
        "nonzero_lgb_val1 = (y_val_lgb > 0)\n",
        "\n",
        "train_data1 = lgb.Dataset(X_train_lgb.drop(\"ClaimNb\", axis = 1).loc[nonzero_lgb1,:], label=y_train_lgb[nonzero_lgb1])\n",
        "val_data1 = lgb.Dataset(X_val_lgb.drop(\"ClaimNb\", axis = 1).loc[nonzero_lgb_val1,:], label=y_val_lgb[nonzero_lgb_val1])\n",
        "test_data1 = lgb.Dataset(X_test_lgb.drop(\"ClaimNb\", axis = 1), label = y_test_gamma)"
      ],
      "metadata": {
        "id": "KmLCEZIXx53z"
      },
      "execution_count": null,
      "outputs": []
    },
    {
      "cell_type": "code",
      "source": [
        "# specify parameters\n",
        "params_lgb1 = {\n",
        "    'learning_rate': 0.001,\n",
        "    'n_estimators': 75,\n",
        "    'num_leaves': 25,\n",
        "    \"objective\": \"gamma\",\n",
        "}\n",
        "\n",
        "# train the first model\n",
        "########################### Set random seed here ################################\n",
        "start_lgb1 = time.time()\n",
        "model_lgb1 = lgb.train(\n",
        "    params_lgb1,\n",
        "    train_data1,\n",
        "    valid_sets = [val_data1],\n",
        "    num_boost_round = 500\n",
        ")\n",
        "end_lgb1 = time.time()\n",
        "lgb_train_time = end_lgb1 - start_lgb1\n",
        "pred_lgb1 = model_lgb1.predict(X_test.drop(\"Exposure\", axis = 1))"
      ],
      "metadata": {
        "colab": {
          "base_uri": "https://localhost:8080/"
        },
        "id": "4L7B2nZ0sS0g",
        "outputId": "1b9b9b45-69c0-413d-f8a9-7437c99b660a"
      },
      "execution_count": null,
      "outputs": [
        {
          "output_type": "stream",
          "name": "stdout",
          "text": [
            "[LightGBM] [Info] Auto-choosing row-wise multi-threading, the overhead of testing was 0.000351 seconds.\n",
            "You can set `force_row_wise=true` to remove the overhead.\n",
            "And if memory is not enough, you can set `force_col_wise=true`.\n",
            "[LightGBM] [Info] Total Bins 1902\n",
            "[LightGBM] [Info] Number of data points in the train set: 7864, number of used features: 39\n",
            "[LightGBM] [Info] Start training from score 7.718742\n"
          ]
        }
      ]
    },
    {
      "cell_type": "markdown",
      "source": [
        "# Final Prediction"
      ],
      "metadata": {
        "id": "MuCtvYAg5Vhc"
      }
    },
    {
      "cell_type": "code",
      "source": [
        "######## true values #########\n",
        "purepremium = df_encoded.loc[X_test.index, \"PurePremium\"]\n",
        "######## predicted values #########\n",
        "# 22th model (refer to googlesheets) with gamma\n",
        "purepremium_pred1 = cat_freq * pred_lgb1"
      ],
      "metadata": {
        "id": "GwUSMisa5SfO"
      },
      "execution_count": null,
      "outputs": []
    },
    {
      "cell_type": "code",
      "source": [
        "# print final result\n",
        "print(\"Model22, with gamma in lgb\")\n",
        "print(f\"R^2: {round(r2_score(purepremium, purepremium_pred1),7)}\")\n",
        "print(f\"MSE: {round(mean_squared_error(purepremium, purepremium_pred1),7)}\")\n",
        "print(f\"MAE: {round(mean_absolute_error(purepremium, purepremium_pred1),7)}\")\n",
        "print(f\"Total Training time: {round(catboost_train_time + lgb_train_time,2)} seconds\")"
      ],
      "metadata": {
        "colab": {
          "base_uri": "https://localhost:8080/"
        },
        "id": "NpaGmU-95c8O",
        "outputId": "10c8d7ca-cc38-42d8-81ec-397a916a401d"
      },
      "execution_count": null,
      "outputs": [
        {
          "output_type": "stream",
          "name": "stdout",
          "text": [
            "Model22, with gamma in lgb\n",
            "R^2: -5.15e-05\n",
            "MSE: 118863223.1769956\n",
            "MAE: 519.0587694\n",
            "Total Training time: 262.9 seconds\n"
          ]
        }
      ]
    },
    {
      "cell_type": "code",
      "source": [
        "########### Box plots for model 22 with gamma in lgb ###########\n",
        "\n",
        "fig, ax = plt.subplots(1, 2, figsize=(20, 6))\n",
        "\n",
        "# Predicted value plot\n",
        "ax[0].set_title(\"Predicted value\")\n",
        "ax[0].boxplot(purepremium_pred1, vert=False)\n",
        "ax[0].tick_params(axis=\"y\", left=False)  # Hide y-axis ticks for the first plot\n",
        "# ax[0].set_xlim(0,500)\n",
        "ax[0].set_yticklabels([])\n",
        "\n",
        "# True value plot\n",
        "ax[1].set_title(\"True value\")\n",
        "ax[1].boxplot(purepremium, vert=False)\n",
        "ax[1].tick_params(axis=\"y\", left=False)  # Hide y-axis ticks for the second plot\n",
        "ax[1].set_yticklabels([])\n",
        "\n",
        "plt.show()\n"
      ],
      "metadata": {
        "colab": {
          "base_uri": "https://localhost:8080/",
          "height": 315
        },
        "id": "DBoGoVg3OmmU",
        "outputId": "5121d71e-7c0e-4d8b-b433-9d189b072a1b"
      },
      "execution_count": null,
      "outputs": [
        {
          "output_type": "display_data",
          "data": {
            "text/plain": [
              "<Figure size 2000x600 with 2 Axes>"
            ],
            "image/png": "[encoded data removed]"
          },
          "metadata": {}
        }
      ]
    },
    {
      "cell_type": "code",
      "source": [
        "# Load holdout dataset\n",
        "holdout_df = pd.read_csv(\"X_holdout_20250212.csv\")\n",
        "\n",
        "# Extract ID column\n",
        "ids = holdout_df.iloc[:, 0]  # First column is ID\n",
        "\n",
        "# Select only feature columns (excluding ID)\n",
        "X_holdout_cat = holdout_df.iloc[:, 1:].copy()  # For CatBoost (raw categorical)\n",
        "X_holdout_lgb = X_holdout_cat.copy()  # Copy for LightGBM (dummy-encoded)\n",
        "\n",
        "### ---- Feature Engineering for Both Versions ---- ###\n",
        "for df in [X_holdout_cat, X_holdout_lgb]:\n",
        "    df['CarAge_2'] = df['CarAge'] ** 2\n",
        "    df['CarAge_3'] = df['CarAge'] ** 3\n",
        "    df['DriverAge_2'] = df['DriverAge'] ** 2\n",
        "    df['DriverAge_3'] = df['DriverAge'] ** 3\n",
        "    df['Density_2'] = df['Density'] ** 2\n",
        "    df['Density_3'] = df['Density'] ** 3\n",
        "    df['CarAge_DriverAge'] = df['CarAge'] * df['DriverAge']\n",
        "    df['Density_DriverAge'] = df['Density'] * df['DriverAge']\n",
        "    df['Density_CarAge'] = df['Density'] * df['CarAge']\n",
        "\n",
        "### ---- Standardization for Both Versions ---- ###\n",
        "cols_to_standardize = [\"CarAge\", \"DriverAge\", \"Density\", \"CarAge_2\", \"CarAge_3\",\n",
        "                       \"DriverAge_2\", \"DriverAge_3\", \"Density_2\", \"Density_3\",\n",
        "                       \"CarAge_DriverAge\", \"Density_DriverAge\", \"Density_CarAge\"]\n",
        "\n",
        "for df in [X_holdout_cat, X_holdout_lgb]:\n",
        "    for col in cols_to_standardize:\n",
        "        df[col] = (df[col] - df[col].mean()) / df[col].std()\n",
        "\n",
        "### ---- Dummy Encoding for LightGBM Version ---- ###\n",
        "X_holdout_lgb = pd.get_dummies(X_holdout_lgb, columns=['Power', 'Brand', 'Gas', 'Region'], drop_first=True)\n",
        "\n",
        "# Convert dummy variables to int\n",
        "dummy_columns = X_holdout_lgb.select_dtypes(include=['bool']).columns\n",
        "X_holdout_lgb[dummy_columns] = X_holdout_lgb[dummy_columns].astype(int)\n",
        "\n",
        "### ---- Rename Columns to Match Training Data (LightGBM) ---- ###\n",
        "X_holdout_lgb = X_holdout_lgb.rename(columns={\n",
        "    'Brand_Volkswagen, Audi, Skoda or Seat': 'Brand_Volkswagen_Audi_Skoda_or_Seat',\n",
        "    'Brand_Renault, Nissan or Citroen': 'Brand_Renault_Nissan_or_Citroen',\n",
        "    'Brand_Japanese (except Nissan) or Korean': 'Brand_Japanese_Excl_Nissan_or_Korean',\n",
        "    'Brand_Opel, General Motors or Ford': 'Brand_Opel_GeneralMotors_Ford',\n",
        "    'Brand_other': 'Brand_other',\n",
        "    'Brand_Mercedes, Chrysler or BMW': 'Brand_Mercedes_Chrysler_BMW',\n",
        "    'Brand_Fiat': 'Brand_Fiat',\n",
        "    'Region_Basse-Normandie': 'Region_Basse_Normandie',\n",
        "    'Region_Bretagne': 'Region_Bretagne',\n",
        "    'Region_Centre': 'Region_Centre',\n",
        "    'Region_Haute-Normandie': 'Region_Haute_Normandie',\n",
        "    'Region_Ile-de-France': 'Region_Ile_de_France',\n",
        "    'Region_Limousin': 'Region_Limousin',\n",
        "    'Region_Nord-Pas-de-Calais': 'Region_Nord_Pas_de_Calais',\n",
        "    'Region_Pays-de-la-Loire': 'Region_Pays_de_la_Loire',\n",
        "    'Region_Poitou-Charentes': 'Region_Poitou_Charentes'\n",
        "})\n",
        "\n",
        "### ---- Predict Frequency Using CatBoost (df_cat) ---- ###\n",
        "cat_freq = model_cat.predict(X_holdout_cat)\n",
        "\n",
        "### ---- Predict Severity Using LightGBM (df_encoded) ---- ###\n",
        "# Predict severity\n",
        "pred_lgb1 = model_lgb1.predict(X_holdout_lgb)\n",
        "\n",
        "### ---- Calculate Pure Premium ---- ###\n",
        "purepremium_pred = cat_freq * pred_lgb1\n"
      ],
      "metadata": {
        "id": "_CDnuXZ9g6a2"
      },
      "execution_count": null,
      "outputs": []
    },
    {
      "cell_type": "code",
      "source": [
        "# Number of bootstrap samples\n",
        "n_bootstrap = 1000\n",
        "\n",
        "# Store bootstrap predictions\n",
        "bootstrap_preds = []\n",
        "\n",
        "for _ in range(n_bootstrap):\n",
        "    # Resample the holdout set with replacement\n",
        "    X_holdout_boot = X_holdout_cat.sample(frac=1, replace=True, random_state=_)\n",
        "    X_holdout_lgb_boot = X_holdout_lgb.loc[X_holdout_boot.index].copy()\n",
        "\n",
        "    # Predict frequency and severity for bootstrap sample\n",
        "    cat_freq_boot = model_cat.predict(X_holdout_boot)\n",
        "    pred_lgb_boot = model_lgb1.predict(X_holdout_lgb_boot)\n",
        "\n",
        "    # Compute pure premium\n",
        "    purepremium_boot = cat_freq_boot * pred_lgb_boot\n",
        "    bootstrap_preds.append(purepremium_boot)\n",
        "\n",
        "# Convert bootstrap results to DataFrame\n",
        "bootstrap_preds = np.array(bootstrap_preds).T  # Transpose to get shape (n_samples, n_bootstrap)\n",
        "\n",
        "# Compute predictive intervals (5th and 95th percentiles)\n",
        "lower_bound = np.percentile(bootstrap_preds, 5, axis=1)\n",
        "upper_bound = np.percentile(bootstrap_preds, 95, axis=1)\n",
        "\n",
        "# Create final output DataFrame\n",
        "output_df = pd.DataFrame({\n",
        "    \"ID\": ids,\n",
        "    \"Predicted_PurePremium\": purepremium_pred,\n",
        "    \"Lower_Bound\": lower_bound,\n",
        "    \"Upper_Bound\": upper_bound\n",
        "})\n",
        "\n",
        "# Save to CSV\n",
        "output_df.to_csv(\"predicted_pure_premium_with_intervals.csv\", index=False)\n",
        "\n",
        "print(\"Prediction with intervals complete! Results saved as 'predicted_pure_premium_with_intervals.csv'.\")\n"
      ],
      "metadata": {
        "colab": {
          "base_uri": "https://localhost:8080/"
        },
        "id": "sOXo7FeWi64P",
        "outputId": "7adf9fa6-0b09-4722-f63d-06b6caceff2e"
      },
      "execution_count": null,
      "outputs": [
        {
          "output_type": "stream",
          "name": "stdout",
          "text": [
            "Prediction with intervals complete! Results saved as 'predicted_pure_premium_with_intervals.csv'.\n"
          ]
        }
      ]
    }
  ]
}